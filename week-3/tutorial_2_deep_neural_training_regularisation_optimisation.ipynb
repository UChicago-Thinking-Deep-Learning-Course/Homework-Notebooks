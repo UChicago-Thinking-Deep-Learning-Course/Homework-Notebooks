{
  "nbformat": 4,
  "nbformat_minor": 0,
  "metadata": {
    "colab": {
      "name": "tutorial_2_deep_neural_training_regularisation_optimisation.ipynb",
      "provenance": [],
      "collapsed_sections": [
        "DOLXOWVE11KA"
      ],
      "toc_visible": true
    },
    "kernelspec": {
      "name": "python3",
      "display_name": "Python 3"
    },
    "language_info": {
      "name": "python"
    },
    "accelerator": "GPU"
  },
  "cells": [
    {
      "cell_type": "markdown",
      "metadata": {
        "id": "lndrreUlTBLg"
      },
      "source": [
        "# Thinking with Deep Learning: Week 3 Part 2\n",
        "# Optimization and Regularisation for Deep Neural Architectures\n",
        "\n",
        "__Instructor:__ James Evans\n",
        "\n",
        "__Teaching Assistants & Content Creators:__ Bhargav Srinivasa Desikan, Likun Cao\n",
        "\n",
        "In this notebook we will focus on the many techniques which actually get neural networks to run - optimization and regularisation. In the last notebook we focused on quickly getting models whipped up and ready to go for a variety of tasks, data and settings. In this notebook our approach will be quite different, and we will rather focus on working on just one kind of problem, of image classification - by keeping the problem fixed, we can then really focus on what each of the different optimisation and regularisation procedures do.\n",
        "\n",
        "\n",
        "\n",
        "This notebooks features some code and concepts from the UPenn CS-522 course, specifically their [week 4 on Optimisation](https://github.com/CIS-522/course-content/tree/main/tutorials/W04_Optimization), and [week 5 on Regularisation](https://github.com/CIS-522/course-content/tree/main/tutorials/W05_Regularization), and we are grateful for their content and support! We would also highly recommend them as resources for more code and content on optimisation, regularisation, and other content on deep learning.\n",
        "\n",
        "**Notes about the tutorial**: Much like the last tutorial, there is a lot more code here. Once again, a lot of that code is just to setup data and some of the neural nets, and we have tried to comment the code as extensively as possible. Like last time, we highly recommend looking at the homework at the bottom of the notebook so that you can manage your time on the notebook better. Getting to know about the possible range of optimization options and regularisation options is a very helpful (and necessary) exercise to get the most out of your deep neural models. Throughout this notebook, you will also encounter some exploratory questions. You need not answer them in the notebook but you are encouraged to search for the answers (or ask us if you can't find them!).\n",
        "\n",
        "Your purpose in this notebook is to be able to adapt your Keras or PyTorch models with the various techniques we discuss below. All the primary code in the notebook is in PyTorch with links to resources or documentation for similar options in Keras.\n"
      ]
    },
    {
      "cell_type": "markdown",
      "metadata": {
        "id": "DOLXOWVE11KA"
      },
      "source": [
        "\n",
        "\n",
        "# Optimization"
      ]
    },
    {
      "cell_type": "code",
      "metadata": {
        "id": "kDT9Cui213mV"
      },
      "source": [
        "# imports\n",
        "from __future__ import print_function\n",
        "import torch\n",
        "import torch.nn as nn\n",
        "import torch.nn.functional as F\n",
        "import torch.optim as optim\n",
        "from torchvision import datasets, transforms\n",
        "from torch.optim.lr_scheduler import StepLR\n",
        "from torch.utils.data import Dataset\n",
        "import time\n",
        "import numpy as np\n",
        "import matplotlib.pyplot as plt\n",
        "from collections import defaultdict\n",
        "import requests\n",
        "import io\n",
        "from urllib.request import urlopen\n"
      ],
      "execution_count": 1,
      "outputs": []
    },
    {
      "cell_type": "markdown",
      "metadata": {
        "id": "83AdYyW_XHpQ"
      },
      "source": [
        "---\n",
        "## Minibatch stochastic gradient descent (SGD)"
      ]
    },
    {
      "cell_type": "markdown",
      "metadata": {
        "id": "ZCCvrYFbMULT"
      },
      "source": [
        "In stochastic gradient descent, we replace the actual gradient vector with a stochastic estimation of the gradient vector. Specifically for a neural network, the stochastic estimation uses the gradient of the loss for a single data point (single instance).\n",
        "\n",
        "Given $f_i=l(x_i, y_i, w)$, the expected value of the $t$-th step of SGD is the same as the $t$-th step of full gradient descent.\n",
        "\n",
        "$$\\mathbb{E}[w_{t+1}]=w_t-\\eta \\mathbb{E}[\\nabla f_i(w_t)]=w_t-\\eta\\nabla f(w_t)$$\n",
        "\n",
        "where $i$ is chosen uniformly at random, thereby $f_i$ is a noisy but unbiased estimator of $f$.\n",
        "\n",
        "$$w_{t+1}=w_t-\\eta\\nabla f_i(w_t)$$\n",
        "\n",
        "We update the weights according to the gradient over $f_i$ (as opposed to the gradient over the total loss $f$).\n",
        "\n",
        "SGD advantages:\n",
        "*   The noise in the SGD update can prevent convergence to a bad (shallow) local minima.\n",
        "*   It is drastically cheaper to compute (as you don’t go over all data points).\n",
        "\n",
        "\n",
        "### Minibatching\n",
        "\n",
        "Often we are able to make better use of our hardware by using mini batches instead of single instances. We compute the loss over a mini-batch -- a set of randomly selected instances instead of calculating it over just one instance. This reduces the noise in the step update.\n",
        "\n",
        "Given the $t$th minibatch $B_t$ consisting of $k$ observations: \n",
        "\n",
        "$$w_{t+1}=w_t-\\eta \\frac{1}{|B_t|}\\sum_{i\\in B}\\nabla f_i(w_t)$$\n"
      ]
    },
    {
      "cell_type": "markdown",
      "metadata": {
        "id": "xDZ_GaUJ7DGd"
      },
      "source": [
        "One of the main constraints of training deep neural networks is the relative limited size of GPU memory. Being able to quickly estimate if your minibatch size can be held in that memory will save you time and out-of-memory errors.\n",
        "\n",
        "What do we need to store at training time? \n",
        "- outputs of intermediate layers (forward pass): \n",
        "- model parameters\n",
        "- error signal at each neuron\n",
        "- the gradient of parameters\n",
        "plus any extra memory needed by optimizer (e.g. for momentum)\n",
        "\n"
      ]
    },
    {
      "cell_type": "code",
      "metadata": {
        "id": "E6vakYTg1YcU"
      },
      "source": [
        "class Net(nn.Module):\n",
        "    def __init__(self):\n",
        "        super(Net, self).__init__()\n",
        "        self.fc1 = nn.Linear(784, 128)\n",
        "        self.fc2 = nn.Linear(128, 10)\n",
        "\n",
        "    def forward(self, x):\n",
        "        x = torch.flatten(x, 1)\n",
        "        x = self.fc1(x)\n",
        "        x = F.relu(x)\n",
        "        x = self.fc2(x)\n",
        "        output = F.log_softmax(x, dim=1)\n",
        "        return output"
      ],
      "execution_count": 2,
      "outputs": []
    },
    {
      "cell_type": "code",
      "metadata": {
        "id": "n8HmOeDH1ZCM"
      },
      "source": [
        "def train(args, model, device, train_loader, optimizer, epoch):\n",
        "    model.train()\n",
        "    for batch_idx, (data, target) in enumerate(train_loader):\n",
        "        data, target = data.to(device), target.to(device)\n",
        "        # set optimiser to zero\n",
        "        optimizer.zero_grad()\n",
        "        # pass the data through the model\n",
        "        output = model(data)\n",
        "        # calculate loss\n",
        "        loss = F.nll_loss(output, target)\n",
        "        # backprop\n",
        "        loss.backward()\n",
        "        # move optimiser\n",
        "        optimizer.step()\n",
        "        if batch_idx % args['log_interval'] == 0:\n",
        "            print('Train Epoch: {} [{}/{} ({:.0f}%)]\\tLoss: {:.6f}'.format(\n",
        "                epoch, batch_idx * len(data), len(train_loader.dataset),\n",
        "                100. * batch_idx / len(train_loader), loss.item()))"
      ],
      "execution_count": 3,
      "outputs": []
    },
    {
      "cell_type": "code",
      "metadata": {
        "id": "BgKU3GKo1bAC"
      },
      "source": [
        "def test(model, device, test_loader):\n",
        "    model.eval()\n",
        "    test_loss = 0\n",
        "    correct = 0\n",
        "    with torch.no_grad():\n",
        "        for data, target in test_loader:\n",
        "            data, target = data.to(device), target.to(device)\n",
        "            output = model(data)\n",
        "            test_loss += F.nll_loss(output, target, reduction='sum').item()  # sum up batch loss\n",
        "            pred = output.argmax(dim=1, keepdim=True)  # get the index of the max log-probability\n",
        "            correct += pred.eq(target.view_as(pred)).sum().item()\n",
        "\n",
        "    test_loss /= len(test_loader.dataset)\n",
        "\n",
        "    print('\\nTest set: Average loss: {:.4f}, Accuracy: {}/{} ({:.4f}%)\\n'.format(\n",
        "        test_loss, correct, len(test_loader.dataset),\n",
        "        100. * correct / len(test_loader.dataset)))\n",
        "    return 100. * correct / len(test_loader.dataset)"
      ],
      "execution_count": 4,
      "outputs": []
    },
    {
      "cell_type": "code",
      "metadata": {
        "id": "QLeBA59k88ON"
      },
      "source": [
        "def main(args):\n",
        "    use_cuda = not args['no_cuda'] and torch.cuda.is_available()\n",
        "    torch.manual_seed(args['seed'])\n",
        "    device = torch.device('cuda' if use_cuda else 'cpu')\n",
        "\n",
        "    train_kwargs = {'batch_size': args['batch_size']}\n",
        "    test_kwargs = {'batch_size': args['test_batch_size']}\n",
        "    if use_cuda:\n",
        "        cuda_kwargs = {'num_workers': 1,\n",
        "                       'pin_memory': True,\n",
        "                       'shuffle': True}\n",
        "        train_kwargs.update(cuda_kwargs)\n",
        "        test_kwargs.update(cuda_kwargs)\n",
        "\n",
        "    transform=transforms.Compose([\n",
        "        transforms.ToTensor(),\n",
        "        transforms.Normalize((0.1307,), (0.3081,))\n",
        "        ])\n",
        "    train_loader = torch.utils.data.DataLoader(datasets.MNIST('../data', train=True, download=True,\n",
        "                       transform=transform),**train_kwargs)\n",
        "    test_loader = torch.utils.data.DataLoader(datasets.MNIST('../data', train=False,\n",
        "                       transform=transform), **test_kwargs)\n",
        "\n",
        "    model = Net().to(device)\n",
        "    optimizer = optim.SGD(model.parameters(), lr=args['lr'], momentum=args['momentum'])\n",
        "\n",
        "    acc_list, time_list = [], []\n",
        "    start_time = time.time()\n",
        "    for epoch in range(1, args['epochs'] + 1):\n",
        "        train(args, model, device, train_loader, optimizer, epoch)\n",
        "        time_list.append(time.time()-start_time)\n",
        "        acc = test(model, device, test_loader)\n",
        "        acc_list.append(acc)\n",
        "\n",
        "    return acc_list, time_list"
      ],
      "execution_count": 5,
      "outputs": []
    },
    {
      "cell_type": "code",
      "metadata": {
        "id": "GdQDkTa8-pxK"
      },
      "source": [
        "# Training settings\n",
        "args = {'batch_size': 32,\n",
        "        'test_batch_size': 1000,\n",
        "        'epochs': 3,\n",
        "        'lr': 0.01,\n",
        "        'momentum': 0.9,\n",
        "        'no_cuda': False,\n",
        "        'seed': 1,\n",
        "        'log_interval': 100\n",
        "        }\n",
        "\n",
        "batch_size = [8, 16, 32, 64, 256, 512, 1024]\n",
        "acc_dict = {}\n",
        "test_acc = []"
      ],
      "execution_count": 6,
      "outputs": []
    },
    {
      "cell_type": "code",
      "metadata": {
        "id": "z7j305cf8_lW",
        "colab": {
          "base_uri": "https://localhost:8080/"
        },
        "outputId": "60c87a9d-3831-4826-b9dc-b61700cac175"
      },
      "source": [
        "\n",
        "\n",
        "for i in range(len(batch_size)):\n",
        "    args['batch_size'] = batch_size[i]\n",
        "    acc, timer = main(args)\n",
        "    acc_dict['acc'+str(batch_size[i])] = acc\n",
        "    acc_dict['time'+str(batch_size[i])] = timer\n",
        "    test_acc.append(acc[-1])"
      ],
      "execution_count": 7,
      "outputs": [
        {
          "output_type": "stream",
          "text": [
            "Train Epoch: 1 [0/60000 (0%)]\tLoss: 2.372123\n",
            "Train Epoch: 1 [800/60000 (1%)]\tLoss: 0.239777\n",
            "Train Epoch: 1 [1600/60000 (3%)]\tLoss: 0.448986\n",
            "Train Epoch: 1 [2400/60000 (4%)]\tLoss: 0.682191\n",
            "Train Epoch: 1 [3200/60000 (5%)]\tLoss: 0.087143\n",
            "Train Epoch: 1 [4000/60000 (7%)]\tLoss: 0.204913\n",
            "Train Epoch: 1 [4800/60000 (8%)]\tLoss: 0.135260\n",
            "Train Epoch: 1 [5600/60000 (9%)]\tLoss: 0.160104\n",
            "Train Epoch: 1 [6400/60000 (11%)]\tLoss: 0.233126\n",
            "Train Epoch: 1 [7200/60000 (12%)]\tLoss: 0.740059\n",
            "Train Epoch: 1 [8000/60000 (13%)]\tLoss: 0.026902\n",
            "Train Epoch: 1 [8800/60000 (15%)]\tLoss: 0.109436\n",
            "Train Epoch: 1 [9600/60000 (16%)]\tLoss: 0.009062\n",
            "Train Epoch: 1 [10400/60000 (17%)]\tLoss: 0.017327\n",
            "Train Epoch: 1 [11200/60000 (19%)]\tLoss: 0.344575\n",
            "Train Epoch: 1 [12000/60000 (20%)]\tLoss: 0.011081\n",
            "Train Epoch: 1 [12800/60000 (21%)]\tLoss: 0.785516\n",
            "Train Epoch: 1 [13600/60000 (23%)]\tLoss: 0.096689\n",
            "Train Epoch: 1 [14400/60000 (24%)]\tLoss: 0.313701\n",
            "Train Epoch: 1 [15200/60000 (25%)]\tLoss: 0.029086\n",
            "Train Epoch: 1 [16000/60000 (27%)]\tLoss: 0.127179\n",
            "Train Epoch: 1 [16800/60000 (28%)]\tLoss: 1.610911\n",
            "Train Epoch: 1 [17600/60000 (29%)]\tLoss: 0.035197\n",
            "Train Epoch: 1 [18400/60000 (31%)]\tLoss: 0.295625\n",
            "Train Epoch: 1 [19200/60000 (32%)]\tLoss: 0.103032\n",
            "Train Epoch: 1 [20000/60000 (33%)]\tLoss: 0.761033\n",
            "Train Epoch: 1 [20800/60000 (35%)]\tLoss: 0.857438\n",
            "Train Epoch: 1 [21600/60000 (36%)]\tLoss: 0.028135\n",
            "Train Epoch: 1 [22400/60000 (37%)]\tLoss: 0.071074\n",
            "Train Epoch: 1 [23200/60000 (39%)]\tLoss: 0.456148\n",
            "Train Epoch: 1 [24000/60000 (40%)]\tLoss: 0.004165\n",
            "Train Epoch: 1 [24800/60000 (41%)]\tLoss: 0.129142\n",
            "Train Epoch: 1 [25600/60000 (43%)]\tLoss: 0.004654\n",
            "Train Epoch: 1 [26400/60000 (44%)]\tLoss: 0.050554\n",
            "Train Epoch: 1 [27200/60000 (45%)]\tLoss: 0.018805\n",
            "Train Epoch: 1 [28000/60000 (47%)]\tLoss: 0.016063\n",
            "Train Epoch: 1 [28800/60000 (48%)]\tLoss: 0.003705\n",
            "Train Epoch: 1 [29600/60000 (49%)]\tLoss: 0.344256\n",
            "Train Epoch: 1 [30400/60000 (51%)]\tLoss: 0.001117\n",
            "Train Epoch: 1 [31200/60000 (52%)]\tLoss: 0.746211\n",
            "Train Epoch: 1 [32000/60000 (53%)]\tLoss: 0.019212\n",
            "Train Epoch: 1 [32800/60000 (55%)]\tLoss: 0.011710\n",
            "Train Epoch: 1 [33600/60000 (56%)]\tLoss: 0.024892\n",
            "Train Epoch: 1 [34400/60000 (57%)]\tLoss: 0.071267\n",
            "Train Epoch: 1 [35200/60000 (59%)]\tLoss: 0.030578\n",
            "Train Epoch: 1 [36000/60000 (60%)]\tLoss: 0.003893\n",
            "Train Epoch: 1 [36800/60000 (61%)]\tLoss: 0.196244\n",
            "Train Epoch: 1 [37600/60000 (63%)]\tLoss: 0.512601\n",
            "Train Epoch: 1 [38400/60000 (64%)]\tLoss: 0.011647\n",
            "Train Epoch: 1 [39200/60000 (65%)]\tLoss: 0.006641\n",
            "Train Epoch: 1 [40000/60000 (67%)]\tLoss: 0.001112\n",
            "Train Epoch: 1 [40800/60000 (68%)]\tLoss: 0.398958\n",
            "Train Epoch: 1 [41600/60000 (69%)]\tLoss: 0.000143\n",
            "Train Epoch: 1 [42400/60000 (71%)]\tLoss: 0.010863\n",
            "Train Epoch: 1 [43200/60000 (72%)]\tLoss: 1.348366\n",
            "Train Epoch: 1 [44000/60000 (73%)]\tLoss: 0.114652\n",
            "Train Epoch: 1 [44800/60000 (75%)]\tLoss: 0.855307\n",
            "Train Epoch: 1 [45600/60000 (76%)]\tLoss: 0.005297\n",
            "Train Epoch: 1 [46400/60000 (77%)]\tLoss: 0.617777\n",
            "Train Epoch: 1 [47200/60000 (79%)]\tLoss: 0.084855\n",
            "Train Epoch: 1 [48000/60000 (80%)]\tLoss: 0.000023\n",
            "Train Epoch: 1 [48800/60000 (81%)]\tLoss: 0.575029\n",
            "Train Epoch: 1 [49600/60000 (83%)]\tLoss: 1.239793\n",
            "Train Epoch: 1 [50400/60000 (84%)]\tLoss: 0.133625\n",
            "Train Epoch: 1 [51200/60000 (85%)]\tLoss: 0.028538\n",
            "Train Epoch: 1 [52000/60000 (87%)]\tLoss: 0.201285\n",
            "Train Epoch: 1 [52800/60000 (88%)]\tLoss: 0.006751\n",
            "Train Epoch: 1 [53600/60000 (89%)]\tLoss: 0.000513\n",
            "Train Epoch: 1 [54400/60000 (91%)]\tLoss: 0.040247\n",
            "Train Epoch: 1 [55200/60000 (92%)]\tLoss: 0.061683\n",
            "Train Epoch: 1 [56000/60000 (93%)]\tLoss: 0.827805\n",
            "Train Epoch: 1 [56800/60000 (95%)]\tLoss: 0.033880\n",
            "Train Epoch: 1 [57600/60000 (96%)]\tLoss: 0.000353\n",
            "Train Epoch: 1 [58400/60000 (97%)]\tLoss: 0.853862\n",
            "Train Epoch: 1 [59200/60000 (99%)]\tLoss: 0.265086\n",
            "\n",
            "Test set: Average loss: 0.2371, Accuracy: 9416/10000 (94.1600%)\n",
            "\n",
            "Train Epoch: 2 [0/60000 (0%)]\tLoss: 0.412121\n",
            "Train Epoch: 2 [800/60000 (1%)]\tLoss: 0.188770\n",
            "Train Epoch: 2 [1600/60000 (3%)]\tLoss: 0.109072\n",
            "Train Epoch: 2 [2400/60000 (4%)]\tLoss: 0.360795\n",
            "Train Epoch: 2 [3200/60000 (5%)]\tLoss: 0.209469\n",
            "Train Epoch: 2 [4000/60000 (7%)]\tLoss: 0.007120\n",
            "Train Epoch: 2 [4800/60000 (8%)]\tLoss: 0.021351\n",
            "Train Epoch: 2 [5600/60000 (9%)]\tLoss: 0.013602\n",
            "Train Epoch: 2 [6400/60000 (11%)]\tLoss: 0.000719\n",
            "Train Epoch: 2 [7200/60000 (12%)]\tLoss: 0.247885\n",
            "Train Epoch: 2 [8000/60000 (13%)]\tLoss: 0.218366\n",
            "Train Epoch: 2 [8800/60000 (15%)]\tLoss: 0.000705\n",
            "Train Epoch: 2 [9600/60000 (16%)]\tLoss: 0.034568\n",
            "Train Epoch: 2 [10400/60000 (17%)]\tLoss: 0.083363\n",
            "Train Epoch: 2 [11200/60000 (19%)]\tLoss: 0.000310\n",
            "Train Epoch: 2 [12000/60000 (20%)]\tLoss: 0.061054\n",
            "Train Epoch: 2 [12800/60000 (21%)]\tLoss: 0.004784\n",
            "Train Epoch: 2 [13600/60000 (23%)]\tLoss: 0.034029\n",
            "Train Epoch: 2 [14400/60000 (24%)]\tLoss: 0.113694\n",
            "Train Epoch: 2 [15200/60000 (25%)]\tLoss: 0.024402\n",
            "Train Epoch: 2 [16000/60000 (27%)]\tLoss: 0.125118\n",
            "Train Epoch: 2 [16800/60000 (28%)]\tLoss: 0.021606\n",
            "Train Epoch: 2 [17600/60000 (29%)]\tLoss: 0.015398\n",
            "Train Epoch: 2 [18400/60000 (31%)]\tLoss: 0.004533\n",
            "Train Epoch: 2 [19200/60000 (32%)]\tLoss: 0.002662\n",
            "Train Epoch: 2 [20000/60000 (33%)]\tLoss: 0.017842\n",
            "Train Epoch: 2 [20800/60000 (35%)]\tLoss: 0.864135\n",
            "Train Epoch: 2 [21600/60000 (36%)]\tLoss: 0.520465\n",
            "Train Epoch: 2 [22400/60000 (37%)]\tLoss: 0.006995\n",
            "Train Epoch: 2 [23200/60000 (39%)]\tLoss: 0.055424\n",
            "Train Epoch: 2 [24000/60000 (40%)]\tLoss: 0.002533\n",
            "Train Epoch: 2 [24800/60000 (41%)]\tLoss: 0.646434\n",
            "Train Epoch: 2 [25600/60000 (43%)]\tLoss: 0.089977\n",
            "Train Epoch: 2 [26400/60000 (44%)]\tLoss: 0.219326\n",
            "Train Epoch: 2 [27200/60000 (45%)]\tLoss: 0.905045\n",
            "Train Epoch: 2 [28000/60000 (47%)]\tLoss: 0.000714\n",
            "Train Epoch: 2 [28800/60000 (48%)]\tLoss: 1.116317\n",
            "Train Epoch: 2 [29600/60000 (49%)]\tLoss: 0.464041\n",
            "Train Epoch: 2 [30400/60000 (51%)]\tLoss: 0.214272\n",
            "Train Epoch: 2 [31200/60000 (52%)]\tLoss: 0.019510\n",
            "Train Epoch: 2 [32000/60000 (53%)]\tLoss: 0.004278\n",
            "Train Epoch: 2 [32800/60000 (55%)]\tLoss: 0.075144\n",
            "Train Epoch: 2 [33600/60000 (56%)]\tLoss: 0.820721\n",
            "Train Epoch: 2 [34400/60000 (57%)]\tLoss: 0.001883\n",
            "Train Epoch: 2 [35200/60000 (59%)]\tLoss: 0.026034\n",
            "Train Epoch: 2 [36000/60000 (60%)]\tLoss: 0.320508\n",
            "Train Epoch: 2 [36800/60000 (61%)]\tLoss: 0.322699\n",
            "Train Epoch: 2 [37600/60000 (63%)]\tLoss: 0.083210\n",
            "Train Epoch: 2 [38400/60000 (64%)]\tLoss: 0.132706\n",
            "Train Epoch: 2 [39200/60000 (65%)]\tLoss: 0.000261\n",
            "Train Epoch: 2 [40000/60000 (67%)]\tLoss: 0.772346\n",
            "Train Epoch: 2 [40800/60000 (68%)]\tLoss: 0.110365\n",
            "Train Epoch: 2 [41600/60000 (69%)]\tLoss: 0.120161\n",
            "Train Epoch: 2 [42400/60000 (71%)]\tLoss: 0.383359\n",
            "Train Epoch: 2 [43200/60000 (72%)]\tLoss: 0.529193\n",
            "Train Epoch: 2 [44000/60000 (73%)]\tLoss: 0.005159\n",
            "Train Epoch: 2 [44800/60000 (75%)]\tLoss: 0.412684\n",
            "Train Epoch: 2 [45600/60000 (76%)]\tLoss: 0.162719\n",
            "Train Epoch: 2 [46400/60000 (77%)]\tLoss: 0.001489\n",
            "Train Epoch: 2 [47200/60000 (79%)]\tLoss: 0.374799\n",
            "Train Epoch: 2 [48000/60000 (80%)]\tLoss: 1.643933\n",
            "Train Epoch: 2 [48800/60000 (81%)]\tLoss: 0.000524\n",
            "Train Epoch: 2 [49600/60000 (83%)]\tLoss: 0.075229\n",
            "Train Epoch: 2 [50400/60000 (84%)]\tLoss: 1.314822\n",
            "Train Epoch: 2 [51200/60000 (85%)]\tLoss: 0.250869\n",
            "Train Epoch: 2 [52000/60000 (87%)]\tLoss: 0.005628\n",
            "Train Epoch: 2 [52800/60000 (88%)]\tLoss: 0.101434\n",
            "Train Epoch: 2 [53600/60000 (89%)]\tLoss: 0.008701\n",
            "Train Epoch: 2 [54400/60000 (91%)]\tLoss: 0.062435\n",
            "Train Epoch: 2 [55200/60000 (92%)]\tLoss: 0.001683\n",
            "Train Epoch: 2 [56000/60000 (93%)]\tLoss: 0.000424\n",
            "Train Epoch: 2 [56800/60000 (95%)]\tLoss: 0.000016\n",
            "Train Epoch: 2 [57600/60000 (96%)]\tLoss: 0.285364\n",
            "Train Epoch: 2 [58400/60000 (97%)]\tLoss: 0.012873\n",
            "Train Epoch: 2 [59200/60000 (99%)]\tLoss: 0.000618\n",
            "\n",
            "Test set: Average loss: 0.1993, Accuracy: 9521/10000 (95.2100%)\n",
            "\n",
            "Train Epoch: 3 [0/60000 (0%)]\tLoss: 0.000805\n",
            "Train Epoch: 3 [800/60000 (1%)]\tLoss: 0.381565\n",
            "Train Epoch: 3 [1600/60000 (3%)]\tLoss: 0.003255\n",
            "Train Epoch: 3 [2400/60000 (4%)]\tLoss: 0.796017\n",
            "Train Epoch: 3 [3200/60000 (5%)]\tLoss: 0.226006\n",
            "Train Epoch: 3 [4000/60000 (7%)]\tLoss: 0.186249\n",
            "Train Epoch: 3 [4800/60000 (8%)]\tLoss: 0.000320\n",
            "Train Epoch: 3 [5600/60000 (9%)]\tLoss: 0.000897\n",
            "Train Epoch: 3 [6400/60000 (11%)]\tLoss: 0.001382\n",
            "Train Epoch: 3 [7200/60000 (12%)]\tLoss: 0.002424\n",
            "Train Epoch: 3 [8000/60000 (13%)]\tLoss: 0.000440\n",
            "Train Epoch: 3 [8800/60000 (15%)]\tLoss: 0.544240\n",
            "Train Epoch: 3 [9600/60000 (16%)]\tLoss: 0.000569\n",
            "Train Epoch: 3 [10400/60000 (17%)]\tLoss: 0.024220\n",
            "Train Epoch: 3 [11200/60000 (19%)]\tLoss: 0.010352\n",
            "Train Epoch: 3 [12000/60000 (20%)]\tLoss: 0.107002\n",
            "Train Epoch: 3 [12800/60000 (21%)]\tLoss: 0.003283\n",
            "Train Epoch: 3 [13600/60000 (23%)]\tLoss: 0.432203\n",
            "Train Epoch: 3 [14400/60000 (24%)]\tLoss: 0.000003\n",
            "Train Epoch: 3 [15200/60000 (25%)]\tLoss: 0.000352\n",
            "Train Epoch: 3 [16000/60000 (27%)]\tLoss: 0.139855\n",
            "Train Epoch: 3 [16800/60000 (28%)]\tLoss: 0.005205\n",
            "Train Epoch: 3 [17600/60000 (29%)]\tLoss: 0.008824\n",
            "Train Epoch: 3 [18400/60000 (31%)]\tLoss: 0.008383\n",
            "Train Epoch: 3 [19200/60000 (32%)]\tLoss: 1.757033\n",
            "Train Epoch: 3 [20000/60000 (33%)]\tLoss: 0.000026\n",
            "Train Epoch: 3 [20800/60000 (35%)]\tLoss: 0.025495\n",
            "Train Epoch: 3 [21600/60000 (36%)]\tLoss: 0.066183\n",
            "Train Epoch: 3 [22400/60000 (37%)]\tLoss: 0.000055\n",
            "Train Epoch: 3 [23200/60000 (39%)]\tLoss: 0.040852\n",
            "Train Epoch: 3 [24000/60000 (40%)]\tLoss: 0.000092\n",
            "Train Epoch: 3 [24800/60000 (41%)]\tLoss: 0.003842\n",
            "Train Epoch: 3 [25600/60000 (43%)]\tLoss: 0.203910\n",
            "Train Epoch: 3 [26400/60000 (44%)]\tLoss: 0.002419\n",
            "Train Epoch: 3 [27200/60000 (45%)]\tLoss: 0.104912\n",
            "Train Epoch: 3 [28000/60000 (47%)]\tLoss: 0.000002\n",
            "Train Epoch: 3 [28800/60000 (48%)]\tLoss: 0.000038\n",
            "Train Epoch: 3 [29600/60000 (49%)]\tLoss: 0.000007\n",
            "Train Epoch: 3 [30400/60000 (51%)]\tLoss: 0.001248\n",
            "Train Epoch: 3 [31200/60000 (52%)]\tLoss: 0.000002\n",
            "Train Epoch: 3 [32000/60000 (53%)]\tLoss: 0.001483\n",
            "Train Epoch: 3 [32800/60000 (55%)]\tLoss: 0.000723\n",
            "Train Epoch: 3 [33600/60000 (56%)]\tLoss: 0.000045\n",
            "Train Epoch: 3 [34400/60000 (57%)]\tLoss: 0.006860\n",
            "Train Epoch: 3 [35200/60000 (59%)]\tLoss: 0.014328\n",
            "Train Epoch: 3 [36000/60000 (60%)]\tLoss: 0.004240\n",
            "Train Epoch: 3 [36800/60000 (61%)]\tLoss: 0.160925\n",
            "Train Epoch: 3 [37600/60000 (63%)]\tLoss: 0.001536\n",
            "Train Epoch: 3 [38400/60000 (64%)]\tLoss: 0.139808\n",
            "Train Epoch: 3 [39200/60000 (65%)]\tLoss: 0.006606\n",
            "Train Epoch: 3 [40000/60000 (67%)]\tLoss: 1.904266\n",
            "Train Epoch: 3 [40800/60000 (68%)]\tLoss: 0.176528\n",
            "Train Epoch: 3 [41600/60000 (69%)]\tLoss: 0.199438\n",
            "Train Epoch: 3 [42400/60000 (71%)]\tLoss: 0.000794\n",
            "Train Epoch: 3 [43200/60000 (72%)]\tLoss: 0.000006\n",
            "Train Epoch: 3 [44000/60000 (73%)]\tLoss: 0.048614\n",
            "Train Epoch: 3 [44800/60000 (75%)]\tLoss: 0.000818\n",
            "Train Epoch: 3 [45600/60000 (76%)]\tLoss: 0.000667\n",
            "Train Epoch: 3 [46400/60000 (77%)]\tLoss: 0.670488\n",
            "Train Epoch: 3 [47200/60000 (79%)]\tLoss: 0.990370\n",
            "Train Epoch: 3 [48000/60000 (80%)]\tLoss: 0.607865\n",
            "Train Epoch: 3 [48800/60000 (81%)]\tLoss: 0.615306\n",
            "Train Epoch: 3 [49600/60000 (83%)]\tLoss: 0.302897\n",
            "Train Epoch: 3 [50400/60000 (84%)]\tLoss: 0.000526\n",
            "Train Epoch: 3 [51200/60000 (85%)]\tLoss: 0.000375\n",
            "Train Epoch: 3 [52000/60000 (87%)]\tLoss: 0.026639\n",
            "Train Epoch: 3 [52800/60000 (88%)]\tLoss: 0.062727\n",
            "Train Epoch: 3 [53600/60000 (89%)]\tLoss: 0.106007\n",
            "Train Epoch: 3 [54400/60000 (91%)]\tLoss: 0.000058\n",
            "Train Epoch: 3 [55200/60000 (92%)]\tLoss: 0.001770\n",
            "Train Epoch: 3 [56000/60000 (93%)]\tLoss: 0.001982\n",
            "Train Epoch: 3 [56800/60000 (95%)]\tLoss: 0.006495\n",
            "Train Epoch: 3 [57600/60000 (96%)]\tLoss: 0.013752\n",
            "Train Epoch: 3 [58400/60000 (97%)]\tLoss: 0.012512\n",
            "Train Epoch: 3 [59200/60000 (99%)]\tLoss: 0.001770\n",
            "\n",
            "Test set: Average loss: 0.1999, Accuracy: 9523/10000 (95.2300%)\n",
            "\n",
            "Train Epoch: 1 [0/60000 (0%)]\tLoss: 2.380137\n",
            "Train Epoch: 1 [1600/60000 (3%)]\tLoss: 0.303925\n",
            "Train Epoch: 1 [3200/60000 (5%)]\tLoss: 0.211991\n",
            "Train Epoch: 1 [4800/60000 (8%)]\tLoss: 0.186759\n",
            "Train Epoch: 1 [6400/60000 (11%)]\tLoss: 0.219290\n",
            "Train Epoch: 1 [8000/60000 (13%)]\tLoss: 0.046413\n",
            "Train Epoch: 1 [9600/60000 (16%)]\tLoss: 0.053508\n",
            "Train Epoch: 1 [11200/60000 (19%)]\tLoss: 0.305580\n",
            "Train Epoch: 1 [12800/60000 (21%)]\tLoss: 0.139829\n",
            "Train Epoch: 1 [14400/60000 (24%)]\tLoss: 0.029772\n",
            "Train Epoch: 1 [16000/60000 (27%)]\tLoss: 0.069394\n",
            "Train Epoch: 1 [17600/60000 (29%)]\tLoss: 0.100812\n",
            "Train Epoch: 1 [19200/60000 (32%)]\tLoss: 0.545296\n",
            "Train Epoch: 1 [20800/60000 (35%)]\tLoss: 0.361358\n",
            "Train Epoch: 1 [22400/60000 (37%)]\tLoss: 0.029612\n",
            "Train Epoch: 1 [24000/60000 (40%)]\tLoss: 0.033597\n",
            "Train Epoch: 1 [25600/60000 (43%)]\tLoss: 0.065080\n",
            "Train Epoch: 1 [27200/60000 (45%)]\tLoss: 0.013384\n",
            "Train Epoch: 1 [28800/60000 (48%)]\tLoss: 0.004658\n",
            "Train Epoch: 1 [30400/60000 (51%)]\tLoss: 0.097029\n",
            "Train Epoch: 1 [32000/60000 (53%)]\tLoss: 0.021808\n",
            "Train Epoch: 1 [33600/60000 (56%)]\tLoss: 0.019769\n",
            "Train Epoch: 1 [35200/60000 (59%)]\tLoss: 0.109380\n",
            "Train Epoch: 1 [36800/60000 (61%)]\tLoss: 0.163177\n",
            "Train Epoch: 1 [38400/60000 (64%)]\tLoss: 0.051678\n",
            "Train Epoch: 1 [40000/60000 (67%)]\tLoss: 0.036628\n",
            "Train Epoch: 1 [41600/60000 (69%)]\tLoss: 0.002353\n",
            "Train Epoch: 1 [43200/60000 (72%)]\tLoss: 0.149890\n",
            "Train Epoch: 1 [44800/60000 (75%)]\tLoss: 0.068641\n",
            "Train Epoch: 1 [46400/60000 (77%)]\tLoss: 0.087484\n",
            "Train Epoch: 1 [48000/60000 (80%)]\tLoss: 0.095484\n",
            "Train Epoch: 1 [49600/60000 (83%)]\tLoss: 0.283875\n",
            "Train Epoch: 1 [51200/60000 (85%)]\tLoss: 0.206677\n",
            "Train Epoch: 1 [52800/60000 (88%)]\tLoss: 0.005818\n",
            "Train Epoch: 1 [54400/60000 (91%)]\tLoss: 0.208326\n",
            "Train Epoch: 1 [56000/60000 (93%)]\tLoss: 0.665456\n",
            "Train Epoch: 1 [57600/60000 (96%)]\tLoss: 0.005444\n",
            "Train Epoch: 1 [59200/60000 (99%)]\tLoss: 0.023635\n",
            "\n",
            "Test set: Average loss: 0.1253, Accuracy: 9633/10000 (96.3300%)\n",
            "\n",
            "Train Epoch: 2 [0/60000 (0%)]\tLoss: 0.067806\n",
            "Train Epoch: 2 [1600/60000 (3%)]\tLoss: 0.166174\n",
            "Train Epoch: 2 [3200/60000 (5%)]\tLoss: 0.205149\n",
            "Train Epoch: 2 [4800/60000 (8%)]\tLoss: 0.019096\n",
            "Train Epoch: 2 [6400/60000 (11%)]\tLoss: 0.002338\n",
            "Train Epoch: 2 [8000/60000 (13%)]\tLoss: 0.013227\n",
            "Train Epoch: 2 [9600/60000 (16%)]\tLoss: 0.138546\n",
            "Train Epoch: 2 [11200/60000 (19%)]\tLoss: 0.007862\n",
            "Train Epoch: 2 [12800/60000 (21%)]\tLoss: 0.024041\n",
            "Train Epoch: 2 [14400/60000 (24%)]\tLoss: 0.019273\n",
            "Train Epoch: 2 [16000/60000 (27%)]\tLoss: 0.082074\n",
            "Train Epoch: 2 [17600/60000 (29%)]\tLoss: 0.728865\n",
            "Train Epoch: 2 [19200/60000 (32%)]\tLoss: 0.399550\n",
            "Train Epoch: 2 [20800/60000 (35%)]\tLoss: 0.168029\n",
            "Train Epoch: 2 [22400/60000 (37%)]\tLoss: 0.001919\n",
            "Train Epoch: 2 [24000/60000 (40%)]\tLoss: 0.645635\n",
            "Train Epoch: 2 [25600/60000 (43%)]\tLoss: 0.025103\n",
            "Train Epoch: 2 [27200/60000 (45%)]\tLoss: 0.361661\n",
            "Train Epoch: 2 [28800/60000 (48%)]\tLoss: 0.005339\n",
            "Train Epoch: 2 [30400/60000 (51%)]\tLoss: 0.243458\n",
            "Train Epoch: 2 [32000/60000 (53%)]\tLoss: 0.044146\n",
            "Train Epoch: 2 [33600/60000 (56%)]\tLoss: 0.341507\n",
            "Train Epoch: 2 [35200/60000 (59%)]\tLoss: 0.034686\n",
            "Train Epoch: 2 [36800/60000 (61%)]\tLoss: 0.022199\n",
            "Train Epoch: 2 [38400/60000 (64%)]\tLoss: 0.044075\n",
            "Train Epoch: 2 [40000/60000 (67%)]\tLoss: 0.578624\n",
            "Train Epoch: 2 [41600/60000 (69%)]\tLoss: 0.013994\n",
            "Train Epoch: 2 [43200/60000 (72%)]\tLoss: 0.035196\n",
            "Train Epoch: 2 [44800/60000 (75%)]\tLoss: 0.001541\n",
            "Train Epoch: 2 [46400/60000 (77%)]\tLoss: 0.020744\n",
            "Train Epoch: 2 [48000/60000 (80%)]\tLoss: 0.026454\n",
            "Train Epoch: 2 [49600/60000 (83%)]\tLoss: 0.047950\n",
            "Train Epoch: 2 [51200/60000 (85%)]\tLoss: 0.007255\n",
            "Train Epoch: 2 [52800/60000 (88%)]\tLoss: 0.010987\n",
            "Train Epoch: 2 [54400/60000 (91%)]\tLoss: 0.096760\n",
            "Train Epoch: 2 [56000/60000 (93%)]\tLoss: 0.109082\n",
            "Train Epoch: 2 [57600/60000 (96%)]\tLoss: 0.010140\n",
            "Train Epoch: 2 [59200/60000 (99%)]\tLoss: 0.046273\n",
            "\n",
            "Test set: Average loss: 0.1012, Accuracy: 9709/10000 (97.0900%)\n",
            "\n",
            "Train Epoch: 3 [0/60000 (0%)]\tLoss: 0.080876\n",
            "Train Epoch: 3 [1600/60000 (3%)]\tLoss: 0.002674\n",
            "Train Epoch: 3 [3200/60000 (5%)]\tLoss: 0.023250\n",
            "Train Epoch: 3 [4800/60000 (8%)]\tLoss: 0.010786\n",
            "Train Epoch: 3 [6400/60000 (11%)]\tLoss: 0.002305\n",
            "Train Epoch: 3 [8000/60000 (13%)]\tLoss: 0.001332\n",
            "Train Epoch: 3 [9600/60000 (16%)]\tLoss: 0.026521\n",
            "Train Epoch: 3 [11200/60000 (19%)]\tLoss: 0.051839\n",
            "Train Epoch: 3 [12800/60000 (21%)]\tLoss: 0.000323\n",
            "Train Epoch: 3 [14400/60000 (24%)]\tLoss: 0.000255\n",
            "Train Epoch: 3 [16000/60000 (27%)]\tLoss: 0.364083\n",
            "Train Epoch: 3 [17600/60000 (29%)]\tLoss: 0.003636\n",
            "Train Epoch: 3 [19200/60000 (32%)]\tLoss: 0.181367\n",
            "Train Epoch: 3 [20800/60000 (35%)]\tLoss: 0.006905\n",
            "Train Epoch: 3 [22400/60000 (37%)]\tLoss: 0.000273\n",
            "Train Epoch: 3 [24000/60000 (40%)]\tLoss: 0.205470\n",
            "Train Epoch: 3 [25600/60000 (43%)]\tLoss: 0.032026\n",
            "Train Epoch: 3 [27200/60000 (45%)]\tLoss: 0.223507\n",
            "Train Epoch: 3 [28800/60000 (48%)]\tLoss: 0.006089\n",
            "Train Epoch: 3 [30400/60000 (51%)]\tLoss: 0.001981\n",
            "Train Epoch: 3 [32000/60000 (53%)]\tLoss: 0.062954\n",
            "Train Epoch: 3 [33600/60000 (56%)]\tLoss: 0.002305\n",
            "Train Epoch: 3 [35200/60000 (59%)]\tLoss: 0.025855\n",
            "Train Epoch: 3 [36800/60000 (61%)]\tLoss: 0.046428\n",
            "Train Epoch: 3 [38400/60000 (64%)]\tLoss: 0.369729\n",
            "Train Epoch: 3 [40000/60000 (67%)]\tLoss: 0.307574\n",
            "Train Epoch: 3 [41600/60000 (69%)]\tLoss: 0.512754\n",
            "Train Epoch: 3 [43200/60000 (72%)]\tLoss: 0.013101\n",
            "Train Epoch: 3 [44800/60000 (75%)]\tLoss: 0.001920\n",
            "Train Epoch: 3 [46400/60000 (77%)]\tLoss: 0.352447\n",
            "Train Epoch: 3 [48000/60000 (80%)]\tLoss: 0.050354\n",
            "Train Epoch: 3 [49600/60000 (83%)]\tLoss: 0.046547\n",
            "Train Epoch: 3 [51200/60000 (85%)]\tLoss: 0.003809\n",
            "Train Epoch: 3 [52800/60000 (88%)]\tLoss: 0.016942\n",
            "Train Epoch: 3 [54400/60000 (91%)]\tLoss: 0.002212\n",
            "Train Epoch: 3 [56000/60000 (93%)]\tLoss: 0.002851\n",
            "Train Epoch: 3 [57600/60000 (96%)]\tLoss: 0.004662\n",
            "Train Epoch: 3 [59200/60000 (99%)]\tLoss: 0.083694\n",
            "\n",
            "Test set: Average loss: 0.1120, Accuracy: 9698/10000 (96.9800%)\n",
            "\n",
            "Train Epoch: 1 [0/60000 (0%)]\tLoss: 2.336379\n",
            "Train Epoch: 1 [3200/60000 (5%)]\tLoss: 0.325145\n",
            "Train Epoch: 1 [6400/60000 (11%)]\tLoss: 0.241521\n",
            "Train Epoch: 1 [9600/60000 (16%)]\tLoss: 0.264007\n",
            "Train Epoch: 1 [12800/60000 (21%)]\tLoss: 0.209419\n",
            "Train Epoch: 1 [16000/60000 (27%)]\tLoss: 0.070037\n",
            "Train Epoch: 1 [19200/60000 (32%)]\tLoss: 0.482454\n",
            "Train Epoch: 1 [22400/60000 (37%)]\tLoss: 0.136715\n",
            "Train Epoch: 1 [25600/60000 (43%)]\tLoss: 0.344303\n",
            "Train Epoch: 1 [28800/60000 (48%)]\tLoss: 0.035363\n",
            "Train Epoch: 1 [32000/60000 (53%)]\tLoss: 0.162355\n",
            "Train Epoch: 1 [35200/60000 (59%)]\tLoss: 0.239530\n",
            "Train Epoch: 1 [38400/60000 (64%)]\tLoss: 0.025838\n",
            "Train Epoch: 1 [41600/60000 (69%)]\tLoss: 0.069388\n",
            "Train Epoch: 1 [44800/60000 (75%)]\tLoss: 0.111215\n",
            "Train Epoch: 1 [48000/60000 (80%)]\tLoss: 0.088635\n",
            "Train Epoch: 1 [51200/60000 (85%)]\tLoss: 0.177850\n",
            "Train Epoch: 1 [54400/60000 (91%)]\tLoss: 0.106523\n",
            "Train Epoch: 1 [57600/60000 (96%)]\tLoss: 0.035892\n",
            "\n",
            "Test set: Average loss: 0.1223, Accuracy: 9607/10000 (96.0700%)\n",
            "\n",
            "Train Epoch: 2 [0/60000 (0%)]\tLoss: 0.146243\n",
            "Train Epoch: 2 [3200/60000 (5%)]\tLoss: 0.053278\n",
            "Train Epoch: 2 [6400/60000 (11%)]\tLoss: 0.059891\n",
            "Train Epoch: 2 [9600/60000 (16%)]\tLoss: 0.053592\n",
            "Train Epoch: 2 [12800/60000 (21%)]\tLoss: 0.189994\n",
            "Train Epoch: 2 [16000/60000 (27%)]\tLoss: 0.052941\n",
            "Train Epoch: 2 [19200/60000 (32%)]\tLoss: 0.312451\n",
            "Train Epoch: 2 [22400/60000 (37%)]\tLoss: 0.021946\n",
            "Train Epoch: 2 [25600/60000 (43%)]\tLoss: 0.098019\n",
            "Train Epoch: 2 [28800/60000 (48%)]\tLoss: 0.012607\n",
            "Train Epoch: 2 [32000/60000 (53%)]\tLoss: 0.121977\n",
            "Train Epoch: 2 [35200/60000 (59%)]\tLoss: 0.096567\n",
            "Train Epoch: 2 [38400/60000 (64%)]\tLoss: 0.213233\n",
            "Train Epoch: 2 [41600/60000 (69%)]\tLoss: 0.014134\n",
            "Train Epoch: 2 [44800/60000 (75%)]\tLoss: 0.017219\n",
            "Train Epoch: 2 [48000/60000 (80%)]\tLoss: 0.190628\n",
            "Train Epoch: 2 [51200/60000 (85%)]\tLoss: 0.083750\n",
            "Train Epoch: 2 [54400/60000 (91%)]\tLoss: 0.040619\n",
            "Train Epoch: 2 [57600/60000 (96%)]\tLoss: 0.090055\n",
            "\n",
            "Test set: Average loss: 0.0821, Accuracy: 9742/10000 (97.4200%)\n",
            "\n",
            "Train Epoch: 3 [0/60000 (0%)]\tLoss: 0.134218\n",
            "Train Epoch: 3 [3200/60000 (5%)]\tLoss: 0.058866\n",
            "Train Epoch: 3 [6400/60000 (11%)]\tLoss: 0.019784\n",
            "Train Epoch: 3 [9600/60000 (16%)]\tLoss: 0.094042\n",
            "Train Epoch: 3 [12800/60000 (21%)]\tLoss: 0.001722\n",
            "Train Epoch: 3 [16000/60000 (27%)]\tLoss: 0.190808\n",
            "Train Epoch: 3 [19200/60000 (32%)]\tLoss: 0.088748\n",
            "Train Epoch: 3 [22400/60000 (37%)]\tLoss: 0.001595\n",
            "Train Epoch: 3 [25600/60000 (43%)]\tLoss: 0.041418\n",
            "Train Epoch: 3 [28800/60000 (48%)]\tLoss: 0.006058\n",
            "Train Epoch: 3 [32000/60000 (53%)]\tLoss: 0.095708\n",
            "Train Epoch: 3 [35200/60000 (59%)]\tLoss: 0.005011\n",
            "Train Epoch: 3 [38400/60000 (64%)]\tLoss: 0.102988\n",
            "Train Epoch: 3 [41600/60000 (69%)]\tLoss: 0.189204\n",
            "Train Epoch: 3 [44800/60000 (75%)]\tLoss: 0.053024\n",
            "Train Epoch: 3 [48000/60000 (80%)]\tLoss: 0.075108\n",
            "Train Epoch: 3 [51200/60000 (85%)]\tLoss: 0.231285\n",
            "Train Epoch: 3 [54400/60000 (91%)]\tLoss: 0.041664\n",
            "Train Epoch: 3 [57600/60000 (96%)]\tLoss: 0.103214\n",
            "\n",
            "Test set: Average loss: 0.0814, Accuracy: 9755/10000 (97.5500%)\n",
            "\n",
            "Train Epoch: 1 [0/60000 (0%)]\tLoss: 2.316347\n",
            "Train Epoch: 1 [6400/60000 (11%)]\tLoss: 0.422726\n",
            "Train Epoch: 1 [12800/60000 (21%)]\tLoss: 0.396150\n",
            "Train Epoch: 1 [19200/60000 (32%)]\tLoss: 0.378128\n",
            "Train Epoch: 1 [25600/60000 (43%)]\tLoss: 0.364550\n",
            "Train Epoch: 1 [32000/60000 (53%)]\tLoss: 0.193862\n",
            "Train Epoch: 1 [38400/60000 (64%)]\tLoss: 0.145549\n",
            "Train Epoch: 1 [44800/60000 (75%)]\tLoss: 0.164392\n",
            "Train Epoch: 1 [51200/60000 (85%)]\tLoss: 0.200299\n",
            "Train Epoch: 1 [57600/60000 (96%)]\tLoss: 0.138219\n",
            "\n",
            "Test set: Average loss: 0.1403, Accuracy: 9575/10000 (95.7500%)\n",
            "\n",
            "Train Epoch: 2 [0/60000 (0%)]\tLoss: 0.086524\n",
            "Train Epoch: 2 [6400/60000 (11%)]\tLoss: 0.078450\n",
            "Train Epoch: 2 [12800/60000 (21%)]\tLoss: 0.093668\n",
            "Train Epoch: 2 [19200/60000 (32%)]\tLoss: 0.189943\n",
            "Train Epoch: 2 [25600/60000 (43%)]\tLoss: 0.258257\n",
            "Train Epoch: 2 [32000/60000 (53%)]\tLoss: 0.152435\n",
            "Train Epoch: 2 [38400/60000 (64%)]\tLoss: 0.093809\n",
            "Train Epoch: 2 [44800/60000 (75%)]\tLoss: 0.084670\n",
            "Train Epoch: 2 [51200/60000 (85%)]\tLoss: 0.114840\n",
            "Train Epoch: 2 [57600/60000 (96%)]\tLoss: 0.074817\n",
            "\n",
            "Test set: Average loss: 0.0999, Accuracy: 9700/10000 (97.0000%)\n",
            "\n",
            "Train Epoch: 3 [0/60000 (0%)]\tLoss: 0.091788\n",
            "Train Epoch: 3 [6400/60000 (11%)]\tLoss: 0.057657\n",
            "Train Epoch: 3 [12800/60000 (21%)]\tLoss: 0.012175\n",
            "Train Epoch: 3 [19200/60000 (32%)]\tLoss: 0.130410\n",
            "Train Epoch: 3 [25600/60000 (43%)]\tLoss: 0.093741\n",
            "Train Epoch: 3 [32000/60000 (53%)]\tLoss: 0.032666\n",
            "Train Epoch: 3 [38400/60000 (64%)]\tLoss: 0.066307\n",
            "Train Epoch: 3 [44800/60000 (75%)]\tLoss: 0.052721\n",
            "Train Epoch: 3 [51200/60000 (85%)]\tLoss: 0.134493\n",
            "Train Epoch: 3 [57600/60000 (96%)]\tLoss: 0.055678\n",
            "\n",
            "Test set: Average loss: 0.0859, Accuracy: 9732/10000 (97.3200%)\n",
            "\n",
            "Train Epoch: 1 [0/60000 (0%)]\tLoss: 2.312012\n",
            "Train Epoch: 1 [25600/60000 (43%)]\tLoss: 0.441432\n",
            "Train Epoch: 1 [51200/60000 (85%)]\tLoss: 0.267170\n",
            "\n",
            "Test set: Average loss: 0.2656, Accuracy: 9248/10000 (92.4800%)\n",
            "\n",
            "Train Epoch: 2 [0/60000 (0%)]\tLoss: 0.268211\n",
            "Train Epoch: 2 [25600/60000 (43%)]\tLoss: 0.187153\n",
            "Train Epoch: 2 [51200/60000 (85%)]\tLoss: 0.239970\n",
            "\n",
            "Test set: Average loss: 0.1945, Accuracy: 9450/10000 (94.5000%)\n",
            "\n",
            "Train Epoch: 3 [0/60000 (0%)]\tLoss: 0.225232\n",
            "Train Epoch: 3 [25600/60000 (43%)]\tLoss: 0.204634\n",
            "Train Epoch: 3 [51200/60000 (85%)]\tLoss: 0.237081\n",
            "\n",
            "Test set: Average loss: 0.1557, Accuracy: 9543/10000 (95.4300%)\n",
            "\n",
            "Train Epoch: 1 [0/60000 (0%)]\tLoss: 2.306117\n",
            "Train Epoch: 1 [51200/60000 (85%)]\tLoss: 0.304395\n",
            "\n",
            "Test set: Average loss: 0.3155, Accuracy: 9092/10000 (90.9200%)\n",
            "\n",
            "Train Epoch: 2 [0/60000 (0%)]\tLoss: 0.340320\n",
            "Train Epoch: 2 [51200/60000 (85%)]\tLoss: 0.284743\n",
            "\n",
            "Test set: Average loss: 0.2552, Accuracy: 9277/10000 (92.7700%)\n",
            "\n",
            "Train Epoch: 3 [0/60000 (0%)]\tLoss: 0.263995\n",
            "Train Epoch: 3 [51200/60000 (85%)]\tLoss: 0.281635\n",
            "\n",
            "Test set: Average loss: 0.2199, Accuracy: 9375/10000 (93.7500%)\n",
            "\n",
            "Train Epoch: 1 [0/60000 (0%)]\tLoss: 2.306466\n",
            "\n",
            "Test set: Average loss: 0.3767, Accuracy: 8912/10000 (89.1200%)\n",
            "\n",
            "Train Epoch: 2 [0/60000 (0%)]\tLoss: 0.407418\n",
            "\n",
            "Test set: Average loss: 0.3072, Accuracy: 9108/10000 (91.0800%)\n",
            "\n",
            "Train Epoch: 3 [0/60000 (0%)]\tLoss: 0.320780\n",
            "\n",
            "Test set: Average loss: 0.2767, Accuracy: 9204/10000 (92.0400%)\n",
            "\n"
          ],
          "name": "stdout"
        }
      ]
    },
    {
      "cell_type": "code",
      "metadata": {
        "id": "vhifTHX89CH0",
        "colab": {
          "base_uri": "https://localhost:8080/",
          "height": 299
        },
        "outputId": "26e93f8f-46c5-4df3-db5b-4ee3ed2e7b66"
      },
      "source": [
        "\n",
        "plt.plot(batch_size, test_acc, linewidth=2)\n",
        "plt.title('Optimal Minibach Size')\n",
        "plt.ylabel('Test Accuracy (%)')\n",
        "plt.xscale('log')\n",
        "plt.xlabel('Batch Size')\n",
        "plt.savefig('minibatch.png')\n",
        "plt.show()"
      ],
      "execution_count": 8,
      "outputs": [
        {
          "output_type": "display_data",
          "data": {
            "image/png": "[encoded data removed]",
            "text/plain": [
              "<Figure size 432x288 with 1 Axes>"
            ]
          },
          "metadata": {
            "tags": [],
            "needs_background": "light"
          }
        }
      ]
    },
    {
      "cell_type": "markdown",
      "metadata": {
        "id": "-uSRuwiTXTFO"
      },
      "source": [
        "---\n",
        "## Batch normalization"
      ]
    },
    {
      "cell_type": "markdown",
      "metadata": {
        "id": "GWo8HcvjR_-a"
      },
      "source": [
        "Rather than improving the optimization algorithms, batch normalization improves the network structure itself by adding additional layers in between existing layers. The goal is to improve the optimization and generalization performance.\n",
        "\n",
        "In neural networks, we typically alternate linear (weighted summation) operations with non-linear operations, the activation functions, such as ReLU. The most common practice is to put the normalization is between the linear layers and activation functions.\n",
        "\n",
        "More formally, normalization is as follows:\n",
        "$$\\tilde x_j = a\\frac{x_j-\\mu_j}{\\sigma_j}+b$$\n",
        "where\n",
        "*   $x_j$ is the output of a neuron or, equivalently, the input to the next layer,\n",
        "*   $\\tilde x_j$ is that same feature after being normalized ,\n",
        "*   $\\mu_j$ is the mean of the feature $x_j$ over the minibatch,\n",
        "*   $\\sigma_j$ is the estimate of the standard deviation of $x_j$ over the minibatch (with $\\epsilon$ added, so we don't divide by zero),\n",
        "*   $a$ is the learnable scaling factor,\n",
        "*   $b$ is the learnable bias term.\n",
        "\n",
        "Batch normalization tries to reduce the “internal covariate shift” between the training and testing data. Internal covariate shift is the change in the distribution of network activations due to the change in paramaters during training. In neural networks, the output of the first layer feeds into the second layer, the output of the second layer feeds into the third, and so on. When the parameters of a layer change, so does the distribution of inputs to subsequent layers. These shifts in input distributions can be problematic for neural networks, especially deep neural networks that could have a large number of layers. Batch normalization tries to mitigate this. You can check out [this](https://arxiv.org/abs/1502.03167) paper where the idea of mitigating internal covariance shift with batch normalization was first introduced. \n",
        "\n",
        "\n",
        "The advantages of BN are as follows:\n",
        "\n",
        "*   Networks with normalization layers are easier to optimize, allowing for the use of larger learning rates, speeding up the training of neural networks.\n",
        "*   The mean/std deviation estimates are noisy due to the randomness of the samples in batch. This extra “noise” sometimes results in better generalization. Normalization has a regularization effect.\n",
        "*   Normalization reduces sensitivity to weight initialization.\n"
      ]
    },
    {
      "cell_type": "code",
      "metadata": {
        "id": "GNErTZNI9Eyk"
      },
      "source": [
        "#help functions\n",
        "def train(args, model, device, train_loader, optimizer, epoch):\n",
        "    model.train()\n",
        "    avg_loss = 0.\n",
        "    for batch_idx, (data, target) in enumerate(train_loader):\n",
        "        data, target = data.to(device), target.to(device)\n",
        "        optimizer.zero_grad()\n",
        "        output = model(data)\n",
        "        loss = F.nll_loss(output, target)\n",
        "        avg_loss += loss.item()\n",
        "        loss.backward()\n",
        "        optimizer.step()\n",
        "        if batch_idx % args['log_interval'] == 0:\n",
        "            print('Train Epoch: {} [{}/{} ({:.0f}%)]\\tLoss: {:.6f}'.format(\n",
        "                epoch, batch_idx * len(data), len(train_loader.dataset),\n",
        "                100. * batch_idx / len(train_loader), loss.item()))\n",
        "    avg_loss /= len(train_loader.dataset)\n",
        "    return avg_loss\n",
        "            \n",
        "def test(model, device, test_loader):\n",
        "    model.eval()\n",
        "    test_loss = 0\n",
        "    correct = 0\n",
        "    with torch.no_grad():\n",
        "        for data, target in test_loader:\n",
        "            data, target = data.to(device), target.to(device)\n",
        "            output = model(data)\n",
        "            test_loss += F.nll_loss(output, target, reduction='sum').item()  # sum up batch loss\n",
        "            pred = output.argmax(dim=1, keepdim=True)  # get the index of the max log-probability\n",
        "            correct += pred.eq(target.view_as(pred)).sum().item()\n",
        "\n",
        "    test_loss /= len(test_loader.dataset)\n",
        "\n",
        "    print('\\nTest set: Average loss: {:.4f}, Accuracy: {}/{} ({:.4f}%)\\n'.format(\n",
        "        test_loss, correct, len(test_loader.dataset),\n",
        "        100. * correct / len(test_loader.dataset)))\n",
        "    return test_loss\n",
        "\n",
        "def bn_eval(args):\n",
        "    use_cuda = not args['no_cuda'] and torch.cuda.is_available()\n",
        "    torch.manual_seed(args['seed'])\n",
        "    device = torch.device('cuda' if use_cuda else 'cpu')\n",
        "\n",
        "    train_kwargs = {'batch_size': args['batch_size']}\n",
        "    test_kwargs = {'batch_size': args['test_batch_size']}\n",
        "    if use_cuda:\n",
        "        cuda_kwargs = {'num_workers': 1,\n",
        "                       'pin_memory': True,\n",
        "                       'shuffle': True}\n",
        "        train_kwargs.update(cuda_kwargs)\n",
        "        test_kwargs.update(cuda_kwargs)\n",
        "\n",
        "    transform=transforms.Compose([\n",
        "        transforms.ToTensor(),\n",
        "        transforms.Normalize((0.1307,), (0.3081,))\n",
        "        ])\n",
        "    train_loader = torch.utils.data.DataLoader(datasets.MNIST('../data', train=True, download=True,\n",
        "                       transform=transform),**train_kwargs)\n",
        "    test_loader = torch.utils.data.DataLoader(datasets.MNIST('../data', train=False,\n",
        "                       transform=transform), **test_kwargs)\n",
        "\n",
        "    if args['net_type'] == 'Shallow':\n",
        "        model = Net().to(device)\n",
        "    elif args['net_type'] == 'BNShallow':\n",
        "        model = BNShallowNet().to(device)\n",
        "    elif args['net_type'] == 'Deep':\n",
        "        model = DeepNet().to(device)\n",
        "    elif args['net_type'] == 'BNDeep':\n",
        "        model = BNDeepNet().to(device)\n",
        "    optimizer = optim.SGD(model.parameters(), lr=args['lr'], momentum=args['momentum'])\n",
        "\n",
        "    train_list, test_list = [], []\n",
        "    for epoch in range(1, args['epochs'] + 1):\n",
        "        train_loss = train(args, model, device, train_loader, optimizer, epoch)\n",
        "        test_loss = test(model, device, test_loader)\n",
        "        train_list.append(train_loss)\n",
        "        test_list.append(test_loss)\n",
        "\n",
        "    return train_list, test_list"
      ],
      "execution_count": 9,
      "outputs": []
    },
    {
      "cell_type": "code",
      "metadata": {
        "id": "kS82WuPv1j2x"
      },
      "source": [
        "#models\n",
        "class BNShallowNet(nn.Module):\n",
        "    def __init__(self):\n",
        "        super(BNShallowNet, self).__init__()\n",
        "        self.fc1 = nn.Linear(784, 128)\n",
        "        self.fc2 = nn.Linear(128, 10)\n",
        "        self.bn = nn.BatchNorm1d(128)\n",
        "        self.dropout = nn.Dropout(0.5)\n",
        "        \n",
        "    def forward(self, x):\n",
        "        x = torch.flatten(x, 1)\n",
        "        x = self.fc1(x)\n",
        "        x = self.bn(x)\n",
        "        x = F.relu(x)\n",
        "        x = self.dropout(x)\n",
        "        x = self.fc2(x)\n",
        "        output = F.log_softmax(x, dim=1)\n",
        "        return output\n"
      ],
      "execution_count": 10,
      "outputs": []
    },
    {
      "cell_type": "code",
      "metadata": {
        "id": "gnGtouRb1lt1"
      },
      "source": [
        "class BNDeepNet(nn.Module):\n",
        "    def __init__(self):\n",
        "        super(BNDeepNet, self).__init__()\n",
        "        self.fc1 = nn.Linear(784, 128)\n",
        "        self.fc2 = nn.Linear(128, 64)\n",
        "        self.fc3 = nn.Linear(64, 32)\n",
        "        self.fc4 = nn.Linear(32, 32)\n",
        "        self.fc5 = nn.Linear(32, 10)\n",
        "        self.bn1 = nn.BatchNorm1d(128)\n",
        "        self.bn2 = nn.BatchNorm1d(64)\n",
        "        self.bn3 = nn.BatchNorm1d(32)\n",
        "        self.bn4 = nn.BatchNorm1d(32)\n",
        "        self.dropout = nn.Dropout(0.5)\n",
        "        \n",
        "    def forward(self, x):\n",
        "        x = torch.flatten(x, 1)\n",
        "        x = self.fc1(x)\n",
        "        x = self.bn1(x)\n",
        "        x = F.relu(x)\n",
        "        x = self.fc2(x)\n",
        "        x = self.bn2(x)\n",
        "        x = F.relu(x)\n",
        "        x = self.fc3(x)\n",
        "        x = self.bn3(x)\n",
        "        x = F.relu(x)\n",
        "        x = self.fc4(x)\n",
        "        x = self.bn4(x)\n",
        "        x = F.relu(x)\n",
        "        x = self.dropout(x)\n",
        "        x = self.fc5(x)\n",
        "        output = F.log_softmax(x, dim=1)\n",
        "        return output"
      ],
      "execution_count": 11,
      "outputs": []
    },
    {
      "cell_type": "code",
      "metadata": {
        "id": "CHJAwUgN9MFo"
      },
      "source": [
        "class DeepNet(nn.Module):\n",
        "    def __init__(self):\n",
        "        super(DeepNet, self).__init__()\n",
        "        self.fc1 = nn.Linear(784, 128)\n",
        "        self.fc2 = nn.Linear(128, 64)\n",
        "        self.fc3 = nn.Linear(64, 32)\n",
        "        self.fc4 = nn.Linear(32, 32)\n",
        "        self.fc5 = nn.Linear(32, 10)\n",
        "        self.dropout = nn.Dropout(0.5)\n",
        "        \n",
        "    def forward(self, x):\n",
        "        x = torch.flatten(x, 1)\n",
        "        x = self.fc1(x)\n",
        "        x = F.relu(x)\n",
        "        x = self.fc2(x)\n",
        "        x = F.relu(x)\n",
        "        x = self.fc3(x)\n",
        "        x = F.relu(x)\n",
        "        x = self.fc4(x)\n",
        "        x = F.relu(x)\n",
        "        x = self.dropout(x)\n",
        "        x = self.fc5(x)\n",
        "        output = F.log_softmax(x, dim=1)\n",
        "        return output"
      ],
      "execution_count": 12,
      "outputs": []
    },
    {
      "cell_type": "code",
      "metadata": {
        "id": "X9bFT2Ob9Trh",
        "colab": {
          "base_uri": "https://localhost:8080/"
        },
        "outputId": "1b9ede65-07cf-4db4-9456-4a489d1b7423"
      },
      "source": [
        "#train\n",
        "args = {'batch_size': 64,\n",
        "        'test_batch_size': 1000,\n",
        "        'epochs': 10,\n",
        "        'lr': 0.01,\n",
        "        'momentum': 0.9,\n",
        "        'net_type': 'Net',\n",
        "        'no_cuda': False,\n",
        "        'seed': 1,\n",
        "        'log_interval': 100\n",
        "        }\n",
        "\n",
        "net = ['Shallow', 'BNShallow', 'Deep', 'BNDeep']\n",
        "loss_dict = {}\n",
        "\n",
        "for i in range(len(net)):\n",
        "    args['net_type'] = net[i]\n",
        "    train_loss, test_loss = bn_eval(args)\n",
        "    loss_dict['train' + str(net[i])] = train_loss\n",
        "    loss_dict['test' + str(net[i])] = test_loss"
      ],
      "execution_count": 13,
      "outputs": [
        {
          "output_type": "stream",
          "text": [
            "Train Epoch: 1 [0/60000 (0%)]\tLoss: 2.316347\n",
            "Train Epoch: 1 [6400/60000 (11%)]\tLoss: 0.422726\n",
            "Train Epoch: 1 [12800/60000 (21%)]\tLoss: 0.396150\n",
            "Train Epoch: 1 [19200/60000 (32%)]\tLoss: 0.378128\n",
            "Train Epoch: 1 [25600/60000 (43%)]\tLoss: 0.364550\n",
            "Train Epoch: 1 [32000/60000 (53%)]\tLoss: 0.193862\n",
            "Train Epoch: 1 [38400/60000 (64%)]\tLoss: 0.145549\n",
            "Train Epoch: 1 [44800/60000 (75%)]\tLoss: 0.164392\n",
            "Train Epoch: 1 [51200/60000 (85%)]\tLoss: 0.200299\n",
            "Train Epoch: 1 [57600/60000 (96%)]\tLoss: 0.138219\n",
            "\n",
            "Test set: Average loss: 0.1403, Accuracy: 9575/10000 (95.7500%)\n",
            "\n",
            "Train Epoch: 2 [0/60000 (0%)]\tLoss: 0.086524\n",
            "Train Epoch: 2 [6400/60000 (11%)]\tLoss: 0.078450\n",
            "Train Epoch: 2 [12800/60000 (21%)]\tLoss: 0.093668\n",
            "Train Epoch: 2 [19200/60000 (32%)]\tLoss: 0.189943\n",
            "Train Epoch: 2 [25600/60000 (43%)]\tLoss: 0.258257\n",
            "Train Epoch: 2 [32000/60000 (53%)]\tLoss: 0.152435\n",
            "Train Epoch: 2 [38400/60000 (64%)]\tLoss: 0.093809\n",
            "Train Epoch: 2 [44800/60000 (75%)]\tLoss: 0.084670\n",
            "Train Epoch: 2 [51200/60000 (85%)]\tLoss: 0.114840\n",
            "Train Epoch: 2 [57600/60000 (96%)]\tLoss: 0.074817\n",
            "\n",
            "Test set: Average loss: 0.0999, Accuracy: 9700/10000 (97.0000%)\n",
            "\n",
            "Train Epoch: 3 [0/60000 (0%)]\tLoss: 0.091788\n",
            "Train Epoch: 3 [6400/60000 (11%)]\tLoss: 0.057657\n",
            "Train Epoch: 3 [12800/60000 (21%)]\tLoss: 0.012175\n",
            "Train Epoch: 3 [19200/60000 (32%)]\tLoss: 0.130410\n",
            "Train Epoch: 3 [25600/60000 (43%)]\tLoss: 0.093741\n",
            "Train Epoch: 3 [32000/60000 (53%)]\tLoss: 0.032666\n",
            "Train Epoch: 3 [38400/60000 (64%)]\tLoss: 0.066307\n",
            "Train Epoch: 3 [44800/60000 (75%)]\tLoss: 0.052721\n",
            "Train Epoch: 3 [51200/60000 (85%)]\tLoss: 0.134493\n",
            "Train Epoch: 3 [57600/60000 (96%)]\tLoss: 0.055678\n",
            "\n",
            "Test set: Average loss: 0.0859, Accuracy: 9732/10000 (97.3200%)\n",
            "\n",
            "Train Epoch: 4 [0/60000 (0%)]\tLoss: 0.021204\n",
            "Train Epoch: 4 [6400/60000 (11%)]\tLoss: 0.053360\n",
            "Train Epoch: 4 [12800/60000 (21%)]\tLoss: 0.041926\n",
            "Train Epoch: 4 [19200/60000 (32%)]\tLoss: 0.032906\n",
            "Train Epoch: 4 [25600/60000 (43%)]\tLoss: 0.030425\n",
            "Train Epoch: 4 [32000/60000 (53%)]\tLoss: 0.030049\n",
            "Train Epoch: 4 [38400/60000 (64%)]\tLoss: 0.030968\n",
            "Train Epoch: 4 [44800/60000 (75%)]\tLoss: 0.071048\n",
            "Train Epoch: 4 [51200/60000 (85%)]\tLoss: 0.026350\n",
            "Train Epoch: 4 [57600/60000 (96%)]\tLoss: 0.014322\n",
            "\n",
            "Test set: Average loss: 0.0807, Accuracy: 9759/10000 (97.5900%)\n",
            "\n",
            "Train Epoch: 5 [0/60000 (0%)]\tLoss: 0.037836\n",
            "Train Epoch: 5 [6400/60000 (11%)]\tLoss: 0.044563\n",
            "Train Epoch: 5 [12800/60000 (21%)]\tLoss: 0.029874\n",
            "Train Epoch: 5 [19200/60000 (32%)]\tLoss: 0.014201\n",
            "Train Epoch: 5 [25600/60000 (43%)]\tLoss: 0.052310\n",
            "Train Epoch: 5 [32000/60000 (53%)]\tLoss: 0.096121\n",
            "Train Epoch: 5 [38400/60000 (64%)]\tLoss: 0.056224\n",
            "Train Epoch: 5 [44800/60000 (75%)]\tLoss: 0.025806\n",
            "Train Epoch: 5 [51200/60000 (85%)]\tLoss: 0.082918\n",
            "Train Epoch: 5 [57600/60000 (96%)]\tLoss: 0.094313\n",
            "\n",
            "Test set: Average loss: 0.0738, Accuracy: 9774/10000 (97.7400%)\n",
            "\n",
            "Train Epoch: 6 [0/60000 (0%)]\tLoss: 0.033817\n",
            "Train Epoch: 6 [6400/60000 (11%)]\tLoss: 0.010477\n",
            "Train Epoch: 6 [12800/60000 (21%)]\tLoss: 0.011654\n",
            "Train Epoch: 6 [19200/60000 (32%)]\tLoss: 0.094499\n",
            "Train Epoch: 6 [25600/60000 (43%)]\tLoss: 0.047122\n",
            "Train Epoch: 6 [32000/60000 (53%)]\tLoss: 0.014987\n",
            "Train Epoch: 6 [38400/60000 (64%)]\tLoss: 0.042556\n",
            "Train Epoch: 6 [44800/60000 (75%)]\tLoss: 0.016578\n",
            "Train Epoch: 6 [51200/60000 (85%)]\tLoss: 0.039261\n",
            "Train Epoch: 6 [57600/60000 (96%)]\tLoss: 0.023916\n",
            "\n",
            "Test set: Average loss: 0.0795, Accuracy: 9757/10000 (97.5700%)\n",
            "\n",
            "Train Epoch: 7 [0/60000 (0%)]\tLoss: 0.013358\n",
            "Train Epoch: 7 [6400/60000 (11%)]\tLoss: 0.019543\n",
            "Train Epoch: 7 [12800/60000 (21%)]\tLoss: 0.006696\n",
            "Train Epoch: 7 [19200/60000 (32%)]\tLoss: 0.015018\n",
            "Train Epoch: 7 [25600/60000 (43%)]\tLoss: 0.043979\n",
            "Train Epoch: 7 [32000/60000 (53%)]\tLoss: 0.015701\n",
            "Train Epoch: 7 [38400/60000 (64%)]\tLoss: 0.013074\n",
            "Train Epoch: 7 [44800/60000 (75%)]\tLoss: 0.008557\n",
            "Train Epoch: 7 [51200/60000 (85%)]\tLoss: 0.057467\n",
            "Train Epoch: 7 [57600/60000 (96%)]\tLoss: 0.040088\n",
            "\n",
            "Test set: Average loss: 0.0827, Accuracy: 9744/10000 (97.4400%)\n",
            "\n",
            "Train Epoch: 8 [0/60000 (0%)]\tLoss: 0.032270\n",
            "Train Epoch: 8 [6400/60000 (11%)]\tLoss: 0.024116\n",
            "Train Epoch: 8 [12800/60000 (21%)]\tLoss: 0.024876\n",
            "Train Epoch: 8 [19200/60000 (32%)]\tLoss: 0.004699\n",
            "Train Epoch: 8 [25600/60000 (43%)]\tLoss: 0.060447\n",
            "Train Epoch: 8 [32000/60000 (53%)]\tLoss: 0.017269\n",
            "Train Epoch: 8 [38400/60000 (64%)]\tLoss: 0.106864\n",
            "Train Epoch: 8 [44800/60000 (75%)]\tLoss: 0.101209\n",
            "Train Epoch: 8 [51200/60000 (85%)]\tLoss: 0.043307\n",
            "Train Epoch: 8 [57600/60000 (96%)]\tLoss: 0.019857\n",
            "\n",
            "Test set: Average loss: 0.0745, Accuracy: 9767/10000 (97.6700%)\n",
            "\n",
            "Train Epoch: 9 [0/60000 (0%)]\tLoss: 0.013928\n",
            "Train Epoch: 9 [6400/60000 (11%)]\tLoss: 0.012765\n",
            "Train Epoch: 9 [12800/60000 (21%)]\tLoss: 0.010794\n",
            "Train Epoch: 9 [19200/60000 (32%)]\tLoss: 0.013471\n",
            "Train Epoch: 9 [25600/60000 (43%)]\tLoss: 0.005193\n",
            "Train Epoch: 9 [32000/60000 (53%)]\tLoss: 0.038694\n",
            "Train Epoch: 9 [38400/60000 (64%)]\tLoss: 0.005993\n",
            "Train Epoch: 9 [44800/60000 (75%)]\tLoss: 0.027923\n",
            "Train Epoch: 9 [51200/60000 (85%)]\tLoss: 0.014283\n",
            "Train Epoch: 9 [57600/60000 (96%)]\tLoss: 0.024616\n",
            "\n",
            "Test set: Average loss: 0.0715, Accuracy: 9773/10000 (97.7300%)\n",
            "\n",
            "Train Epoch: 10 [0/60000 (0%)]\tLoss: 0.044651\n",
            "Train Epoch: 10 [6400/60000 (11%)]\tLoss: 0.013484\n",
            "Train Epoch: 10 [12800/60000 (21%)]\tLoss: 0.027057\n",
            "Train Epoch: 10 [19200/60000 (32%)]\tLoss: 0.001918\n",
            "Train Epoch: 10 [25600/60000 (43%)]\tLoss: 0.005217\n",
            "Train Epoch: 10 [32000/60000 (53%)]\tLoss: 0.006919\n",
            "Train Epoch: 10 [38400/60000 (64%)]\tLoss: 0.009823\n",
            "Train Epoch: 10 [44800/60000 (75%)]\tLoss: 0.021012\n",
            "Train Epoch: 10 [51200/60000 (85%)]\tLoss: 0.027032\n",
            "Train Epoch: 10 [57600/60000 (96%)]\tLoss: 0.014536\n",
            "\n",
            "Test set: Average loss: 0.0762, Accuracy: 9767/10000 (97.6700%)\n",
            "\n",
            "Train Epoch: 1 [0/60000 (0%)]\tLoss: 2.568775\n",
            "Train Epoch: 1 [6400/60000 (11%)]\tLoss: 0.418113\n",
            "Train Epoch: 1 [12800/60000 (21%)]\tLoss: 0.499692\n",
            "Train Epoch: 1 [19200/60000 (32%)]\tLoss: 0.523850\n",
            "Train Epoch: 1 [25600/60000 (43%)]\tLoss: 0.523987\n",
            "Train Epoch: 1 [32000/60000 (53%)]\tLoss: 0.258274\n",
            "Train Epoch: 1 [38400/60000 (64%)]\tLoss: 0.171373\n",
            "Train Epoch: 1 [44800/60000 (75%)]\tLoss: 0.328465\n",
            "Train Epoch: 1 [51200/60000 (85%)]\tLoss: 0.392123\n",
            "Train Epoch: 1 [57600/60000 (96%)]\tLoss: 0.240257\n",
            "\n",
            "Test set: Average loss: 0.1748, Accuracy: 9484/10000 (94.8400%)\n",
            "\n",
            "Train Epoch: 2 [0/60000 (0%)]\tLoss: 0.234256\n",
            "Train Epoch: 2 [6400/60000 (11%)]\tLoss: 0.171225\n",
            "Train Epoch: 2 [12800/60000 (21%)]\tLoss: 0.268560\n",
            "Train Epoch: 2 [19200/60000 (32%)]\tLoss: 0.345730\n",
            "Train Epoch: 2 [25600/60000 (43%)]\tLoss: 0.450819\n",
            "Train Epoch: 2 [32000/60000 (53%)]\tLoss: 0.336569\n",
            "Train Epoch: 2 [38400/60000 (64%)]\tLoss: 0.176087\n",
            "Train Epoch: 2 [44800/60000 (75%)]\tLoss: 0.273994\n",
            "Train Epoch: 2 [51200/60000 (85%)]\tLoss: 0.191090\n",
            "Train Epoch: 2 [57600/60000 (96%)]\tLoss: 0.185290\n",
            "\n",
            "Test set: Average loss: 0.1400, Accuracy: 9595/10000 (95.9500%)\n",
            "\n",
            "Train Epoch: 3 [0/60000 (0%)]\tLoss: 0.307299\n",
            "Train Epoch: 3 [6400/60000 (11%)]\tLoss: 0.305455\n",
            "Train Epoch: 3 [12800/60000 (21%)]\tLoss: 0.053994\n",
            "Train Epoch: 3 [19200/60000 (32%)]\tLoss: 0.399332\n",
            "Train Epoch: 3 [25600/60000 (43%)]\tLoss: 0.338068\n",
            "Train Epoch: 3 [32000/60000 (53%)]\tLoss: 0.091597\n",
            "Train Epoch: 3 [38400/60000 (64%)]\tLoss: 0.145726\n",
            "Train Epoch: 3 [44800/60000 (75%)]\tLoss: 0.209730\n",
            "Train Epoch: 3 [51200/60000 (85%)]\tLoss: 0.291451\n",
            "Train Epoch: 3 [57600/60000 (96%)]\tLoss: 0.310419\n",
            "\n",
            "Test set: Average loss: 0.1252, Accuracy: 9629/10000 (96.2900%)\n",
            "\n",
            "Train Epoch: 4 [0/60000 (0%)]\tLoss: 0.152074\n",
            "Train Epoch: 4 [6400/60000 (11%)]\tLoss: 0.243289\n",
            "Train Epoch: 4 [12800/60000 (21%)]\tLoss: 0.162329\n",
            "Train Epoch: 4 [19200/60000 (32%)]\tLoss: 0.231923\n",
            "Train Epoch: 4 [25600/60000 (43%)]\tLoss: 0.102389\n",
            "Train Epoch: 4 [32000/60000 (53%)]\tLoss: 0.212083\n",
            "Train Epoch: 4 [38400/60000 (64%)]\tLoss: 0.136787\n",
            "Train Epoch: 4 [44800/60000 (75%)]\tLoss: 0.104329\n",
            "Train Epoch: 4 [51200/60000 (85%)]\tLoss: 0.152024\n",
            "Train Epoch: 4 [57600/60000 (96%)]\tLoss: 0.137283\n",
            "\n",
            "Test set: Average loss: 0.1147, Accuracy: 9666/10000 (96.6600%)\n",
            "\n",
            "Train Epoch: 5 [0/60000 (0%)]\tLoss: 0.198832\n",
            "Train Epoch: 5 [6400/60000 (11%)]\tLoss: 0.166579\n",
            "Train Epoch: 5 [12800/60000 (21%)]\tLoss: 0.247200\n",
            "Train Epoch: 5 [19200/60000 (32%)]\tLoss: 0.121291\n",
            "Train Epoch: 5 [25600/60000 (43%)]\tLoss: 0.147823\n",
            "Train Epoch: 5 [32000/60000 (53%)]\tLoss: 0.187992\n",
            "Train Epoch: 5 [38400/60000 (64%)]\tLoss: 0.218984\n",
            "Train Epoch: 5 [44800/60000 (75%)]\tLoss: 0.142880\n",
            "Train Epoch: 5 [51200/60000 (85%)]\tLoss: 0.229747\n",
            "Train Epoch: 5 [57600/60000 (96%)]\tLoss: 0.206739\n",
            "\n",
            "Test set: Average loss: 0.1039, Accuracy: 9704/10000 (97.0400%)\n",
            "\n",
            "Train Epoch: 6 [0/60000 (0%)]\tLoss: 0.163419\n",
            "Train Epoch: 6 [6400/60000 (11%)]\tLoss: 0.114935\n",
            "Train Epoch: 6 [12800/60000 (21%)]\tLoss: 0.251404\n",
            "Train Epoch: 6 [19200/60000 (32%)]\tLoss: 0.269778\n",
            "Train Epoch: 6 [25600/60000 (43%)]\tLoss: 0.289965\n",
            "Train Epoch: 6 [32000/60000 (53%)]\tLoss: 0.051378\n",
            "Train Epoch: 6 [38400/60000 (64%)]\tLoss: 0.181026\n",
            "Train Epoch: 6 [44800/60000 (75%)]\tLoss: 0.103752\n",
            "Train Epoch: 6 [51200/60000 (85%)]\tLoss: 0.088673\n",
            "Train Epoch: 6 [57600/60000 (96%)]\tLoss: 0.202593\n",
            "\n",
            "Test set: Average loss: 0.0996, Accuracy: 9707/10000 (97.0700%)\n",
            "\n",
            "Train Epoch: 7 [0/60000 (0%)]\tLoss: 0.138056\n",
            "Train Epoch: 7 [6400/60000 (11%)]\tLoss: 0.142052\n",
            "Train Epoch: 7 [12800/60000 (21%)]\tLoss: 0.180594\n",
            "Train Epoch: 7 [19200/60000 (32%)]\tLoss: 0.154193\n",
            "Train Epoch: 7 [25600/60000 (43%)]\tLoss: 0.151957\n",
            "Train Epoch: 7 [32000/60000 (53%)]\tLoss: 0.119326\n",
            "Train Epoch: 7 [38400/60000 (64%)]\tLoss: 0.230802\n",
            "Train Epoch: 7 [44800/60000 (75%)]\tLoss: 0.126682\n",
            "Train Epoch: 7 [51200/60000 (85%)]\tLoss: 0.293555\n",
            "Train Epoch: 7 [57600/60000 (96%)]\tLoss: 0.300770\n",
            "\n",
            "Test set: Average loss: 0.0944, Accuracy: 9727/10000 (97.2700%)\n",
            "\n",
            "Train Epoch: 8 [0/60000 (0%)]\tLoss: 0.268656\n",
            "Train Epoch: 8 [6400/60000 (11%)]\tLoss: 0.191191\n",
            "Train Epoch: 8 [12800/60000 (21%)]\tLoss: 0.293958\n",
            "Train Epoch: 8 [19200/60000 (32%)]\tLoss: 0.117054\n",
            "Train Epoch: 8 [25600/60000 (43%)]\tLoss: 0.215660\n",
            "Train Epoch: 8 [32000/60000 (53%)]\tLoss: 0.036743\n",
            "Train Epoch: 8 [38400/60000 (64%)]\tLoss: 0.220965\n",
            "Train Epoch: 8 [44800/60000 (75%)]\tLoss: 0.204490\n",
            "Train Epoch: 8 [51200/60000 (85%)]\tLoss: 0.180010\n",
            "Train Epoch: 8 [57600/60000 (96%)]\tLoss: 0.165571\n",
            "\n",
            "Test set: Average loss: 0.0917, Accuracy: 9731/10000 (97.3100%)\n",
            "\n",
            "Train Epoch: 9 [0/60000 (0%)]\tLoss: 0.126040\n",
            "Train Epoch: 9 [6400/60000 (11%)]\tLoss: 0.134142\n",
            "Train Epoch: 9 [12800/60000 (21%)]\tLoss: 0.073746\n",
            "Train Epoch: 9 [19200/60000 (32%)]\tLoss: 0.108039\n",
            "Train Epoch: 9 [25600/60000 (43%)]\tLoss: 0.096637\n",
            "Train Epoch: 9 [32000/60000 (53%)]\tLoss: 0.140294\n",
            "Train Epoch: 9 [38400/60000 (64%)]\tLoss: 0.222685\n",
            "Train Epoch: 9 [44800/60000 (75%)]\tLoss: 0.156415\n",
            "Train Epoch: 9 [51200/60000 (85%)]\tLoss: 0.105521\n",
            "Train Epoch: 9 [57600/60000 (96%)]\tLoss: 0.128152\n",
            "\n",
            "Test set: Average loss: 0.0908, Accuracy: 9737/10000 (97.3700%)\n",
            "\n",
            "Train Epoch: 10 [0/60000 (0%)]\tLoss: 0.134063\n",
            "Train Epoch: 10 [6400/60000 (11%)]\tLoss: 0.109515\n",
            "Train Epoch: 10 [12800/60000 (21%)]\tLoss: 0.332245\n",
            "Train Epoch: 10 [19200/60000 (32%)]\tLoss: 0.114256\n",
            "Train Epoch: 10 [25600/60000 (43%)]\tLoss: 0.136425\n",
            "Train Epoch: 10 [32000/60000 (53%)]\tLoss: 0.095057\n",
            "Train Epoch: 10 [38400/60000 (64%)]\tLoss: 0.195310\n",
            "Train Epoch: 10 [44800/60000 (75%)]\tLoss: 0.084777\n",
            "Train Epoch: 10 [51200/60000 (85%)]\tLoss: 0.135337\n",
            "Train Epoch: 10 [57600/60000 (96%)]\tLoss: 0.133361\n",
            "\n",
            "Test set: Average loss: 0.0886, Accuracy: 9736/10000 (97.3600%)\n",
            "\n",
            "Train Epoch: 1 [0/60000 (0%)]\tLoss: 2.325184\n",
            "Train Epoch: 1 [6400/60000 (11%)]\tLoss: 1.885601\n",
            "Train Epoch: 1 [12800/60000 (21%)]\tLoss: 0.989044\n",
            "Train Epoch: 1 [19200/60000 (32%)]\tLoss: 0.397669\n",
            "Train Epoch: 1 [25600/60000 (43%)]\tLoss: 0.440426\n",
            "Train Epoch: 1 [32000/60000 (53%)]\tLoss: 0.478441\n",
            "Train Epoch: 1 [38400/60000 (64%)]\tLoss: 0.326770\n",
            "Train Epoch: 1 [44800/60000 (75%)]\tLoss: 0.310250\n",
            "Train Epoch: 1 [51200/60000 (85%)]\tLoss: 0.301229\n",
            "Train Epoch: 1 [57600/60000 (96%)]\tLoss: 0.148094\n",
            "\n",
            "Test set: Average loss: 0.1893, Accuracy: 9423/10000 (94.2300%)\n",
            "\n",
            "Train Epoch: 2 [0/60000 (0%)]\tLoss: 0.238506\n",
            "Train Epoch: 2 [6400/60000 (11%)]\tLoss: 0.301855\n",
            "Train Epoch: 2 [12800/60000 (21%)]\tLoss: 0.513924\n",
            "Train Epoch: 2 [19200/60000 (32%)]\tLoss: 0.318250\n",
            "Train Epoch: 2 [25600/60000 (43%)]\tLoss: 0.183651\n",
            "Train Epoch: 2 [32000/60000 (53%)]\tLoss: 0.302089\n",
            "Train Epoch: 2 [38400/60000 (64%)]\tLoss: 0.403606\n",
            "Train Epoch: 2 [44800/60000 (75%)]\tLoss: 0.278166\n",
            "Train Epoch: 2 [51200/60000 (85%)]\tLoss: 0.247415\n",
            "Train Epoch: 2 [57600/60000 (96%)]\tLoss: 0.268305\n",
            "\n",
            "Test set: Average loss: 0.1526, Accuracy: 9578/10000 (95.7800%)\n",
            "\n",
            "Train Epoch: 3 [0/60000 (0%)]\tLoss: 0.110649\n",
            "Train Epoch: 3 [6400/60000 (11%)]\tLoss: 0.220445\n",
            "Train Epoch: 3 [12800/60000 (21%)]\tLoss: 0.590051\n",
            "Train Epoch: 3 [19200/60000 (32%)]\tLoss: 0.407042\n",
            "Train Epoch: 3 [25600/60000 (43%)]\tLoss: 0.363784\n",
            "Train Epoch: 3 [32000/60000 (53%)]\tLoss: 0.174023\n",
            "Train Epoch: 3 [38400/60000 (64%)]\tLoss: 0.215548\n",
            "Train Epoch: 3 [44800/60000 (75%)]\tLoss: 0.142146\n",
            "Train Epoch: 3 [51200/60000 (85%)]\tLoss: 0.270517\n",
            "Train Epoch: 3 [57600/60000 (96%)]\tLoss: 0.224515\n",
            "\n",
            "Test set: Average loss: 0.1393, Accuracy: 9603/10000 (96.0300%)\n",
            "\n",
            "Train Epoch: 4 [0/60000 (0%)]\tLoss: 0.308114\n",
            "Train Epoch: 4 [6400/60000 (11%)]\tLoss: 0.177304\n",
            "Train Epoch: 4 [12800/60000 (21%)]\tLoss: 0.148845\n",
            "Train Epoch: 4 [19200/60000 (32%)]\tLoss: 0.201957\n",
            "Train Epoch: 4 [25600/60000 (43%)]\tLoss: 0.228223\n",
            "Train Epoch: 4 [32000/60000 (53%)]\tLoss: 0.092475\n",
            "Train Epoch: 4 [38400/60000 (64%)]\tLoss: 0.110758\n",
            "Train Epoch: 4 [44800/60000 (75%)]\tLoss: 0.206161\n",
            "Train Epoch: 4 [51200/60000 (85%)]\tLoss: 0.212925\n",
            "Train Epoch: 4 [57600/60000 (96%)]\tLoss: 0.082505\n",
            "\n",
            "Test set: Average loss: 0.1328, Accuracy: 9634/10000 (96.3400%)\n",
            "\n",
            "Train Epoch: 5 [0/60000 (0%)]\tLoss: 0.055423\n",
            "Train Epoch: 5 [6400/60000 (11%)]\tLoss: 0.166821\n",
            "Train Epoch: 5 [12800/60000 (21%)]\tLoss: 0.250007\n",
            "Train Epoch: 5 [19200/60000 (32%)]\tLoss: 0.154210\n",
            "Train Epoch: 5 [25600/60000 (43%)]\tLoss: 0.086089\n",
            "Train Epoch: 5 [32000/60000 (53%)]\tLoss: 0.232147\n",
            "Train Epoch: 5 [38400/60000 (64%)]\tLoss: 0.026353\n",
            "Train Epoch: 5 [44800/60000 (75%)]\tLoss: 0.073919\n",
            "Train Epoch: 5 [51200/60000 (85%)]\tLoss: 0.066994\n",
            "Train Epoch: 5 [57600/60000 (96%)]\tLoss: 0.377091\n",
            "\n",
            "Test set: Average loss: 0.1303, Accuracy: 9656/10000 (96.5600%)\n",
            "\n",
            "Train Epoch: 6 [0/60000 (0%)]\tLoss: 0.215370\n",
            "Train Epoch: 6 [6400/60000 (11%)]\tLoss: 0.209273\n",
            "Train Epoch: 6 [12800/60000 (21%)]\tLoss: 0.122259\n",
            "Train Epoch: 6 [19200/60000 (32%)]\tLoss: 0.043258\n",
            "Train Epoch: 6 [25600/60000 (43%)]\tLoss: 0.162325\n",
            "Train Epoch: 6 [32000/60000 (53%)]\tLoss: 0.051218\n",
            "Train Epoch: 6 [38400/60000 (64%)]\tLoss: 0.118277\n",
            "Train Epoch: 6 [44800/60000 (75%)]\tLoss: 0.227939\n",
            "Train Epoch: 6 [51200/60000 (85%)]\tLoss: 0.162226\n",
            "Train Epoch: 6 [57600/60000 (96%)]\tLoss: 0.092581\n",
            "\n",
            "Test set: Average loss: 0.1118, Accuracy: 9714/10000 (97.1400%)\n",
            "\n",
            "Train Epoch: 7 [0/60000 (0%)]\tLoss: 0.116740\n",
            "Train Epoch: 7 [6400/60000 (11%)]\tLoss: 0.080479\n",
            "Train Epoch: 7 [12800/60000 (21%)]\tLoss: 0.104473\n",
            "Train Epoch: 7 [19200/60000 (32%)]\tLoss: 0.172178\n",
            "Train Epoch: 7 [25600/60000 (43%)]\tLoss: 0.065927\n",
            "Train Epoch: 7 [32000/60000 (53%)]\tLoss: 0.108897\n",
            "Train Epoch: 7 [38400/60000 (64%)]\tLoss: 0.105561\n",
            "Train Epoch: 7 [44800/60000 (75%)]\tLoss: 0.198397\n",
            "Train Epoch: 7 [51200/60000 (85%)]\tLoss: 0.063626\n",
            "Train Epoch: 7 [57600/60000 (96%)]\tLoss: 0.094482\n",
            "\n",
            "Test set: Average loss: 0.1134, Accuracy: 9722/10000 (97.2200%)\n",
            "\n",
            "Train Epoch: 8 [0/60000 (0%)]\tLoss: 0.070794\n",
            "Train Epoch: 8 [6400/60000 (11%)]\tLoss: 0.113153\n",
            "Train Epoch: 8 [12800/60000 (21%)]\tLoss: 0.164238\n",
            "Train Epoch: 8 [19200/60000 (32%)]\tLoss: 0.071697\n",
            "Train Epoch: 8 [25600/60000 (43%)]\tLoss: 0.057837\n",
            "Train Epoch: 8 [32000/60000 (53%)]\tLoss: 0.089597\n",
            "Train Epoch: 8 [38400/60000 (64%)]\tLoss: 0.096175\n",
            "Train Epoch: 8 [44800/60000 (75%)]\tLoss: 0.063011\n",
            "Train Epoch: 8 [51200/60000 (85%)]\tLoss: 0.094263\n",
            "Train Epoch: 8 [57600/60000 (96%)]\tLoss: 0.121007\n",
            "\n",
            "Test set: Average loss: 0.1012, Accuracy: 9752/10000 (97.5200%)\n",
            "\n",
            "Train Epoch: 9 [0/60000 (0%)]\tLoss: 0.074852\n",
            "Train Epoch: 9 [6400/60000 (11%)]\tLoss: 0.385688\n",
            "Train Epoch: 9 [12800/60000 (21%)]\tLoss: 0.031501\n",
            "Train Epoch: 9 [19200/60000 (32%)]\tLoss: 0.136638\n",
            "Train Epoch: 9 [25600/60000 (43%)]\tLoss: 0.159492\n",
            "Train Epoch: 9 [32000/60000 (53%)]\tLoss: 0.177426\n",
            "Train Epoch: 9 [38400/60000 (64%)]\tLoss: 0.250406\n",
            "Train Epoch: 9 [44800/60000 (75%)]\tLoss: 0.040782\n",
            "Train Epoch: 9 [51200/60000 (85%)]\tLoss: 0.260724\n",
            "Train Epoch: 9 [57600/60000 (96%)]\tLoss: 0.068618\n",
            "\n",
            "Test set: Average loss: 0.1374, Accuracy: 9708/10000 (97.0800%)\n",
            "\n",
            "Train Epoch: 10 [0/60000 (0%)]\tLoss: 0.106467\n",
            "Train Epoch: 10 [6400/60000 (11%)]\tLoss: 0.088402\n",
            "Train Epoch: 10 [12800/60000 (21%)]\tLoss: 0.059749\n",
            "Train Epoch: 10 [19200/60000 (32%)]\tLoss: 0.128330\n",
            "Train Epoch: 10 [25600/60000 (43%)]\tLoss: 0.112931\n",
            "Train Epoch: 10 [32000/60000 (53%)]\tLoss: 0.055924\n",
            "Train Epoch: 10 [38400/60000 (64%)]\tLoss: 0.164468\n",
            "Train Epoch: 10 [44800/60000 (75%)]\tLoss: 0.095333\n",
            "Train Epoch: 10 [51200/60000 (85%)]\tLoss: 0.103071\n",
            "Train Epoch: 10 [57600/60000 (96%)]\tLoss: 0.068601\n",
            "\n",
            "Test set: Average loss: 0.1204, Accuracy: 9735/10000 (97.3500%)\n",
            "\n",
            "Train Epoch: 1 [0/60000 (0%)]\tLoss: 2.492369\n",
            "Train Epoch: 1 [6400/60000 (11%)]\tLoss: 0.639072\n",
            "Train Epoch: 1 [12800/60000 (21%)]\tLoss: 0.722723\n",
            "Train Epoch: 1 [19200/60000 (32%)]\tLoss: 0.325563\n",
            "Train Epoch: 1 [25600/60000 (43%)]\tLoss: 0.249158\n",
            "Train Epoch: 1 [32000/60000 (53%)]\tLoss: 0.318726\n",
            "Train Epoch: 1 [38400/60000 (64%)]\tLoss: 0.267369\n",
            "Train Epoch: 1 [44800/60000 (75%)]\tLoss: 0.210668\n",
            "Train Epoch: 1 [51200/60000 (85%)]\tLoss: 0.417765\n",
            "Train Epoch: 1 [57600/60000 (96%)]\tLoss: 0.186516\n",
            "\n",
            "Test set: Average loss: 0.1273, Accuracy: 9621/10000 (96.2100%)\n",
            "\n",
            "Train Epoch: 2 [0/60000 (0%)]\tLoss: 0.389127\n",
            "Train Epoch: 2 [6400/60000 (11%)]\tLoss: 0.317828\n",
            "Train Epoch: 2 [12800/60000 (21%)]\tLoss: 0.433494\n",
            "Train Epoch: 2 [19200/60000 (32%)]\tLoss: 0.206181\n",
            "Train Epoch: 2 [25600/60000 (43%)]\tLoss: 0.137080\n",
            "Train Epoch: 2 [32000/60000 (53%)]\tLoss: 0.282639\n",
            "Train Epoch: 2 [38400/60000 (64%)]\tLoss: 0.384472\n",
            "Train Epoch: 2 [44800/60000 (75%)]\tLoss: 0.190331\n",
            "Train Epoch: 2 [51200/60000 (85%)]\tLoss: 0.284172\n",
            "Train Epoch: 2 [57600/60000 (96%)]\tLoss: 0.193937\n",
            "\n",
            "Test set: Average loss: 0.1047, Accuracy: 9698/10000 (96.9800%)\n",
            "\n",
            "Train Epoch: 3 [0/60000 (0%)]\tLoss: 0.257220\n",
            "Train Epoch: 3 [6400/60000 (11%)]\tLoss: 0.373090\n",
            "Train Epoch: 3 [12800/60000 (21%)]\tLoss: 0.483101\n",
            "Train Epoch: 3 [19200/60000 (32%)]\tLoss: 0.374547\n",
            "Train Epoch: 3 [25600/60000 (43%)]\tLoss: 0.257727\n",
            "Train Epoch: 3 [32000/60000 (53%)]\tLoss: 0.170573\n",
            "Train Epoch: 3 [38400/60000 (64%)]\tLoss: 0.240231\n",
            "Train Epoch: 3 [44800/60000 (75%)]\tLoss: 0.145272\n",
            "Train Epoch: 3 [51200/60000 (85%)]\tLoss: 0.226155\n",
            "Train Epoch: 3 [57600/60000 (96%)]\tLoss: 0.154952\n",
            "\n",
            "Test set: Average loss: 0.0939, Accuracy: 9733/10000 (97.3300%)\n",
            "\n",
            "Train Epoch: 4 [0/60000 (0%)]\tLoss: 0.146224\n",
            "Train Epoch: 4 [6400/60000 (11%)]\tLoss: 0.172515\n",
            "Train Epoch: 4 [12800/60000 (21%)]\tLoss: 0.110545\n",
            "Train Epoch: 4 [19200/60000 (32%)]\tLoss: 0.220831\n",
            "Train Epoch: 4 [25600/60000 (43%)]\tLoss: 0.296631\n",
            "Train Epoch: 4 [32000/60000 (53%)]\tLoss: 0.087349\n",
            "Train Epoch: 4 [38400/60000 (64%)]\tLoss: 0.205676\n",
            "Train Epoch: 4 [44800/60000 (75%)]\tLoss: 0.153866\n",
            "Train Epoch: 4 [51200/60000 (85%)]\tLoss: 0.291579\n",
            "Train Epoch: 4 [57600/60000 (96%)]\tLoss: 0.152928\n",
            "\n",
            "Test set: Average loss: 0.0918, Accuracy: 9753/10000 (97.5300%)\n",
            "\n",
            "Train Epoch: 5 [0/60000 (0%)]\tLoss: 0.048978\n",
            "Train Epoch: 5 [6400/60000 (11%)]\tLoss: 0.149493\n",
            "Train Epoch: 5 [12800/60000 (21%)]\tLoss: 0.183375\n",
            "Train Epoch: 5 [19200/60000 (32%)]\tLoss: 0.115636\n",
            "Train Epoch: 5 [25600/60000 (43%)]\tLoss: 0.070246\n",
            "Train Epoch: 5 [32000/60000 (53%)]\tLoss: 0.179962\n",
            "Train Epoch: 5 [38400/60000 (64%)]\tLoss: 0.025133\n",
            "Train Epoch: 5 [44800/60000 (75%)]\tLoss: 0.131229\n",
            "Train Epoch: 5 [51200/60000 (85%)]\tLoss: 0.117474\n",
            "Train Epoch: 5 [57600/60000 (96%)]\tLoss: 0.169334\n",
            "\n",
            "Test set: Average loss: 0.0810, Accuracy: 9780/10000 (97.8000%)\n",
            "\n",
            "Train Epoch: 6 [0/60000 (0%)]\tLoss: 0.160065\n",
            "Train Epoch: 6 [6400/60000 (11%)]\tLoss: 0.056339\n",
            "Train Epoch: 6 [12800/60000 (21%)]\tLoss: 0.101600\n",
            "Train Epoch: 6 [19200/60000 (32%)]\tLoss: 0.065687\n",
            "Train Epoch: 6 [25600/60000 (43%)]\tLoss: 0.146902\n",
            "Train Epoch: 6 [32000/60000 (53%)]\tLoss: 0.073029\n",
            "Train Epoch: 6 [38400/60000 (64%)]\tLoss: 0.333461\n",
            "Train Epoch: 6 [44800/60000 (75%)]\tLoss: 0.145311\n",
            "Train Epoch: 6 [51200/60000 (85%)]\tLoss: 0.107867\n",
            "Train Epoch: 6 [57600/60000 (96%)]\tLoss: 0.085833\n",
            "\n",
            "Test set: Average loss: 0.0839, Accuracy: 9787/10000 (97.8700%)\n",
            "\n",
            "Train Epoch: 7 [0/60000 (0%)]\tLoss: 0.142453\n",
            "Train Epoch: 7 [6400/60000 (11%)]\tLoss: 0.027027\n",
            "Train Epoch: 7 [12800/60000 (21%)]\tLoss: 0.168041\n",
            "Train Epoch: 7 [19200/60000 (32%)]\tLoss: 0.043032\n",
            "Train Epoch: 7 [25600/60000 (43%)]\tLoss: 0.055245\n",
            "Train Epoch: 7 [32000/60000 (53%)]\tLoss: 0.061601\n",
            "Train Epoch: 7 [38400/60000 (64%)]\tLoss: 0.056993\n",
            "Train Epoch: 7 [44800/60000 (75%)]\tLoss: 0.127426\n",
            "Train Epoch: 7 [51200/60000 (85%)]\tLoss: 0.109240\n",
            "Train Epoch: 7 [57600/60000 (96%)]\tLoss: 0.170625\n",
            "\n",
            "Test set: Average loss: 0.0779, Accuracy: 9796/10000 (97.9600%)\n",
            "\n",
            "Train Epoch: 8 [0/60000 (0%)]\tLoss: 0.141185\n",
            "Train Epoch: 8 [6400/60000 (11%)]\tLoss: 0.111479\n",
            "Train Epoch: 8 [12800/60000 (21%)]\tLoss: 0.146496\n",
            "Train Epoch: 8 [19200/60000 (32%)]\tLoss: 0.087994\n",
            "Train Epoch: 8 [25600/60000 (43%)]\tLoss: 0.104067\n",
            "Train Epoch: 8 [32000/60000 (53%)]\tLoss: 0.038620\n",
            "Train Epoch: 8 [38400/60000 (64%)]\tLoss: 0.036394\n",
            "Train Epoch: 8 [44800/60000 (75%)]\tLoss: 0.117344\n",
            "Train Epoch: 8 [51200/60000 (85%)]\tLoss: 0.078699\n",
            "Train Epoch: 8 [57600/60000 (96%)]\tLoss: 0.184236\n",
            "\n",
            "Test set: Average loss: 0.0713, Accuracy: 9801/10000 (98.0100%)\n",
            "\n",
            "Train Epoch: 9 [0/60000 (0%)]\tLoss: 0.039220\n",
            "Train Epoch: 9 [6400/60000 (11%)]\tLoss: 0.222066\n",
            "Train Epoch: 9 [12800/60000 (21%)]\tLoss: 0.086934\n",
            "Train Epoch: 9 [19200/60000 (32%)]\tLoss: 0.232004\n",
            "Train Epoch: 9 [25600/60000 (43%)]\tLoss: 0.123284\n",
            "Train Epoch: 9 [32000/60000 (53%)]\tLoss: 0.172573\n",
            "Train Epoch: 9 [38400/60000 (64%)]\tLoss: 0.396936\n",
            "Train Epoch: 9 [44800/60000 (75%)]\tLoss: 0.022333\n",
            "Train Epoch: 9 [51200/60000 (85%)]\tLoss: 0.235871\n",
            "Train Epoch: 9 [57600/60000 (96%)]\tLoss: 0.085450\n",
            "\n",
            "Test set: Average loss: 0.0793, Accuracy: 9793/10000 (97.9300%)\n",
            "\n",
            "Train Epoch: 10 [0/60000 (0%)]\tLoss: 0.034740\n",
            "Train Epoch: 10 [6400/60000 (11%)]\tLoss: 0.067164\n",
            "Train Epoch: 10 [12800/60000 (21%)]\tLoss: 0.101742\n",
            "Train Epoch: 10 [19200/60000 (32%)]\tLoss: 0.163771\n",
            "Train Epoch: 10 [25600/60000 (43%)]\tLoss: 0.185959\n",
            "Train Epoch: 10 [32000/60000 (53%)]\tLoss: 0.107373\n",
            "Train Epoch: 10 [38400/60000 (64%)]\tLoss: 0.105795\n",
            "Train Epoch: 10 [44800/60000 (75%)]\tLoss: 0.079622\n",
            "Train Epoch: 10 [51200/60000 (85%)]\tLoss: 0.058469\n",
            "Train Epoch: 10 [57600/60000 (96%)]\tLoss: 0.203151\n",
            "\n",
            "Test set: Average loss: 0.0683, Accuracy: 9815/10000 (98.1500%)\n",
            "\n"
          ],
          "name": "stdout"
        }
      ]
    },
    {
      "cell_type": "markdown",
      "metadata": {
        "id": "vRc73jUPqF5B"
      },
      "source": [
        "## Momentum \n",
        "\n",
        "Momentum in gradient descent is similar to the concept of momentum in physics. The optimization process resembles a ball rolling down the hill. Momentum keeps the ball moving in the same direction that it is already moving in. The gradient can be thought of as a force pushing the ball in some other direction.\n",
        "\n",
        "<p align=\"center\">\n",
        "  <img width=\"460\" height=\"300\" src=\"https://miro.medium.com/max/640/1*i1Qc2E0TVlPHEKG7LepXgA.gif\">\n",
        "</p>\n",
        "\n",
        "Mathematically it can be expressed as follows-\n",
        "$$w_{t+1}=w_t-\\eta (\\nabla f(w_t) +\\beta m_{t}) $$\n",
        "$$m_{t+1}= \\nabla f(w_t) +\\beta m_{t}$$\n",
        "or, equivalently\n",
        "$$w_{t+1}= w_t -\\eta\\nabla f(w_t) +\\beta (w_{t} -w_{t-1})$$\n",
        "\n",
        "where\n",
        "*   $m$ is the momentum (the running average of the past gradients, initialized at zero),\n",
        "*   $\\beta\\in [0,1)$ is the damping factor, usually $0.9$ or $0.99$."
      ]
    },
    {
      "cell_type": "markdown",
      "metadata": {
        "id": "MSYiHGpxHill"
      },
      "source": [
        "\n",
        "\n",
        "Let’s consider two extreme cases to understand this decay rate parameter better. If the decay rate is 0, then it is exactly the same as (vanilla) gradient descent (blue ball). If the decay rate is 1 (and provided that the learning rate is reasonably small), then it rocks back and forth endlessly like the frictionless ball we saw previously; you do not want that. Typically the decay rate is chosen around 0.8–0.9 — it’s like a surface with a little bit of friction so it eventually slows down and stops (purple ball).\n",
        "\n",
        "<p align=\"center\">\n",
        "  <img width=\"460\" height=\"300\" src=\"https://miro.medium.com/max/800/1*zVi4ayX9u0MQQwa90CnxVg.gif\">\n",
        "</p>\n",
        "\n"
      ]
    },
    {
      "cell_type": "code",
      "metadata": {
        "id": "z03cu7Fd9bSc"
      },
      "source": [
        "#useful link: \n",
        "#https://distill.pub/2017/momentum/"
      ],
      "execution_count": 14,
      "outputs": []
    },
    {
      "cell_type": "markdown",
      "metadata": {
        "id": "4fueewl41I-7"
      },
      "source": [
        "In the standard SGD formulation, every weight in network is updated with the same learning rate (global $\\eta$). Here, we adapt a learning rate for each weight individually, using information we get from their gradients.\n",
        "\n",
        "## Adagrad\n",
        "\n",
        "Adagrad adapts the learning rate of each parameter, downweighting the learning rates for parameters that have changed a lot and upweighting the learning rates of parameters that have changed very little.\n",
        "\n",
        "It uses a different learning rate for every parameter $w_j$ at every time step, $t$. (The time step here in practice is a minibatch, with everything averaged over that minibatch.) The update for every parameter $w_j$ at each time step (or epoch) $t$ then becomes\n",
        "\n",
        "$$w_{t+1}=w_t- \\frac{\\eta}{\\sqrt{v_{t+1}+\\epsilon}} \\nabla f(w_t)$$\n",
        "\n",
        "where the equation holds for every feature $w_j$ separately. Thus, $\\nabla f(w_{t})$ is the partial derivative of the objective function w.r.t. to the parameter $w_j$ at time step $t$ and the learning rate for each feature is scaleed using the sum of the gradients for that feature:\n",
        "\n",
        "$$v_{t+1} = \\sum^t_{\\tau=1} \\nabla f(w_{\\tau})^2$$\n",
        "\n",
        "Adagrad effectively selects low learning rates for parameters associated with frequently occurring features, and high learning rates for parameters associated with infrequent features. It is thus well-suited for dealing with sparse data.\n"
      ]
    },
    {
      "cell_type": "markdown",
      "metadata": {
        "id": "49-vUMw91QDw"
      },
      "source": [
        "## RMSprop\n",
        "\n",
        "RMSprop seeks to reduce Adagrad's aggressive, monotonically decreasing learning rate. Instead of accumulating all past squared gradients, RMSprop restricts the window of accumulated past gradients to some fixed size. The sum of gradients is recursively defined as a decaying average of all past squared gradients.\n",
        "\n",
        "$$w_{t+1}=w_t- \\frac{\\eta}{\\sqrt{v_{t+1}+\\epsilon}} \\nabla f(w_t)$$\n",
        "$$v_{t+1}=\\alpha v_t+(1-\\alpha)(\\nabla f(w_t))^2$$\n",
        "\n",
        "where \n",
        "*   $v$ is the 2nd moment estimate which depends (as a fraction $\\alpha$ similarly to the Momentum term) on the previous average and the current gradient.\n",
        "*   $\\alpha$ is usually set to $0.9$, while a good default value for the learning rate $\\eta$ is $0.001$.\n",
        "\n",
        "We update $v$ to estimate this noisy quantity via an exponential moving average (which is a standard way of maintaining an average of a quantity that may change over time). We need to put larger weights on the newer values as they provide more information. One way to do that is down-weight old values exponentially. The values in the $v$ calculation that are very old are down-weighted at each step by an $\\alpha$ constant, which varies between 0 and 1. This dampens the old values until they are no longer an important part of the exponential moving average."
      ]
    },
    {
      "cell_type": "markdown",
      "metadata": {
        "id": "KFaBE3Dg4xEv"
      },
      "source": [
        "## Adam\n",
        "\n",
        "Adam is one of the most effective optimization algorithms for training neural networks. It combines ideas from RMSProp (described in lecture) and Momentum. \n",
        "\n",
        "**How does Adam work?**\n",
        "1. It calculates an exponentially weighted average of past gradients, and stores it in variables $v$ (before bias correction) and $v^{corrected}$ (with bias correction). \n",
        "2. It calculates an exponentially weighted average of the squares of the past gradients, and  stores it in variables $s$ (before bias correction) and $s^{corrected}$ (with bias correction). \n",
        "3. It updates parameters in a direction based on combining information from \"1\" and \"2\".\n",
        "\n",
        "The update rule is, for $l = 1, ..., L$: \n",
        "\n",
        "$$\\begin{cases}\n",
        "v_{dW^{[l]}} = \\beta_1 v_{dW^{[l]}} + (1 - \\beta_1) \\frac{\\partial \\mathcal{J} }{ \\partial W^{[l]} } \\\\\n",
        "v^{corrected}_{dW^{[l]}} = \\frac{v_{dW^{[l]}}}{1 - (\\beta_1)^t} \\\\\n",
        "s_{dW^{[l]}} = \\beta_2 s_{dW^{[l]}} + (1 - \\beta_2) (\\frac{\\partial \\mathcal{J} }{\\partial W^{[l]} })^2 \\\\\n",
        "s^{corrected}_{dW^{[l]}} = \\frac{s_{dW^{[l]}}}{1 - (\\beta_2)^t} \\\\\n",
        "W^{[l]} = W^{[l]} - \\alpha \\frac{v^{corrected}_{dW^{[l]}}}{\\sqrt{s^{corrected}_{dW^{[l]}}} + \\varepsilon}\n",
        "\\end{cases}$$\n",
        "where:\n",
        "- t counts the number of steps taken of Adam \n",
        "- L is the number of layers\n",
        "- $\\beta_1$ and $\\beta_2$ are hyperparameters that control the two exponentially weighted averages. \n",
        "- $\\alpha$ is the learning rate\n",
        "- $\\varepsilon$ is a very small number to avoid dividing by zero\n",
        "\n",
        "As usual, we will store all parameters in the `parameters` dictionary  "
      ]
    },
    {
      "cell_type": "markdown",
      "metadata": {
        "id": "KgdI1x0MS8-D"
      },
      "source": [
        "## Learn and compare different adaptive learning rate optimizers\n",
        "\n",
        "For SGD with fixed schedule, Adagrad, RMSprop, Adam, how do they differ on train and test error? Which one works the best?\n",
        "\n",
        "We compare these optimizers by performing digit classification task in MNIST."
      ]
    },
    {
      "cell_type": "code",
      "metadata": {
        "id": "NIWmVS4TzfC5"
      },
      "source": [
        "def optimizer_eval(args):\n",
        "    use_cuda = not args['no_cuda'] and torch.cuda.is_available()\n",
        "    torch.manual_seed(args['seed'])\n",
        "    device = torch.device('cuda' if use_cuda else 'cpu')\n",
        "\n",
        "    train_kwargs = {'batch_size': args['batch_size']}\n",
        "    test_kwargs = {'batch_size': args['test_batch_size']}\n",
        "    if use_cuda:\n",
        "        cuda_kwargs = {'num_workers': 1,\n",
        "                       'pin_memory': True,\n",
        "                       'shuffle': True}\n",
        "        train_kwargs.update(cuda_kwargs)\n",
        "        test_kwargs.update(cuda_kwargs)\n",
        "\n",
        "    transform=transforms.Compose([\n",
        "        transforms.ToTensor(),\n",
        "        transforms.Normalize((0.1307,), (0.3081,))\n",
        "        ])\n",
        "    train_loader = torch.utils.data.DataLoader(datasets.MNIST('../data', train=True, download=True,\n",
        "                       transform=transform),**train_kwargs)\n",
        "    test_loader = torch.utils.data.DataLoader(datasets.MNIST('../data', train=False,\n",
        "                       transform=transform), **test_kwargs)\n",
        "\n",
        "    model = Net().to(device)\n",
        "    if args['optimizer'] == 'sgd':\n",
        "        optimizer = optim.SGD(model.parameters(), lr=args['lr'])\n",
        "    elif args['optimizer'] == 'adagrad':\n",
        "        optimizer = optim.Adagrad(model.parameters(), lr=args['lr'])\n",
        "    elif args['optimizer'] == 'rmsprop':\n",
        "        optimizer = optim.RMSprop(model.parameters(), lr=1e-3)\n",
        "    elif args['optimizer'] == 'adam':\n",
        "        optimizer = optim.Adam(model.parameters(), lr=1e-3)\n",
        "\n",
        "    train_list, test_list = [], []\n",
        "    for epoch in range(1, args['epochs'] + 1):\n",
        "        train_acc = train(args, model, device, train_loader, optimizer, epoch)\n",
        "        train_list.append(100.-train_acc)\n",
        "        test_acc = test(model, device, test_loader)\n",
        "        test_list.append(100.-test_acc)\n",
        "\n",
        "    return train_list, test_list "
      ],
      "execution_count": 15,
      "outputs": []
    },
    {
      "cell_type": "markdown",
      "metadata": {
        "id": "uktQPea8gNBk"
      },
      "source": [
        "The training takes over 20 mins. Please skip running below cells for now and come back if time is allowed."
      ]
    },
    {
      "cell_type": "code",
      "metadata": {
        "id": "D3yrm_IMB3u3"
      },
      "source": [
        "# Training settings\n",
        "args = {'batch_size': 64,\n",
        "        'test_batch_size': 1000,\n",
        "        'epochs': 10,\n",
        "        'lr': 0.01,\n",
        "        'momentum': 0.9,\n",
        "        'net_type': 'Net',\n",
        "        'anneal_type': 'linear',\n",
        "        'optimizer': 'sgd',\n",
        "        'no_cuda': False,\n",
        "        'seed': 1,\n",
        "        'log_interval': 100\n",
        "        }"
      ],
      "execution_count": 16,
      "outputs": []
    },
    {
      "cell_type": "code",
      "metadata": {
        "id": "QEbJfEL-B4xO"
      },
      "source": [
        "optimizer = ['sgd', 'adagrad', 'rmsprop', 'adam']\n",
        "error_dict = {}\n"
      ],
      "execution_count": 17,
      "outputs": []
    },
    {
      "cell_type": "code",
      "metadata": {
        "id": "vvX9ezmg0Er3",
        "colab": {
          "base_uri": "https://localhost:8080/"
        },
        "outputId": "abb38c0c-7cf7-482d-b001-442e031adf03"
      },
      "source": [
        "\n",
        "for i in range(len(optimizer)):\n",
        "    args['optimizer'] = optimizer[i]\n",
        "    train_error, test_error = optimizer_eval(args)\n",
        "    error_dict['train' + str(optimizer[i])] = train_error\n",
        "    error_dict['test' + str(optimizer[i])] = test_error"
      ],
      "execution_count": 18,
      "outputs": [
        {
          "output_type": "stream",
          "text": [
            "Train Epoch: 1 [0/60000 (0%)]\tLoss: 2.316347\n",
            "Train Epoch: 1 [6400/60000 (11%)]\tLoss: 1.032837\n",
            "Train Epoch: 1 [12800/60000 (21%)]\tLoss: 0.629122\n",
            "Train Epoch: 1 [19200/60000 (32%)]\tLoss: 0.694035\n",
            "Train Epoch: 1 [25600/60000 (43%)]\tLoss: 0.588824\n",
            "Train Epoch: 1 [32000/60000 (53%)]\tLoss: 0.430997\n",
            "Train Epoch: 1 [38400/60000 (64%)]\tLoss: 0.235259\n",
            "Train Epoch: 1 [44800/60000 (75%)]\tLoss: 0.327051\n",
            "Train Epoch: 1 [51200/60000 (85%)]\tLoss: 0.438414\n",
            "Train Epoch: 1 [57600/60000 (96%)]\tLoss: 0.240641\n",
            "\n",
            "Test set: Average loss: 0.3242, Accuracy: 9083/10000 (90.8300%)\n",
            "\n",
            "Train Epoch: 2 [0/60000 (0%)]\tLoss: 0.242436\n",
            "Train Epoch: 2 [6400/60000 (11%)]\tLoss: 0.243902\n",
            "Train Epoch: 2 [12800/60000 (21%)]\tLoss: 0.227456\n",
            "Train Epoch: 2 [19200/60000 (32%)]\tLoss: 0.385937\n",
            "Train Epoch: 2 [25600/60000 (43%)]\tLoss: 0.317543\n",
            "Train Epoch: 2 [32000/60000 (53%)]\tLoss: 0.389771\n",
            "Train Epoch: 2 [38400/60000 (64%)]\tLoss: 0.224058\n",
            "Train Epoch: 2 [44800/60000 (75%)]\tLoss: 0.233456\n",
            "Train Epoch: 2 [51200/60000 (85%)]\tLoss: 0.235209\n",
            "Train Epoch: 2 [57600/60000 (96%)]\tLoss: 0.212870\n",
            "\n",
            "Test set: Average loss: 0.2650, Accuracy: 9251/10000 (92.5100%)\n",
            "\n",
            "Train Epoch: 3 [0/60000 (0%)]\tLoss: 0.298318\n",
            "Train Epoch: 3 [6400/60000 (11%)]\tLoss: 0.232883\n",
            "Train Epoch: 3 [12800/60000 (21%)]\tLoss: 0.086087\n",
            "Train Epoch: 3 [19200/60000 (32%)]\tLoss: 0.279249\n",
            "Train Epoch: 3 [25600/60000 (43%)]\tLoss: 0.350071\n",
            "Train Epoch: 3 [32000/60000 (53%)]\tLoss: 0.158839\n",
            "Train Epoch: 3 [38400/60000 (64%)]\tLoss: 0.420400\n",
            "Train Epoch: 3 [44800/60000 (75%)]\tLoss: 0.147905\n",
            "Train Epoch: 3 [51200/60000 (85%)]\tLoss: 0.219345\n",
            "Train Epoch: 3 [57600/60000 (96%)]\tLoss: 0.225677\n",
            "\n",
            "Test set: Average loss: 0.2318, Accuracy: 9356/10000 (93.5600%)\n",
            "\n",
            "Train Epoch: 4 [0/60000 (0%)]\tLoss: 0.142316\n",
            "Train Epoch: 4 [6400/60000 (11%)]\tLoss: 0.313546\n",
            "Train Epoch: 4 [12800/60000 (21%)]\tLoss: 0.178308\n",
            "Train Epoch: 4 [19200/60000 (32%)]\tLoss: 0.287100\n",
            "Train Epoch: 4 [25600/60000 (43%)]\tLoss: 0.140380\n",
            "Train Epoch: 4 [32000/60000 (53%)]\tLoss: 0.185279\n",
            "Train Epoch: 4 [38400/60000 (64%)]\tLoss: 0.288050\n",
            "Train Epoch: 4 [44800/60000 (75%)]\tLoss: 0.242471\n",
            "Train Epoch: 4 [51200/60000 (85%)]\tLoss: 0.189803\n",
            "Train Epoch: 4 [57600/60000 (96%)]\tLoss: 0.215473\n",
            "\n",
            "Test set: Average loss: 0.2076, Accuracy: 9412/10000 (94.1200%)\n",
            "\n",
            "Train Epoch: 5 [0/60000 (0%)]\tLoss: 0.182003\n",
            "Train Epoch: 5 [6400/60000 (11%)]\tLoss: 0.234314\n",
            "Train Epoch: 5 [12800/60000 (21%)]\tLoss: 0.254971\n",
            "Train Epoch: 5 [19200/60000 (32%)]\tLoss: 0.183941\n",
            "Train Epoch: 5 [25600/60000 (43%)]\tLoss: 0.106989\n",
            "Train Epoch: 5 [32000/60000 (53%)]\tLoss: 0.147235\n",
            "Train Epoch: 5 [38400/60000 (64%)]\tLoss: 0.153088\n",
            "Train Epoch: 5 [44800/60000 (75%)]\tLoss: 0.086903\n",
            "Train Epoch: 5 [51200/60000 (85%)]\tLoss: 0.223234\n",
            "Train Epoch: 5 [57600/60000 (96%)]\tLoss: 0.239446\n",
            "\n",
            "Test set: Average loss: 0.1874, Accuracy: 9452/10000 (94.5200%)\n",
            "\n",
            "Train Epoch: 6 [0/60000 (0%)]\tLoss: 0.089253\n",
            "Train Epoch: 6 [6400/60000 (11%)]\tLoss: 0.100532\n",
            "Train Epoch: 6 [12800/60000 (21%)]\tLoss: 0.189340\n",
            "Train Epoch: 6 [19200/60000 (32%)]\tLoss: 0.177487\n",
            "Train Epoch: 6 [25600/60000 (43%)]\tLoss: 0.233099\n",
            "Train Epoch: 6 [32000/60000 (53%)]\tLoss: 0.075876\n",
            "Train Epoch: 6 [38400/60000 (64%)]\tLoss: 0.211649\n",
            "Train Epoch: 6 [44800/60000 (75%)]\tLoss: 0.128301\n",
            "Train Epoch: 6 [51200/60000 (85%)]\tLoss: 0.225081\n",
            "Train Epoch: 6 [57600/60000 (96%)]\tLoss: 0.153328\n",
            "\n",
            "Test set: Average loss: 0.1735, Accuracy: 9492/10000 (94.9200%)\n",
            "\n",
            "Train Epoch: 7 [0/60000 (0%)]\tLoss: 0.109130\n",
            "Train Epoch: 7 [6400/60000 (11%)]\tLoss: 0.175746\n",
            "Train Epoch: 7 [12800/60000 (21%)]\tLoss: 0.199215\n",
            "Train Epoch: 7 [19200/60000 (32%)]\tLoss: 0.135223\n",
            "Train Epoch: 7 [25600/60000 (43%)]\tLoss: 0.133749\n",
            "Train Epoch: 7 [32000/60000 (53%)]\tLoss: 0.182931\n",
            "Train Epoch: 7 [38400/60000 (64%)]\tLoss: 0.148826\n",
            "Train Epoch: 7 [44800/60000 (75%)]\tLoss: 0.114926\n",
            "Train Epoch: 7 [51200/60000 (85%)]\tLoss: 0.251422\n",
            "Train Epoch: 7 [57600/60000 (96%)]\tLoss: 0.212851\n",
            "\n",
            "Test set: Average loss: 0.1586, Accuracy: 9545/10000 (95.4500%)\n",
            "\n",
            "Train Epoch: 8 [0/60000 (0%)]\tLoss: 0.178132\n",
            "Train Epoch: 8 [6400/60000 (11%)]\tLoss: 0.145684\n",
            "Train Epoch: 8 [12800/60000 (21%)]\tLoss: 0.320427\n",
            "Train Epoch: 8 [19200/60000 (32%)]\tLoss: 0.138648\n",
            "Train Epoch: 8 [25600/60000 (43%)]\tLoss: 0.278651\n",
            "Train Epoch: 8 [32000/60000 (53%)]\tLoss: 0.059940\n",
            "Train Epoch: 8 [38400/60000 (64%)]\tLoss: 0.168369\n",
            "Train Epoch: 8 [44800/60000 (75%)]\tLoss: 0.140632\n",
            "Train Epoch: 8 [51200/60000 (85%)]\tLoss: 0.182406\n",
            "Train Epoch: 8 [57600/60000 (96%)]\tLoss: 0.113123\n",
            "\n",
            "Test set: Average loss: 0.1479, Accuracy: 9561/10000 (95.6100%)\n",
            "\n",
            "Train Epoch: 9 [0/60000 (0%)]\tLoss: 0.121921\n",
            "Train Epoch: 9 [6400/60000 (11%)]\tLoss: 0.204191\n",
            "Train Epoch: 9 [12800/60000 (21%)]\tLoss: 0.066452\n",
            "Train Epoch: 9 [19200/60000 (32%)]\tLoss: 0.113844\n",
            "Train Epoch: 9 [25600/60000 (43%)]\tLoss: 0.128602\n",
            "Train Epoch: 9 [32000/60000 (53%)]\tLoss: 0.126290\n",
            "Train Epoch: 9 [38400/60000 (64%)]\tLoss: 0.173018\n",
            "Train Epoch: 9 [44800/60000 (75%)]\tLoss: 0.147866\n",
            "Train Epoch: 9 [51200/60000 (85%)]\tLoss: 0.114426\n",
            "Train Epoch: 9 [57600/60000 (96%)]\tLoss: 0.213025\n",
            "\n",
            "Test set: Average loss: 0.1395, Accuracy: 9580/10000 (95.8000%)\n",
            "\n",
            "Train Epoch: 10 [0/60000 (0%)]\tLoss: 0.168869\n",
            "Train Epoch: 10 [6400/60000 (11%)]\tLoss: 0.147322\n",
            "Train Epoch: 10 [12800/60000 (21%)]\tLoss: 0.212809\n",
            "Train Epoch: 10 [19200/60000 (32%)]\tLoss: 0.043461\n",
            "Train Epoch: 10 [25600/60000 (43%)]\tLoss: 0.050419\n",
            "Train Epoch: 10 [32000/60000 (53%)]\tLoss: 0.039792\n",
            "Train Epoch: 10 [38400/60000 (64%)]\tLoss: 0.178710\n",
            "Train Epoch: 10 [44800/60000 (75%)]\tLoss: 0.126753\n",
            "Train Epoch: 10 [51200/60000 (85%)]\tLoss: 0.146716\n",
            "Train Epoch: 10 [57600/60000 (96%)]\tLoss: 0.074096\n",
            "\n",
            "Test set: Average loss: 0.1304, Accuracy: 9617/10000 (96.1700%)\n",
            "\n",
            "Train Epoch: 1 [0/60000 (0%)]\tLoss: 2.316347\n",
            "Train Epoch: 1 [6400/60000 (11%)]\tLoss: 0.388890\n",
            "Train Epoch: 1 [12800/60000 (21%)]\tLoss: 0.366703\n",
            "Train Epoch: 1 [19200/60000 (32%)]\tLoss: 0.377505\n",
            "Train Epoch: 1 [25600/60000 (43%)]\tLoss: 0.376768\n",
            "Train Epoch: 1 [32000/60000 (53%)]\tLoss: 0.196248\n",
            "Train Epoch: 1 [38400/60000 (64%)]\tLoss: 0.132494\n",
            "Train Epoch: 1 [44800/60000 (75%)]\tLoss: 0.184106\n",
            "Train Epoch: 1 [51200/60000 (85%)]\tLoss: 0.220852\n",
            "Train Epoch: 1 [57600/60000 (96%)]\tLoss: 0.148606\n",
            "\n",
            "Test set: Average loss: 0.1632, Accuracy: 9509/10000 (95.0900%)\n",
            "\n",
            "Train Epoch: 2 [0/60000 (0%)]\tLoss: 0.121920\n",
            "Train Epoch: 2 [6400/60000 (11%)]\tLoss: 0.100396\n",
            "Train Epoch: 2 [12800/60000 (21%)]\tLoss: 0.151241\n",
            "Train Epoch: 2 [19200/60000 (32%)]\tLoss: 0.207345\n",
            "Train Epoch: 2 [25600/60000 (43%)]\tLoss: 0.232248\n",
            "Train Epoch: 2 [32000/60000 (53%)]\tLoss: 0.137821\n",
            "Train Epoch: 2 [38400/60000 (64%)]\tLoss: 0.124586\n",
            "Train Epoch: 2 [44800/60000 (75%)]\tLoss: 0.080439\n",
            "Train Epoch: 2 [51200/60000 (85%)]\tLoss: 0.113142\n",
            "Train Epoch: 2 [57600/60000 (96%)]\tLoss: 0.080849\n",
            "\n",
            "Test set: Average loss: 0.1261, Accuracy: 9624/10000 (96.2400%)\n",
            "\n",
            "Train Epoch: 3 [0/60000 (0%)]\tLoss: 0.098819\n",
            "Train Epoch: 3 [6400/60000 (11%)]\tLoss: 0.150247\n",
            "Train Epoch: 3 [12800/60000 (21%)]\tLoss: 0.019231\n",
            "Train Epoch: 3 [19200/60000 (32%)]\tLoss: 0.220448\n",
            "Train Epoch: 3 [25600/60000 (43%)]\tLoss: 0.159817\n",
            "Train Epoch: 3 [32000/60000 (53%)]\tLoss: 0.049981\n",
            "Train Epoch: 3 [38400/60000 (64%)]\tLoss: 0.103945\n",
            "Train Epoch: 3 [44800/60000 (75%)]\tLoss: 0.066321\n",
            "Train Epoch: 3 [51200/60000 (85%)]\tLoss: 0.153853\n",
            "Train Epoch: 3 [57600/60000 (96%)]\tLoss: 0.119005\n",
            "\n",
            "Test set: Average loss: 0.1118, Accuracy: 9659/10000 (96.5900%)\n",
            "\n",
            "Train Epoch: 4 [0/60000 (0%)]\tLoss: 0.072694\n",
            "Train Epoch: 4 [6400/60000 (11%)]\tLoss: 0.126298\n",
            "Train Epoch: 4 [12800/60000 (21%)]\tLoss: 0.062964\n",
            "Train Epoch: 4 [19200/60000 (32%)]\tLoss: 0.115581\n",
            "Train Epoch: 4 [25600/60000 (43%)]\tLoss: 0.060101\n",
            "Train Epoch: 4 [32000/60000 (53%)]\tLoss: 0.073408\n",
            "Train Epoch: 4 [38400/60000 (64%)]\tLoss: 0.059507\n",
            "Train Epoch: 4 [44800/60000 (75%)]\tLoss: 0.122525\n",
            "Train Epoch: 4 [51200/60000 (85%)]\tLoss: 0.066853\n",
            "Train Epoch: 4 [57600/60000 (96%)]\tLoss: 0.054285\n",
            "\n",
            "Test set: Average loss: 0.1030, Accuracy: 9685/10000 (96.8500%)\n",
            "\n",
            "Train Epoch: 5 [0/60000 (0%)]\tLoss: 0.096208\n",
            "Train Epoch: 5 [6400/60000 (11%)]\tLoss: 0.096870\n",
            "Train Epoch: 5 [12800/60000 (21%)]\tLoss: 0.164528\n",
            "Train Epoch: 5 [19200/60000 (32%)]\tLoss: 0.051003\n",
            "Train Epoch: 5 [25600/60000 (43%)]\tLoss: 0.057790\n",
            "Train Epoch: 5 [32000/60000 (53%)]\tLoss: 0.084285\n",
            "Train Epoch: 5 [38400/60000 (64%)]\tLoss: 0.066750\n",
            "Train Epoch: 5 [44800/60000 (75%)]\tLoss: 0.029086\n",
            "Train Epoch: 5 [51200/60000 (85%)]\tLoss: 0.116548\n",
            "Train Epoch: 5 [57600/60000 (96%)]\tLoss: 0.090651\n",
            "\n",
            "Test set: Average loss: 0.0976, Accuracy: 9708/10000 (97.0800%)\n",
            "\n",
            "Train Epoch: 6 [0/60000 (0%)]\tLoss: 0.032824\n",
            "Train Epoch: 6 [6400/60000 (11%)]\tLoss: 0.035013\n",
            "Train Epoch: 6 [12800/60000 (21%)]\tLoss: 0.079372\n",
            "Train Epoch: 6 [19200/60000 (32%)]\tLoss: 0.112135\n",
            "Train Epoch: 6 [25600/60000 (43%)]\tLoss: 0.102520\n",
            "Train Epoch: 6 [32000/60000 (53%)]\tLoss: 0.055589\n",
            "Train Epoch: 6 [38400/60000 (64%)]\tLoss: 0.089765\n",
            "Train Epoch: 6 [44800/60000 (75%)]\tLoss: 0.047423\n",
            "Train Epoch: 6 [51200/60000 (85%)]\tLoss: 0.099090\n",
            "Train Epoch: 6 [57600/60000 (96%)]\tLoss: 0.091278\n",
            "\n",
            "Test set: Average loss: 0.0940, Accuracy: 9701/10000 (97.0100%)\n",
            "\n",
            "Train Epoch: 7 [0/60000 (0%)]\tLoss: 0.042690\n",
            "Train Epoch: 7 [6400/60000 (11%)]\tLoss: 0.046488\n",
            "Train Epoch: 7 [12800/60000 (21%)]\tLoss: 0.093940\n",
            "Train Epoch: 7 [19200/60000 (32%)]\tLoss: 0.032782\n",
            "Train Epoch: 7 [25600/60000 (43%)]\tLoss: 0.076099\n",
            "Train Epoch: 7 [32000/60000 (53%)]\tLoss: 0.054453\n",
            "Train Epoch: 7 [38400/60000 (64%)]\tLoss: 0.044213\n",
            "Train Epoch: 7 [44800/60000 (75%)]\tLoss: 0.019114\n",
            "Train Epoch: 7 [51200/60000 (85%)]\tLoss: 0.131075\n",
            "Train Epoch: 7 [57600/60000 (96%)]\tLoss: 0.097819\n",
            "\n",
            "Test set: Average loss: 0.0898, Accuracy: 9720/10000 (97.2000%)\n",
            "\n",
            "Train Epoch: 8 [0/60000 (0%)]\tLoss: 0.102859\n",
            "Train Epoch: 8 [6400/60000 (11%)]\tLoss: 0.054294\n",
            "Train Epoch: 8 [12800/60000 (21%)]\tLoss: 0.123099\n",
            "Train Epoch: 8 [19200/60000 (32%)]\tLoss: 0.038525\n",
            "Train Epoch: 8 [25600/60000 (43%)]\tLoss: 0.106106\n",
            "Train Epoch: 8 [32000/60000 (53%)]\tLoss: 0.026133\n",
            "Train Epoch: 8 [38400/60000 (64%)]\tLoss: 0.101296\n",
            "Train Epoch: 8 [44800/60000 (75%)]\tLoss: 0.071396\n",
            "Train Epoch: 8 [51200/60000 (85%)]\tLoss: 0.117068\n",
            "Train Epoch: 8 [57600/60000 (96%)]\tLoss: 0.074890\n",
            "\n",
            "Test set: Average loss: 0.0862, Accuracy: 9731/10000 (97.3100%)\n",
            "\n",
            "Train Epoch: 9 [0/60000 (0%)]\tLoss: 0.064732\n",
            "Train Epoch: 9 [6400/60000 (11%)]\tLoss: 0.067163\n",
            "Train Epoch: 9 [12800/60000 (21%)]\tLoss: 0.038612\n",
            "Train Epoch: 9 [19200/60000 (32%)]\tLoss: 0.043599\n",
            "Train Epoch: 9 [25600/60000 (43%)]\tLoss: 0.020494\n",
            "Train Epoch: 9 [32000/60000 (53%)]\tLoss: 0.056184\n",
            "Train Epoch: 9 [38400/60000 (64%)]\tLoss: 0.057058\n",
            "Train Epoch: 9 [44800/60000 (75%)]\tLoss: 0.094927\n",
            "Train Epoch: 9 [51200/60000 (85%)]\tLoss: 0.064371\n",
            "Train Epoch: 9 [57600/60000 (96%)]\tLoss: 0.107810\n",
            "\n",
            "Test set: Average loss: 0.0833, Accuracy: 9743/10000 (97.4300%)\n",
            "\n",
            "Train Epoch: 10 [0/60000 (0%)]\tLoss: 0.111037\n",
            "Train Epoch: 10 [6400/60000 (11%)]\tLoss: 0.039862\n",
            "Train Epoch: 10 [12800/60000 (21%)]\tLoss: 0.090537\n",
            "Train Epoch: 10 [19200/60000 (32%)]\tLoss: 0.012150\n",
            "Train Epoch: 10 [25600/60000 (43%)]\tLoss: 0.019872\n",
            "Train Epoch: 10 [32000/60000 (53%)]\tLoss: 0.016688\n",
            "Train Epoch: 10 [38400/60000 (64%)]\tLoss: 0.103043\n",
            "Train Epoch: 10 [44800/60000 (75%)]\tLoss: 0.038929\n",
            "Train Epoch: 10 [51200/60000 (85%)]\tLoss: 0.082485\n",
            "Train Epoch: 10 [57600/60000 (96%)]\tLoss: 0.041505\n",
            "\n",
            "Test set: Average loss: 0.0805, Accuracy: 9743/10000 (97.4300%)\n",
            "\n",
            "Train Epoch: 1 [0/60000 (0%)]\tLoss: 2.316347\n",
            "Train Epoch: 1 [6400/60000 (11%)]\tLoss: 0.385785\n",
            "Train Epoch: 1 [12800/60000 (21%)]\tLoss: 0.371213\n",
            "Train Epoch: 1 [19200/60000 (32%)]\tLoss: 0.341067\n",
            "Train Epoch: 1 [25600/60000 (43%)]\tLoss: 0.344548\n",
            "Train Epoch: 1 [32000/60000 (53%)]\tLoss: 0.162885\n",
            "Train Epoch: 1 [38400/60000 (64%)]\tLoss: 0.140098\n",
            "Train Epoch: 1 [44800/60000 (75%)]\tLoss: 0.129166\n",
            "Train Epoch: 1 [51200/60000 (85%)]\tLoss: 0.155162\n",
            "Train Epoch: 1 [57600/60000 (96%)]\tLoss: 0.135359\n",
            "\n",
            "Test set: Average loss: 0.1613, Accuracy: 9506/10000 (95.0600%)\n",
            "\n",
            "Train Epoch: 2 [0/60000 (0%)]\tLoss: 0.104546\n",
            "Train Epoch: 2 [6400/60000 (11%)]\tLoss: 0.062732\n",
            "Train Epoch: 2 [12800/60000 (21%)]\tLoss: 0.180969\n",
            "Train Epoch: 2 [19200/60000 (32%)]\tLoss: 0.218140\n",
            "Train Epoch: 2 [25600/60000 (43%)]\tLoss: 0.266680\n",
            "Train Epoch: 2 [32000/60000 (53%)]\tLoss: 0.109268\n",
            "Train Epoch: 2 [38400/60000 (64%)]\tLoss: 0.101909\n",
            "Train Epoch: 2 [44800/60000 (75%)]\tLoss: 0.076703\n",
            "Train Epoch: 2 [51200/60000 (85%)]\tLoss: 0.081619\n",
            "Train Epoch: 2 [57600/60000 (96%)]\tLoss: 0.062462\n",
            "\n",
            "Test set: Average loss: 0.0933, Accuracy: 9728/10000 (97.2800%)\n",
            "\n",
            "Train Epoch: 3 [0/60000 (0%)]\tLoss: 0.046463\n",
            "Train Epoch: 3 [6400/60000 (11%)]\tLoss: 0.083771\n",
            "Train Epoch: 3 [12800/60000 (21%)]\tLoss: 0.005789\n",
            "Train Epoch: 3 [19200/60000 (32%)]\tLoss: 0.159062\n",
            "Train Epoch: 3 [25600/60000 (43%)]\tLoss: 0.084464\n",
            "Train Epoch: 3 [32000/60000 (53%)]\tLoss: 0.010131\n",
            "Train Epoch: 3 [38400/60000 (64%)]\tLoss: 0.033753\n",
            "Train Epoch: 3 [44800/60000 (75%)]\tLoss: 0.075555\n",
            "Train Epoch: 3 [51200/60000 (85%)]\tLoss: 0.069895\n",
            "Train Epoch: 3 [57600/60000 (96%)]\tLoss: 0.061919\n",
            "\n",
            "Test set: Average loss: 0.0859, Accuracy: 9739/10000 (97.3900%)\n",
            "\n",
            "Train Epoch: 4 [0/60000 (0%)]\tLoss: 0.029016\n",
            "Train Epoch: 4 [6400/60000 (11%)]\tLoss: 0.043269\n",
            "Train Epoch: 4 [12800/60000 (21%)]\tLoss: 0.019946\n",
            "Train Epoch: 4 [19200/60000 (32%)]\tLoss: 0.059619\n",
            "Train Epoch: 4 [25600/60000 (43%)]\tLoss: 0.024886\n",
            "Train Epoch: 4 [32000/60000 (53%)]\tLoss: 0.084934\n",
            "Train Epoch: 4 [38400/60000 (64%)]\tLoss: 0.038397\n",
            "Train Epoch: 4 [44800/60000 (75%)]\tLoss: 0.059965\n",
            "Train Epoch: 4 [51200/60000 (85%)]\tLoss: 0.124753\n",
            "Train Epoch: 4 [57600/60000 (96%)]\tLoss: 0.052197\n",
            "\n",
            "Test set: Average loss: 0.0931, Accuracy: 9705/10000 (97.0500%)\n",
            "\n",
            "Train Epoch: 5 [0/60000 (0%)]\tLoss: 0.036322\n",
            "Train Epoch: 5 [6400/60000 (11%)]\tLoss: 0.062055\n",
            "Train Epoch: 5 [12800/60000 (21%)]\tLoss: 0.065620\n",
            "Train Epoch: 5 [19200/60000 (32%)]\tLoss: 0.013747\n",
            "Train Epoch: 5 [25600/60000 (43%)]\tLoss: 0.058700\n",
            "Train Epoch: 5 [32000/60000 (53%)]\tLoss: 0.118284\n",
            "Train Epoch: 5 [38400/60000 (64%)]\tLoss: 0.051109\n",
            "Train Epoch: 5 [44800/60000 (75%)]\tLoss: 0.022339\n",
            "Train Epoch: 5 [51200/60000 (85%)]\tLoss: 0.102558\n",
            "Train Epoch: 5 [57600/60000 (96%)]\tLoss: 0.051937\n",
            "\n",
            "Test set: Average loss: 0.0757, Accuracy: 9768/10000 (97.6800%)\n",
            "\n",
            "Train Epoch: 6 [0/60000 (0%)]\tLoss: 0.035705\n",
            "Train Epoch: 6 [6400/60000 (11%)]\tLoss: 0.006938\n",
            "Train Epoch: 6 [12800/60000 (21%)]\tLoss: 0.014678\n",
            "Train Epoch: 6 [19200/60000 (32%)]\tLoss: 0.070237\n",
            "Train Epoch: 6 [25600/60000 (43%)]\tLoss: 0.033822\n",
            "Train Epoch: 6 [32000/60000 (53%)]\tLoss: 0.021955\n",
            "Train Epoch: 6 [38400/60000 (64%)]\tLoss: 0.045731\n",
            "Train Epoch: 6 [44800/60000 (75%)]\tLoss: 0.022959\n",
            "Train Epoch: 6 [51200/60000 (85%)]\tLoss: 0.113325\n",
            "Train Epoch: 6 [57600/60000 (96%)]\tLoss: 0.077432\n",
            "\n",
            "Test set: Average loss: 0.0823, Accuracy: 9760/10000 (97.6000%)\n",
            "\n",
            "Train Epoch: 7 [0/60000 (0%)]\tLoss: 0.006411\n",
            "Train Epoch: 7 [6400/60000 (11%)]\tLoss: 0.023256\n",
            "Train Epoch: 7 [12800/60000 (21%)]\tLoss: 0.012609\n",
            "Train Epoch: 7 [19200/60000 (32%)]\tLoss: 0.006475\n",
            "Train Epoch: 7 [25600/60000 (43%)]\tLoss: 0.052645\n",
            "Train Epoch: 7 [32000/60000 (53%)]\tLoss: 0.011838\n",
            "Train Epoch: 7 [38400/60000 (64%)]\tLoss: 0.016833\n",
            "Train Epoch: 7 [44800/60000 (75%)]\tLoss: 0.003876\n",
            "Train Epoch: 7 [51200/60000 (85%)]\tLoss: 0.026978\n",
            "Train Epoch: 7 [57600/60000 (96%)]\tLoss: 0.026318\n",
            "\n",
            "Test set: Average loss: 0.0901, Accuracy: 9751/10000 (97.5100%)\n",
            "\n",
            "Train Epoch: 8 [0/60000 (0%)]\tLoss: 0.034559\n",
            "Train Epoch: 8 [6400/60000 (11%)]\tLoss: 0.007882\n",
            "Train Epoch: 8 [12800/60000 (21%)]\tLoss: 0.013443\n",
            "Train Epoch: 8 [19200/60000 (32%)]\tLoss: 0.003461\n",
            "Train Epoch: 8 [25600/60000 (43%)]\tLoss: 0.087243\n",
            "Train Epoch: 8 [32000/60000 (53%)]\tLoss: 0.003321\n",
            "Train Epoch: 8 [38400/60000 (64%)]\tLoss: 0.047332\n",
            "Train Epoch: 8 [44800/60000 (75%)]\tLoss: 0.080658\n",
            "Train Epoch: 8 [51200/60000 (85%)]\tLoss: 0.022353\n",
            "Train Epoch: 8 [57600/60000 (96%)]\tLoss: 0.022222\n",
            "\n",
            "Test set: Average loss: 0.0956, Accuracy: 9755/10000 (97.5500%)\n",
            "\n",
            "Train Epoch: 9 [0/60000 (0%)]\tLoss: 0.056048\n",
            "Train Epoch: 9 [6400/60000 (11%)]\tLoss: 0.007052\n",
            "Train Epoch: 9 [12800/60000 (21%)]\tLoss: 0.011989\n",
            "Train Epoch: 9 [19200/60000 (32%)]\tLoss: 0.032678\n",
            "Train Epoch: 9 [25600/60000 (43%)]\tLoss: 0.001490\n",
            "Train Epoch: 9 [32000/60000 (53%)]\tLoss: 0.019415\n",
            "Train Epoch: 9 [38400/60000 (64%)]\tLoss: 0.001309\n",
            "Train Epoch: 9 [44800/60000 (75%)]\tLoss: 0.018987\n",
            "Train Epoch: 9 [51200/60000 (85%)]\tLoss: 0.079766\n",
            "Train Epoch: 9 [57600/60000 (96%)]\tLoss: 0.051378\n",
            "\n",
            "Test set: Average loss: 0.0887, Accuracy: 9778/10000 (97.7800%)\n",
            "\n",
            "Train Epoch: 10 [0/60000 (0%)]\tLoss: 0.055464\n",
            "Train Epoch: 10 [6400/60000 (11%)]\tLoss: 0.001609\n",
            "Train Epoch: 10 [12800/60000 (21%)]\tLoss: 0.071426\n",
            "Train Epoch: 10 [19200/60000 (32%)]\tLoss: 0.000384\n",
            "Train Epoch: 10 [25600/60000 (43%)]\tLoss: 0.003577\n",
            "Train Epoch: 10 [32000/60000 (53%)]\tLoss: 0.005469\n",
            "Train Epoch: 10 [38400/60000 (64%)]\tLoss: 0.002154\n",
            "Train Epoch: 10 [44800/60000 (75%)]\tLoss: 0.016758\n",
            "Train Epoch: 10 [51200/60000 (85%)]\tLoss: 0.004163\n",
            "Train Epoch: 10 [57600/60000 (96%)]\tLoss: 0.005984\n",
            "\n",
            "Test set: Average loss: 0.0936, Accuracy: 9769/10000 (97.6900%)\n",
            "\n",
            "Train Epoch: 1 [0/60000 (0%)]\tLoss: 2.316347\n",
            "Train Epoch: 1 [6400/60000 (11%)]\tLoss: 0.436042\n",
            "Train Epoch: 1 [12800/60000 (21%)]\tLoss: 0.379045\n",
            "Train Epoch: 1 [19200/60000 (32%)]\tLoss: 0.379335\n",
            "Train Epoch: 1 [25600/60000 (43%)]\tLoss: 0.333993\n",
            "Train Epoch: 1 [32000/60000 (53%)]\tLoss: 0.188594\n",
            "Train Epoch: 1 [38400/60000 (64%)]\tLoss: 0.138908\n",
            "Train Epoch: 1 [44800/60000 (75%)]\tLoss: 0.169035\n",
            "Train Epoch: 1 [51200/60000 (85%)]\tLoss: 0.235600\n",
            "Train Epoch: 1 [57600/60000 (96%)]\tLoss: 0.122576\n",
            "\n",
            "Test set: Average loss: 0.1447, Accuracy: 9565/10000 (95.6500%)\n",
            "\n",
            "Train Epoch: 2 [0/60000 (0%)]\tLoss: 0.076999\n",
            "Train Epoch: 2 [6400/60000 (11%)]\tLoss: 0.078897\n",
            "Train Epoch: 2 [12800/60000 (21%)]\tLoss: 0.138241\n",
            "Train Epoch: 2 [19200/60000 (32%)]\tLoss: 0.209436\n",
            "Train Epoch: 2 [25600/60000 (43%)]\tLoss: 0.250184\n",
            "Train Epoch: 2 [32000/60000 (53%)]\tLoss: 0.135194\n",
            "Train Epoch: 2 [38400/60000 (64%)]\tLoss: 0.110702\n",
            "Train Epoch: 2 [44800/60000 (75%)]\tLoss: 0.082504\n",
            "Train Epoch: 2 [51200/60000 (85%)]\tLoss: 0.114068\n",
            "Train Epoch: 2 [57600/60000 (96%)]\tLoss: 0.032705\n",
            "\n",
            "Test set: Average loss: 0.0959, Accuracy: 9716/10000 (97.1600%)\n",
            "\n",
            "Train Epoch: 3 [0/60000 (0%)]\tLoss: 0.082169\n",
            "Train Epoch: 3 [6400/60000 (11%)]\tLoss: 0.059701\n",
            "Train Epoch: 3 [12800/60000 (21%)]\tLoss: 0.011954\n",
            "Train Epoch: 3 [19200/60000 (32%)]\tLoss: 0.118591\n",
            "Train Epoch: 3 [25600/60000 (43%)]\tLoss: 0.098541\n",
            "Train Epoch: 3 [32000/60000 (53%)]\tLoss: 0.034463\n",
            "Train Epoch: 3 [38400/60000 (64%)]\tLoss: 0.071606\n",
            "Train Epoch: 3 [44800/60000 (75%)]\tLoss: 0.058951\n",
            "Train Epoch: 3 [51200/60000 (85%)]\tLoss: 0.157768\n",
            "Train Epoch: 3 [57600/60000 (96%)]\tLoss: 0.079066\n",
            "\n",
            "Test set: Average loss: 0.0847, Accuracy: 9742/10000 (97.4200%)\n",
            "\n",
            "Train Epoch: 4 [0/60000 (0%)]\tLoss: 0.021069\n",
            "Train Epoch: 4 [6400/60000 (11%)]\tLoss: 0.035579\n",
            "Train Epoch: 4 [12800/60000 (21%)]\tLoss: 0.037867\n",
            "Train Epoch: 4 [19200/60000 (32%)]\tLoss: 0.049115\n",
            "Train Epoch: 4 [25600/60000 (43%)]\tLoss: 0.029404\n",
            "Train Epoch: 4 [32000/60000 (53%)]\tLoss: 0.046746\n",
            "Train Epoch: 4 [38400/60000 (64%)]\tLoss: 0.028621\n",
            "Train Epoch: 4 [44800/60000 (75%)]\tLoss: 0.088116\n",
            "Train Epoch: 4 [51200/60000 (85%)]\tLoss: 0.074260\n",
            "Train Epoch: 4 [57600/60000 (96%)]\tLoss: 0.012938\n",
            "\n",
            "Test set: Average loss: 0.0829, Accuracy: 9749/10000 (97.4900%)\n",
            "\n",
            "Train Epoch: 5 [0/60000 (0%)]\tLoss: 0.020238\n",
            "Train Epoch: 5 [6400/60000 (11%)]\tLoss: 0.059519\n",
            "Train Epoch: 5 [12800/60000 (21%)]\tLoss: 0.025095\n",
            "Train Epoch: 5 [19200/60000 (32%)]\tLoss: 0.011146\n",
            "Train Epoch: 5 [25600/60000 (43%)]\tLoss: 0.054091\n",
            "Train Epoch: 5 [32000/60000 (53%)]\tLoss: 0.125797\n",
            "Train Epoch: 5 [38400/60000 (64%)]\tLoss: 0.048083\n",
            "Train Epoch: 5 [44800/60000 (75%)]\tLoss: 0.020759\n",
            "Train Epoch: 5 [51200/60000 (85%)]\tLoss: 0.087087\n",
            "Train Epoch: 5 [57600/60000 (96%)]\tLoss: 0.071970\n",
            "\n",
            "Test set: Average loss: 0.0916, Accuracy: 9723/10000 (97.2300%)\n",
            "\n",
            "Train Epoch: 6 [0/60000 (0%)]\tLoss: 0.047986\n",
            "Train Epoch: 6 [6400/60000 (11%)]\tLoss: 0.010186\n",
            "Train Epoch: 6 [12800/60000 (21%)]\tLoss: 0.023191\n",
            "Train Epoch: 6 [19200/60000 (32%)]\tLoss: 0.062690\n",
            "Train Epoch: 6 [25600/60000 (43%)]\tLoss: 0.036634\n",
            "Train Epoch: 6 [32000/60000 (53%)]\tLoss: 0.009395\n",
            "Train Epoch: 6 [38400/60000 (64%)]\tLoss: 0.031833\n",
            "Train Epoch: 6 [44800/60000 (75%)]\tLoss: 0.014514\n",
            "Train Epoch: 6 [51200/60000 (85%)]\tLoss: 0.165688\n",
            "Train Epoch: 6 [57600/60000 (96%)]\tLoss: 0.053050\n",
            "\n",
            "Test set: Average loss: 0.0850, Accuracy: 9741/10000 (97.4100%)\n",
            "\n",
            "Train Epoch: 7 [0/60000 (0%)]\tLoss: 0.006147\n",
            "Train Epoch: 7 [6400/60000 (11%)]\tLoss: 0.031746\n",
            "Train Epoch: 7 [12800/60000 (21%)]\tLoss: 0.005073\n",
            "Train Epoch: 7 [19200/60000 (32%)]\tLoss: 0.018088\n",
            "Train Epoch: 7 [25600/60000 (43%)]\tLoss: 0.023128\n",
            "Train Epoch: 7 [32000/60000 (53%)]\tLoss: 0.008727\n",
            "Train Epoch: 7 [38400/60000 (64%)]\tLoss: 0.027169\n",
            "Train Epoch: 7 [44800/60000 (75%)]\tLoss: 0.002885\n",
            "Train Epoch: 7 [51200/60000 (85%)]\tLoss: 0.105008\n",
            "Train Epoch: 7 [57600/60000 (96%)]\tLoss: 0.032582\n",
            "\n",
            "Test set: Average loss: 0.1059, Accuracy: 9698/10000 (96.9800%)\n",
            "\n",
            "Train Epoch: 8 [0/60000 (0%)]\tLoss: 0.012444\n",
            "Train Epoch: 8 [6400/60000 (11%)]\tLoss: 0.036440\n",
            "Train Epoch: 8 [12800/60000 (21%)]\tLoss: 0.007595\n",
            "Train Epoch: 8 [19200/60000 (32%)]\tLoss: 0.001512\n",
            "Train Epoch: 8 [25600/60000 (43%)]\tLoss: 0.062504\n",
            "Train Epoch: 8 [32000/60000 (53%)]\tLoss: 0.006339\n",
            "Train Epoch: 8 [38400/60000 (64%)]\tLoss: 0.076421\n",
            "Train Epoch: 8 [44800/60000 (75%)]\tLoss: 0.045525\n",
            "Train Epoch: 8 [51200/60000 (85%)]\tLoss: 0.053443\n",
            "Train Epoch: 8 [57600/60000 (96%)]\tLoss: 0.003725\n",
            "\n",
            "Test set: Average loss: 0.0945, Accuracy: 9730/10000 (97.3000%)\n",
            "\n",
            "Train Epoch: 9 [0/60000 (0%)]\tLoss: 0.034892\n",
            "Train Epoch: 9 [6400/60000 (11%)]\tLoss: 0.069992\n",
            "Train Epoch: 9 [12800/60000 (21%)]\tLoss: 0.003856\n",
            "Train Epoch: 9 [19200/60000 (32%)]\tLoss: 0.019828\n",
            "Train Epoch: 9 [25600/60000 (43%)]\tLoss: 0.001996\n",
            "Train Epoch: 9 [32000/60000 (53%)]\tLoss: 0.014289\n",
            "Train Epoch: 9 [38400/60000 (64%)]\tLoss: 0.003166\n",
            "Train Epoch: 9 [44800/60000 (75%)]\tLoss: 0.040821\n",
            "Train Epoch: 9 [51200/60000 (85%)]\tLoss: 0.014823\n",
            "Train Epoch: 9 [57600/60000 (96%)]\tLoss: 0.074559\n",
            "\n",
            "Test set: Average loss: 0.1024, Accuracy: 9748/10000 (97.4800%)\n",
            "\n",
            "Train Epoch: 10 [0/60000 (0%)]\tLoss: 0.016015\n",
            "Train Epoch: 10 [6400/60000 (11%)]\tLoss: 0.003711\n",
            "Train Epoch: 10 [12800/60000 (21%)]\tLoss: 0.064445\n",
            "Train Epoch: 10 [19200/60000 (32%)]\tLoss: 0.000375\n",
            "Train Epoch: 10 [25600/60000 (43%)]\tLoss: 0.001288\n",
            "Train Epoch: 10 [32000/60000 (53%)]\tLoss: 0.003491\n",
            "Train Epoch: 10 [38400/60000 (64%)]\tLoss: 0.006884\n",
            "Train Epoch: 10 [44800/60000 (75%)]\tLoss: 0.039022\n",
            "Train Epoch: 10 [51200/60000 (85%)]\tLoss: 0.008123\n",
            "Train Epoch: 10 [57600/60000 (96%)]\tLoss: 0.034631\n",
            "\n",
            "Test set: Average loss: 0.0911, Accuracy: 9754/10000 (97.5400%)\n",
            "\n"
          ],
          "name": "stdout"
        }
      ]
    },
    {
      "cell_type": "code",
      "metadata": {
        "id": "8JDWUE09040_",
        "colab": {
          "base_uri": "https://localhost:8080/",
          "height": 0
        },
        "outputId": "c7cacad2-4bb9-401a-b50f-4b7c4cdc5f09"
      },
      "source": [
        "  fig, axs = plt.subplots(1, 2, figsize=(10,4))\n",
        "  axs[0].plot(error_dict['trainsgd'], label='SGD', color='b')\n",
        "  axs[1].plot(error_dict['testsgd'], label='SGD', color='b', linestyle='dashed')\n",
        "  axs[0].plot(error_dict['trainadagrad'], label='Adagrad', color='r')\n",
        "  axs[1].plot(error_dict['testadagrad'], label='Adagrad', color='r', linestyle='dashed')\n",
        "  axs[0].plot(error_dict['trainrmsprop'], label='RMSprop', color='g')\n",
        "  axs[1].plot(error_dict['testrmsprop'], label='RMSprop', color='g', linestyle='dashed')\n",
        "  axs[0].plot(error_dict['trainadam'], label='Adam', color='orange')\n",
        "  axs[1].plot(error_dict['testadam'], label='Adam', color='orange', linestyle='dashed')\n",
        "  axs[0].set_title('Train')\n",
        "  axs[1].set_title('Test')\n",
        "  axs[0].set_ylabel('Error (%)')\n",
        "  #plt.yscale('log')\n",
        "  axs[0].set_xlabel('Epoch')\n",
        "  axs[1].set_xlabel('Epoch')\n",
        "  axs[0].legend()\n",
        "  axs[1].legend()\n",
        "  plt.show()"
      ],
      "execution_count": 19,
      "outputs": [
        {
          "output_type": "display_data",
          "data": {
            "image/png": "[encoded data removed]",
            "text/plain": [
              "<Figure size 720x288 with 2 Axes>"
            ]
          },
          "metadata": {
            "tags": [],
            "needs_background": "light"
          }
        }
      ]
    },
    {
      "cell_type": "markdown",
      "metadata": {
        "id": "Y4KsR565gkk9"
      },
      "source": [
        "Plot the train and test classification error curves of different optimizers by running below cell."
      ]
    },
    {
      "cell_type": "markdown",
      "metadata": {
        "id": "IuzyGTvyXuhF"
      },
      "source": [
        "## Learning rate scheduling"
      ]
    },
    {
      "cell_type": "markdown",
      "metadata": {
        "id": "5G3RimhHSZ52"
      },
      "source": [
        "If the learning rate is too large, optimization diverges; if it is too small, it takes too long to train or we end up with a suboptimal result. People often start large learning rate and then 'decay' or 'anneal'(decrease) it.  This can help both optimization and generalization.\n",
        "\n",
        "Common beliefs in how annealing works come from the optimization analysis of stochastic gradient descent: \n",
        "\n",
        "1.   An initial large learning rate accelerates training or helps the network escape spurious local minima\n",
        "2.   Decaying the learning rate helps the network converge to a local minimum and avoid oscillation. \n",
        "\n",
        "The simplest learning rate schedule is to decrease the learning rate linearly from a large initial value to a small value. This allows large weight changes in the beginning of the learning process and small changes or fine-tuning towards the end of the learning process. There are other schedules such as square root and exponential decay. \n"
      ]
    },
    {
      "cell_type": "markdown",
      "metadata": {
        "id": "pP_zfGmXSd5D"
      },
      "source": [
        "### Compare different annealing schedules: constant, linear, sqrt(t) and exp(-t)\n"
      ]
    },
    {
      "cell_type": "markdown",
      "metadata": {
        "id": "0jaja6Shbzpb"
      },
      "source": [
        "Firstly, let's plot the simulation of different annealing scheduels: constant, linear, sqrt(t) and exp(-t) in below cell."
      ]
    },
    {
      "cell_type": "code",
      "metadata": {
        "id": "xlS2oqhznc7R",
        "colab": {
          "base_uri": "https://localhost:8080/",
          "height": 0
        },
        "outputId": "52a8ac96-98f8-4f41-9897-632fc0692d80"
      },
      "source": [
        "model = torch.nn.Linear(2, 1)\n",
        "lr_anneal = ['constant', 'linear', 'sqrt', 'exp']\n",
        "lr_dict = defaultdict(list)\n",
        "\n",
        "for idx in range(len(lr_anneal)):\n",
        "    optimizer = optim.SGD(model.parameters(), lr=1e-2)\n",
        "    if lr_anneal[idx] == 'constant':\n",
        "        lambda1 = lambda epoch: 1\n",
        "    elif lr_anneal[idx] == 'linear':\n",
        "        lambda1 = lambda epoch: max(1e-7, 1 - 0.1*epoch)\n",
        "    elif lr_anneal[idx] == 'sqrt':\n",
        "        lambda1 = lambda epoch: (epoch + 1.0) ** -0.5\n",
        "    elif lr_anneal[idx] == 'exp':\n",
        "        lambda1 = lambda epoch: 0.1 ** epoch\n",
        "    scheduler = optim.lr_scheduler.LambdaLR(optimizer, lr_lambda=lambda1)\n",
        "    for i in range(10):\n",
        "        optimizer.step()\n",
        "        lr_dict[lr_anneal[idx]].append(optimizer.param_groups[0][\"lr\"])\n",
        "        scheduler.step()\n",
        "\n",
        "\n",
        "plt.plot(range(10), lr_dict['constant'], label='Constant')\n",
        "plt.plot(range(10), lr_dict['linear'], label='Linear')\n",
        "plt.plot(range(10), lr_dict['sqrt'], label='Sqrt')\n",
        "plt.plot(range(10), lr_dict['exp'], label='Exp')\n",
        "plt.title('Annealing Schedules')\n",
        "plt.ylabel('Learning Rate')\n",
        "plt.xlabel('Epoch')\n",
        "plt.legend()\n",
        "plt.show()"
      ],
      "execution_count": 20,
      "outputs": [
        {
          "output_type": "display_data",
          "data": {
            "image/png": "[encoded data removed]",
            "text/plain": [
              "<Figure size 432x288 with 1 Axes>"
            ]
          },
          "metadata": {
            "tags": [],
            "needs_background": "light"
          }
        }
      ]
    },
    {
      "cell_type": "markdown",
      "metadata": {
        "id": "zUVZ7u7Occlg"
      },
      "source": [
        "Now, check your assumption by running below digit classification example with different learning rate scheduelers: linear, sqrt(t) and exp(-t)."
      ]
    },
    {
      "cell_type": "code",
      "metadata": {
        "id": "UKfrDA0jf1eb"
      },
      "source": [
        "class Net(nn.Module):\n",
        "    def __init__(self):\n",
        "        super(Net, self).__init__()\n",
        "        self.fc2 = nn.Linear(128, 10)\n",
        "        self.fc3 = nn.Linear(784, 128)\n",
        "\n",
        "    def forward(self, x):\n",
        "        x = torch.flatten(x, 1)\n",
        "        x = self.fc3(x)\n",
        "        x = F.relu(x)\n",
        "        x = self.fc2(x)\n",
        "        output = F.log_softmax(x, dim=1)\n",
        "        return output"
      ],
      "execution_count": 21,
      "outputs": []
    },
    {
      "cell_type": "code",
      "metadata": {
        "id": "tI0ej3aHf2hA"
      },
      "source": [
        "def train(args, model, device, train_loader, optimizer, epoch):\n",
        "    model.train()\n",
        "    avg_loss, correct = (0., 0.)\n",
        "    for batch_idx, (data, target) in enumerate(train_loader):\n",
        "        data, target = data.to(device), target.to(device)\n",
        "        optimizer.zero_grad()\n",
        "        output = model(data)\n",
        "        loss = F.nll_loss(output, target)\n",
        "        avg_loss += loss.item()\n",
        "        pred = output.argmax(dim=1, keepdim=True)  # get the index of the max log-probability\n",
        "        correct += pred.eq(target.view_as(pred)).sum().item()\n",
        "        loss.backward()\n",
        "        optimizer.step()\n",
        "        if batch_idx % args['log_interval'] == 0:\n",
        "            print('Train Epoch: {} [{}/{} ({:.0f}%)]\\tLoss: {:.6f}'.format(\n",
        "                epoch, batch_idx * len(data), len(train_loader.dataset),\n",
        "                100. * batch_idx / len(train_loader), loss.item()))\n",
        "    avg_loss /= len(train_loader.dataset)\n",
        "    return 100. * correct / len(train_loader.dataset)\n"
      ],
      "execution_count": 22,
      "outputs": []
    },
    {
      "cell_type": "code",
      "metadata": {
        "id": "PSKfElhlf6Cd"
      },
      "source": [
        "\n",
        "def test(model, device, test_loader):\n",
        "    model.eval()\n",
        "    test_loss = 0\n",
        "    correct = 0\n",
        "    with torch.no_grad():\n",
        "        for data, target in test_loader:\n",
        "            data, target = data.to(device), target.to(device)\n",
        "            output = model(data)\n",
        "            test_loss += F.nll_loss(output, target, reduction='sum').item()  # sum up batch loss\n",
        "            pred = output.argmax(dim=1, keepdim=True)  # get the index of the max log-probability\n",
        "            correct += pred.eq(target.view_as(pred)).sum().item()\n",
        "\n",
        "    test_loss /= len(test_loader.dataset)\n",
        "\n",
        "    print('\\nTest set: Average loss: {:.4f}, Accuracy: {}/{} ({:.4f}%)\\n'.format(\n",
        "        test_loss, correct, len(test_loader.dataset),\n",
        "        100. * correct / len(test_loader.dataset)))\n",
        "    return 100. * correct / len(test_loader.dataset)"
      ],
      "execution_count": 23,
      "outputs": []
    },
    {
      "cell_type": "code",
      "metadata": {
        "id": "Wlmg9nWggwTs"
      },
      "source": [
        "def schedular_eval(args):\n",
        "    use_cuda = not args['no_cuda'] and torch.cuda.is_available()\n",
        "    torch.manual_seed(args['seed'])\n",
        "    device = torch.device('cuda' if use_cuda else 'cpu')\n",
        "\n",
        "    train_kwargs = {'batch_size': args['batch_size']}\n",
        "    test_kwargs = {'batch_size': args['test_batch_size']}\n",
        "    if use_cuda:\n",
        "        cuda_kwargs = {'num_workers': 1,\n",
        "                       'pin_memory': True,\n",
        "                       'shuffle': True}\n",
        "        train_kwargs.update(cuda_kwargs)\n",
        "        test_kwargs.update(cuda_kwargs)\n",
        "\n",
        "    transform=transforms.Compose([\n",
        "        transforms.ToTensor(),\n",
        "        transforms.Normalize((0.1307,), (0.3081,))\n",
        "        ])\n",
        "    train_loader = torch.utils.data.DataLoader(datasets.MNIST('../data', train=True, download=True,\n",
        "                       transform=transform),**train_kwargs)\n",
        "    test_loader = torch.utils.data.DataLoader(datasets.MNIST('../data', train=False,\n",
        "                       transform=transform), **test_kwargs)\n",
        "\n",
        "    model = Net().to(device)\n",
        "    optimizer = optim.SGD(model.parameters(), lr=args['lr'], momentum=args['momentum'])\n",
        "\n",
        "    if args['anneal_type'] == 'constant':\n",
        "        lambda1 = lambda epoch: 1\n",
        "    elif args['anneal_type'] == 'linear':\n",
        "        lambda1 = lambda epoch: max(1e-7, 1 -0.1 * epoch)\n",
        "    elif args['anneal_type'] == 'sqrt':\n",
        "        lambda1 = lambda epoch: (epoch + 1.0) ** -0.5\n",
        "    elif args['anneal_type'] == 'exp':\n",
        "        lambda1 = lambda epoch: 0.1 ** epoch\n",
        "    scheduler = optim.lr_scheduler.LambdaLR(optimizer, lr_lambda=lambda1)\n",
        "\n",
        "    train_list, test_list = [], []\n",
        "    for epoch in range(1, args['epochs'] + 1):\n",
        "        '''\n",
        "        if epoch > 1:\n",
        "            for param_group in optimizer.param_groups:\n",
        "                param_group['lr'] *= 0.1\n",
        "        '''\n",
        "        train_acc = train(args, model, device, train_loader, optimizer, epoch)\n",
        "        train_list.append(100.-train_acc)\n",
        "        test_acc = test(model, device, test_loader)\n",
        "        test_list.append(100.-test_acc)\n",
        "        scheduler.step()\n",
        "\n",
        "    return train_list, test_list "
      ],
      "execution_count": 24,
      "outputs": []
    },
    {
      "cell_type": "markdown",
      "metadata": {
        "id": "6tBDX8ECdGP_"
      },
      "source": [
        "The training takes over 20 mins. Please skip running below cells for now and come back if time is allowed."
      ]
    },
    {
      "cell_type": "code",
      "metadata": {
        "id": "ijVxIAmmf_r-"
      },
      "source": [
        "# Training settings\n",
        "args = {'batch_size': 64,\n",
        "        'test_batch_size': 1000,\n",
        "        'epochs': 10,\n",
        "        'lr': 0.01,\n",
        "        'momentum': 0.9,\n",
        "        'net_type': 'Net',\n",
        "        'anneal_type': 'linear',\n",
        "        'no_cuda': False,\n",
        "        'seed': 1,\n",
        "        'log_interval': 100\n",
        "        }"
      ],
      "execution_count": 25,
      "outputs": []
    },
    {
      "cell_type": "code",
      "metadata": {
        "id": "6bXmiXVBgBTp"
      },
      "source": [
        "lr_anneal = ['constant', 'linear', 'sqrt', 'exp']\n",
        "error_dict = {}\n"
      ],
      "execution_count": 26,
      "outputs": []
    },
    {
      "cell_type": "code",
      "metadata": {
        "id": "Pbs3P3JdrveH",
        "colab": {
          "base_uri": "https://localhost:8080/"
        },
        "outputId": "9fb2f166-0c80-447e-cf2a-4da54de1e0ce"
      },
      "source": [
        "for i in range(len(lr_anneal)):\n",
        "    args['anneal_type'] = lr_anneal[i]\n",
        "    train_error, test_error = schedular_eval(args)\n",
        "    error_dict['train' + str(lr_anneal[i])] = train_error\n",
        "    error_dict['test' + str(lr_anneal[i])] = test_error"
      ],
      "execution_count": 27,
      "outputs": [
        {
          "output_type": "stream",
          "text": [
            "Train Epoch: 1 [0/60000 (0%)]\tLoss: 2.349136\n",
            "Train Epoch: 1 [6400/60000 (11%)]\tLoss: 0.417331\n",
            "Train Epoch: 1 [12800/60000 (21%)]\tLoss: 0.403882\n",
            "Train Epoch: 1 [19200/60000 (32%)]\tLoss: 0.375751\n",
            "Train Epoch: 1 [25600/60000 (43%)]\tLoss: 0.368692\n",
            "Train Epoch: 1 [32000/60000 (53%)]\tLoss: 0.175918\n",
            "Train Epoch: 1 [38400/60000 (64%)]\tLoss: 0.114036\n",
            "Train Epoch: 1 [44800/60000 (75%)]\tLoss: 0.154184\n",
            "Train Epoch: 1 [51200/60000 (85%)]\tLoss: 0.189471\n",
            "Train Epoch: 1 [57600/60000 (96%)]\tLoss: 0.128903\n",
            "\n",
            "Test set: Average loss: 0.1414, Accuracy: 9579/10000 (95.7900%)\n",
            "\n",
            "Train Epoch: 2 [0/60000 (0%)]\tLoss: 0.074819\n",
            "Train Epoch: 2 [6400/60000 (11%)]\tLoss: 0.080490\n",
            "Train Epoch: 2 [12800/60000 (21%)]\tLoss: 0.177657\n",
            "Train Epoch: 2 [19200/60000 (32%)]\tLoss: 0.225769\n",
            "Train Epoch: 2 [25600/60000 (43%)]\tLoss: 0.219548\n",
            "Train Epoch: 2 [32000/60000 (53%)]\tLoss: 0.166283\n",
            "Train Epoch: 2 [38400/60000 (64%)]\tLoss: 0.122383\n",
            "Train Epoch: 2 [44800/60000 (75%)]\tLoss: 0.078938\n",
            "Train Epoch: 2 [51200/60000 (85%)]\tLoss: 0.149461\n",
            "Train Epoch: 2 [57600/60000 (96%)]\tLoss: 0.094920\n",
            "\n",
            "Test set: Average loss: 0.1001, Accuracy: 9708/10000 (97.0800%)\n",
            "\n",
            "Train Epoch: 3 [0/60000 (0%)]\tLoss: 0.077283\n",
            "Train Epoch: 3 [6400/60000 (11%)]\tLoss: 0.075826\n",
            "Train Epoch: 3 [12800/60000 (21%)]\tLoss: 0.014275\n",
            "Train Epoch: 3 [19200/60000 (32%)]\tLoss: 0.121752\n",
            "Train Epoch: 3 [25600/60000 (43%)]\tLoss: 0.129635\n",
            "Train Epoch: 3 [32000/60000 (53%)]\tLoss: 0.041148\n",
            "Train Epoch: 3 [38400/60000 (64%)]\tLoss: 0.089183\n",
            "Train Epoch: 3 [44800/60000 (75%)]\tLoss: 0.054590\n",
            "Train Epoch: 3 [51200/60000 (85%)]\tLoss: 0.109873\n",
            "Train Epoch: 3 [57600/60000 (96%)]\tLoss: 0.073027\n",
            "\n",
            "Test set: Average loss: 0.0848, Accuracy: 9734/10000 (97.3400%)\n",
            "\n",
            "Train Epoch: 4 [0/60000 (0%)]\tLoss: 0.019913\n",
            "Train Epoch: 4 [6400/60000 (11%)]\tLoss: 0.064027\n",
            "Train Epoch: 4 [12800/60000 (21%)]\tLoss: 0.044192\n",
            "Train Epoch: 4 [19200/60000 (32%)]\tLoss: 0.022022\n",
            "Train Epoch: 4 [25600/60000 (43%)]\tLoss: 0.057013\n",
            "Train Epoch: 4 [32000/60000 (53%)]\tLoss: 0.035551\n",
            "Train Epoch: 4 [38400/60000 (64%)]\tLoss: 0.061067\n",
            "Train Epoch: 4 [44800/60000 (75%)]\tLoss: 0.075045\n",
            "Train Epoch: 4 [51200/60000 (85%)]\tLoss: 0.018925\n",
            "Train Epoch: 4 [57600/60000 (96%)]\tLoss: 0.012729\n",
            "\n",
            "Test set: Average loss: 0.0760, Accuracy: 9749/10000 (97.4900%)\n",
            "\n",
            "Train Epoch: 5 [0/60000 (0%)]\tLoss: 0.043866\n",
            "Train Epoch: 5 [6400/60000 (11%)]\tLoss: 0.033281\n",
            "Train Epoch: 5 [12800/60000 (21%)]\tLoss: 0.037374\n",
            "Train Epoch: 5 [19200/60000 (32%)]\tLoss: 0.014801\n",
            "Train Epoch: 5 [25600/60000 (43%)]\tLoss: 0.054460\n",
            "Train Epoch: 5 [32000/60000 (53%)]\tLoss: 0.049887\n",
            "Train Epoch: 5 [38400/60000 (64%)]\tLoss: 0.046439\n",
            "Train Epoch: 5 [44800/60000 (75%)]\tLoss: 0.029228\n",
            "Train Epoch: 5 [51200/60000 (85%)]\tLoss: 0.070307\n",
            "Train Epoch: 5 [57600/60000 (96%)]\tLoss: 0.116944\n",
            "\n",
            "Test set: Average loss: 0.0706, Accuracy: 9783/10000 (97.8300%)\n",
            "\n",
            "Train Epoch: 6 [0/60000 (0%)]\tLoss: 0.027633\n",
            "Train Epoch: 6 [6400/60000 (11%)]\tLoss: 0.026234\n",
            "Train Epoch: 6 [12800/60000 (21%)]\tLoss: 0.025812\n",
            "Train Epoch: 6 [19200/60000 (32%)]\tLoss: 0.045322\n",
            "Train Epoch: 6 [25600/60000 (43%)]\tLoss: 0.080069\n",
            "Train Epoch: 6 [32000/60000 (53%)]\tLoss: 0.013114\n",
            "Train Epoch: 6 [38400/60000 (64%)]\tLoss: 0.038063\n",
            "Train Epoch: 6 [44800/60000 (75%)]\tLoss: 0.012421\n",
            "Train Epoch: 6 [51200/60000 (85%)]\tLoss: 0.035333\n",
            "Train Epoch: 6 [57600/60000 (96%)]\tLoss: 0.063068\n",
            "\n",
            "Test set: Average loss: 0.0761, Accuracy: 9763/10000 (97.6300%)\n",
            "\n",
            "Train Epoch: 7 [0/60000 (0%)]\tLoss: 0.010379\n",
            "Train Epoch: 7 [6400/60000 (11%)]\tLoss: 0.040524\n",
            "Train Epoch: 7 [12800/60000 (21%)]\tLoss: 0.013731\n",
            "Train Epoch: 7 [19200/60000 (32%)]\tLoss: 0.019409\n",
            "Train Epoch: 7 [25600/60000 (43%)]\tLoss: 0.066192\n",
            "Train Epoch: 7 [32000/60000 (53%)]\tLoss: 0.031462\n",
            "Train Epoch: 7 [38400/60000 (64%)]\tLoss: 0.014876\n",
            "Train Epoch: 7 [44800/60000 (75%)]\tLoss: 0.004106\n",
            "Train Epoch: 7 [51200/60000 (85%)]\tLoss: 0.060304\n",
            "Train Epoch: 7 [57600/60000 (96%)]\tLoss: 0.036146\n",
            "\n",
            "Test set: Average loss: 0.0779, Accuracy: 9759/10000 (97.5900%)\n",
            "\n",
            "Train Epoch: 8 [0/60000 (0%)]\tLoss: 0.040603\n",
            "Train Epoch: 8 [6400/60000 (11%)]\tLoss: 0.018841\n",
            "Train Epoch: 8 [12800/60000 (21%)]\tLoss: 0.014158\n",
            "Train Epoch: 8 [19200/60000 (32%)]\tLoss: 0.005372\n",
            "Train Epoch: 8 [25600/60000 (43%)]\tLoss: 0.043119\n",
            "Train Epoch: 8 [32000/60000 (53%)]\tLoss: 0.005650\n",
            "Train Epoch: 8 [38400/60000 (64%)]\tLoss: 0.046900\n",
            "Train Epoch: 8 [44800/60000 (75%)]\tLoss: 0.048765\n",
            "Train Epoch: 8 [51200/60000 (85%)]\tLoss: 0.028192\n",
            "Train Epoch: 8 [57600/60000 (96%)]\tLoss: 0.027868\n",
            "\n",
            "Test set: Average loss: 0.0676, Accuracy: 9791/10000 (97.9100%)\n",
            "\n",
            "Train Epoch: 9 [0/60000 (0%)]\tLoss: 0.026222\n",
            "Train Epoch: 9 [6400/60000 (11%)]\tLoss: 0.013068\n",
            "Train Epoch: 9 [12800/60000 (21%)]\tLoss: 0.007635\n",
            "Train Epoch: 9 [19200/60000 (32%)]\tLoss: 0.031145\n",
            "Train Epoch: 9 [25600/60000 (43%)]\tLoss: 0.007217\n",
            "Train Epoch: 9 [32000/60000 (53%)]\tLoss: 0.020053\n",
            "Train Epoch: 9 [38400/60000 (64%)]\tLoss: 0.003616\n",
            "Train Epoch: 9 [44800/60000 (75%)]\tLoss: 0.031104\n",
            "Train Epoch: 9 [51200/60000 (85%)]\tLoss: 0.013302\n",
            "Train Epoch: 9 [57600/60000 (96%)]\tLoss: 0.034371\n",
            "\n",
            "Test set: Average loss: 0.0646, Accuracy: 9798/10000 (97.9800%)\n",
            "\n",
            "Train Epoch: 10 [0/60000 (0%)]\tLoss: 0.050196\n",
            "Train Epoch: 10 [6400/60000 (11%)]\tLoss: 0.010654\n",
            "Train Epoch: 10 [12800/60000 (21%)]\tLoss: 0.031641\n",
            "Train Epoch: 10 [19200/60000 (32%)]\tLoss: 0.003748\n",
            "Train Epoch: 10 [25600/60000 (43%)]\tLoss: 0.008994\n",
            "Train Epoch: 10 [32000/60000 (53%)]\tLoss: 0.004185\n",
            "Train Epoch: 10 [38400/60000 (64%)]\tLoss: 0.025229\n",
            "Train Epoch: 10 [44800/60000 (75%)]\tLoss: 0.010300\n",
            "Train Epoch: 10 [51200/60000 (85%)]\tLoss: 0.020384\n",
            "Train Epoch: 10 [57600/60000 (96%)]\tLoss: 0.018640\n",
            "\n",
            "Test set: Average loss: 0.0703, Accuracy: 9784/10000 (97.8400%)\n",
            "\n",
            "Train Epoch: 1 [0/60000 (0%)]\tLoss: 2.349136\n",
            "Train Epoch: 1 [6400/60000 (11%)]\tLoss: 0.417331\n",
            "Train Epoch: 1 [12800/60000 (21%)]\tLoss: 0.403882\n",
            "Train Epoch: 1 [19200/60000 (32%)]\tLoss: 0.375751\n",
            "Train Epoch: 1 [25600/60000 (43%)]\tLoss: 0.368692\n",
            "Train Epoch: 1 [32000/60000 (53%)]\tLoss: 0.175918\n",
            "Train Epoch: 1 [38400/60000 (64%)]\tLoss: 0.114036\n",
            "Train Epoch: 1 [44800/60000 (75%)]\tLoss: 0.154184\n",
            "Train Epoch: 1 [51200/60000 (85%)]\tLoss: 0.189471\n",
            "Train Epoch: 1 [57600/60000 (96%)]\tLoss: 0.128903\n",
            "\n",
            "Test set: Average loss: 0.1414, Accuracy: 9579/10000 (95.7900%)\n",
            "\n",
            "Train Epoch: 2 [0/60000 (0%)]\tLoss: 0.074819\n",
            "Train Epoch: 2 [6400/60000 (11%)]\tLoss: 0.079555\n",
            "Train Epoch: 2 [12800/60000 (21%)]\tLoss: 0.168807\n",
            "Train Epoch: 2 [19200/60000 (32%)]\tLoss: 0.222954\n",
            "Train Epoch: 2 [25600/60000 (43%)]\tLoss: 0.213742\n",
            "Train Epoch: 2 [32000/60000 (53%)]\tLoss: 0.162549\n",
            "Train Epoch: 2 [38400/60000 (64%)]\tLoss: 0.118922\n",
            "Train Epoch: 2 [44800/60000 (75%)]\tLoss: 0.073307\n",
            "Train Epoch: 2 [51200/60000 (85%)]\tLoss: 0.137500\n",
            "Train Epoch: 2 [57600/60000 (96%)]\tLoss: 0.094731\n",
            "\n",
            "Test set: Average loss: 0.1015, Accuracy: 9704/10000 (97.0400%)\n",
            "\n",
            "Train Epoch: 3 [0/60000 (0%)]\tLoss: 0.076175\n",
            "Train Epoch: 3 [6400/60000 (11%)]\tLoss: 0.075564\n",
            "Train Epoch: 3 [12800/60000 (21%)]\tLoss: 0.015967\n",
            "Train Epoch: 3 [19200/60000 (32%)]\tLoss: 0.120521\n",
            "Train Epoch: 3 [25600/60000 (43%)]\tLoss: 0.130874\n",
            "Train Epoch: 3 [32000/60000 (53%)]\tLoss: 0.041487\n",
            "Train Epoch: 3 [38400/60000 (64%)]\tLoss: 0.093015\n",
            "Train Epoch: 3 [44800/60000 (75%)]\tLoss: 0.054349\n",
            "Train Epoch: 3 [51200/60000 (85%)]\tLoss: 0.115002\n",
            "Train Epoch: 3 [57600/60000 (96%)]\tLoss: 0.064764\n",
            "\n",
            "Test set: Average loss: 0.0858, Accuracy: 9735/10000 (97.3500%)\n",
            "\n",
            "Train Epoch: 4 [0/60000 (0%)]\tLoss: 0.022343\n",
            "Train Epoch: 4 [6400/60000 (11%)]\tLoss: 0.071497\n",
            "Train Epoch: 4 [12800/60000 (21%)]\tLoss: 0.039645\n",
            "Train Epoch: 4 [19200/60000 (32%)]\tLoss: 0.028510\n",
            "Train Epoch: 4 [25600/60000 (43%)]\tLoss: 0.054959\n",
            "Train Epoch: 4 [32000/60000 (53%)]\tLoss: 0.031655\n",
            "Train Epoch: 4 [38400/60000 (64%)]\tLoss: 0.056301\n",
            "Train Epoch: 4 [44800/60000 (75%)]\tLoss: 0.069961\n",
            "Train Epoch: 4 [51200/60000 (85%)]\tLoss: 0.017832\n",
            "Train Epoch: 4 [57600/60000 (96%)]\tLoss: 0.014786\n",
            "\n",
            "Test set: Average loss: 0.0782, Accuracy: 9747/10000 (97.4700%)\n",
            "\n",
            "Train Epoch: 5 [0/60000 (0%)]\tLoss: 0.042001\n",
            "Train Epoch: 5 [6400/60000 (11%)]\tLoss: 0.033148\n",
            "Train Epoch: 5 [12800/60000 (21%)]\tLoss: 0.051727\n",
            "Train Epoch: 5 [19200/60000 (32%)]\tLoss: 0.020960\n",
            "Train Epoch: 5 [25600/60000 (43%)]\tLoss: 0.050841\n",
            "Train Epoch: 5 [32000/60000 (53%)]\tLoss: 0.036730\n",
            "Train Epoch: 5 [38400/60000 (64%)]\tLoss: 0.049024\n",
            "Train Epoch: 5 [44800/60000 (75%)]\tLoss: 0.027650\n",
            "Train Epoch: 5 [51200/60000 (85%)]\tLoss: 0.076500\n",
            "Train Epoch: 5 [57600/60000 (96%)]\tLoss: 0.118494\n",
            "\n",
            "Test set: Average loss: 0.0713, Accuracy: 9779/10000 (97.7900%)\n",
            "\n",
            "Train Epoch: 6 [0/60000 (0%)]\tLoss: 0.021602\n",
            "Train Epoch: 6 [6400/60000 (11%)]\tLoss: 0.033050\n",
            "Train Epoch: 6 [12800/60000 (21%)]\tLoss: 0.039098\n",
            "Train Epoch: 6 [19200/60000 (32%)]\tLoss: 0.060581\n",
            "Train Epoch: 6 [25600/60000 (43%)]\tLoss: 0.067444\n",
            "Train Epoch: 6 [32000/60000 (53%)]\tLoss: 0.017371\n",
            "Train Epoch: 6 [38400/60000 (64%)]\tLoss: 0.040132\n",
            "Train Epoch: 6 [44800/60000 (75%)]\tLoss: 0.016206\n",
            "Train Epoch: 6 [51200/60000 (85%)]\tLoss: 0.034977\n",
            "Train Epoch: 6 [57600/60000 (96%)]\tLoss: 0.064930\n",
            "\n",
            "Test set: Average loss: 0.0705, Accuracy: 9777/10000 (97.7700%)\n",
            "\n",
            "Train Epoch: 7 [0/60000 (0%)]\tLoss: 0.014703\n",
            "Train Epoch: 7 [6400/60000 (11%)]\tLoss: 0.020111\n",
            "Train Epoch: 7 [12800/60000 (21%)]\tLoss: 0.019937\n",
            "Train Epoch: 7 [19200/60000 (32%)]\tLoss: 0.020240\n",
            "Train Epoch: 7 [25600/60000 (43%)]\tLoss: 0.036902\n",
            "Train Epoch: 7 [32000/60000 (53%)]\tLoss: 0.041847\n",
            "Train Epoch: 7 [38400/60000 (64%)]\tLoss: 0.016747\n",
            "Train Epoch: 7 [44800/60000 (75%)]\tLoss: 0.007651\n",
            "Train Epoch: 7 [51200/60000 (85%)]\tLoss: 0.085078\n",
            "Train Epoch: 7 [57600/60000 (96%)]\tLoss: 0.035157\n",
            "\n",
            "Test set: Average loss: 0.0684, Accuracy: 9785/10000 (97.8500%)\n",
            "\n",
            "Train Epoch: 8 [0/60000 (0%)]\tLoss: 0.059205\n",
            "Train Epoch: 8 [6400/60000 (11%)]\tLoss: 0.024013\n",
            "Train Epoch: 8 [12800/60000 (21%)]\tLoss: 0.033268\n",
            "Train Epoch: 8 [19200/60000 (32%)]\tLoss: 0.013802\n",
            "Train Epoch: 8 [25600/60000 (43%)]\tLoss: 0.054232\n",
            "Train Epoch: 8 [32000/60000 (53%)]\tLoss: 0.005806\n",
            "Train Epoch: 8 [38400/60000 (64%)]\tLoss: 0.062144\n",
            "Train Epoch: 8 [44800/60000 (75%)]\tLoss: 0.060046\n",
            "Train Epoch: 8 [51200/60000 (85%)]\tLoss: 0.042546\n",
            "Train Epoch: 8 [57600/60000 (96%)]\tLoss: 0.051322\n",
            "\n",
            "Test set: Average loss: 0.0643, Accuracy: 9799/10000 (97.9900%)\n",
            "\n",
            "Train Epoch: 9 [0/60000 (0%)]\tLoss: 0.036834\n",
            "Train Epoch: 9 [6400/60000 (11%)]\tLoss: 0.013760\n",
            "Train Epoch: 9 [12800/60000 (21%)]\tLoss: 0.017799\n",
            "Train Epoch: 9 [19200/60000 (32%)]\tLoss: 0.020708\n",
            "Train Epoch: 9 [25600/60000 (43%)]\tLoss: 0.014882\n",
            "Train Epoch: 9 [32000/60000 (53%)]\tLoss: 0.015845\n",
            "Train Epoch: 9 [38400/60000 (64%)]\tLoss: 0.014123\n",
            "Train Epoch: 9 [44800/60000 (75%)]\tLoss: 0.030604\n",
            "Train Epoch: 9 [51200/60000 (85%)]\tLoss: 0.034674\n",
            "Train Epoch: 9 [57600/60000 (96%)]\tLoss: 0.054913\n",
            "\n",
            "Test set: Average loss: 0.0633, Accuracy: 9802/10000 (98.0200%)\n",
            "\n",
            "Train Epoch: 10 [0/60000 (0%)]\tLoss: 0.074953\n",
            "Train Epoch: 10 [6400/60000 (11%)]\tLoss: 0.013771\n",
            "Train Epoch: 10 [12800/60000 (21%)]\tLoss: 0.040370\n",
            "Train Epoch: 10 [19200/60000 (32%)]\tLoss: 0.004713\n",
            "Train Epoch: 10 [25600/60000 (43%)]\tLoss: 0.008669\n",
            "Train Epoch: 10 [32000/60000 (53%)]\tLoss: 0.007399\n",
            "Train Epoch: 10 [38400/60000 (64%)]\tLoss: 0.042440\n",
            "Train Epoch: 10 [44800/60000 (75%)]\tLoss: 0.017316\n",
            "Train Epoch: 10 [51200/60000 (85%)]\tLoss: 0.020547\n",
            "Train Epoch: 10 [57600/60000 (96%)]\tLoss: 0.020033\n",
            "\n",
            "Test set: Average loss: 0.0626, Accuracy: 9808/10000 (98.0800%)\n",
            "\n",
            "Train Epoch: 1 [0/60000 (0%)]\tLoss: 2.349136\n",
            "Train Epoch: 1 [6400/60000 (11%)]\tLoss: 0.417331\n",
            "Train Epoch: 1 [12800/60000 (21%)]\tLoss: 0.403882\n",
            "Train Epoch: 1 [19200/60000 (32%)]\tLoss: 0.375751\n",
            "Train Epoch: 1 [25600/60000 (43%)]\tLoss: 0.368692\n",
            "Train Epoch: 1 [32000/60000 (53%)]\tLoss: 0.175918\n",
            "Train Epoch: 1 [38400/60000 (64%)]\tLoss: 0.114036\n",
            "Train Epoch: 1 [44800/60000 (75%)]\tLoss: 0.154184\n",
            "Train Epoch: 1 [51200/60000 (85%)]\tLoss: 0.189471\n",
            "Train Epoch: 1 [57600/60000 (96%)]\tLoss: 0.128903\n",
            "\n",
            "Test set: Average loss: 0.1414, Accuracy: 9579/10000 (95.7900%)\n",
            "\n",
            "Train Epoch: 2 [0/60000 (0%)]\tLoss: 0.074819\n",
            "Train Epoch: 2 [6400/60000 (11%)]\tLoss: 0.077661\n",
            "Train Epoch: 2 [12800/60000 (21%)]\tLoss: 0.150988\n",
            "Train Epoch: 2 [19200/60000 (32%)]\tLoss: 0.220421\n",
            "Train Epoch: 2 [25600/60000 (43%)]\tLoss: 0.201622\n",
            "Train Epoch: 2 [32000/60000 (53%)]\tLoss: 0.148987\n",
            "Train Epoch: 2 [38400/60000 (64%)]\tLoss: 0.113347\n",
            "Train Epoch: 2 [44800/60000 (75%)]\tLoss: 0.077158\n",
            "Train Epoch: 2 [51200/60000 (85%)]\tLoss: 0.134386\n",
            "Train Epoch: 2 [57600/60000 (96%)]\tLoss: 0.089979\n",
            "\n",
            "Test set: Average loss: 0.1060, Accuracy: 9698/10000 (96.9800%)\n",
            "\n",
            "Train Epoch: 3 [0/60000 (0%)]\tLoss: 0.078260\n",
            "Train Epoch: 3 [6400/60000 (11%)]\tLoss: 0.082807\n",
            "Train Epoch: 3 [12800/60000 (21%)]\tLoss: 0.017904\n",
            "Train Epoch: 3 [19200/60000 (32%)]\tLoss: 0.129108\n",
            "Train Epoch: 3 [25600/60000 (43%)]\tLoss: 0.138485\n",
            "Train Epoch: 3 [32000/60000 (53%)]\tLoss: 0.046029\n",
            "Train Epoch: 3 [38400/60000 (64%)]\tLoss: 0.099035\n",
            "Train Epoch: 3 [44800/60000 (75%)]\tLoss: 0.055129\n",
            "Train Epoch: 3 [51200/60000 (85%)]\tLoss: 0.115468\n",
            "Train Epoch: 3 [57600/60000 (96%)]\tLoss: 0.069459\n",
            "\n",
            "Test set: Average loss: 0.0883, Accuracy: 9733/10000 (97.3300%)\n",
            "\n",
            "Train Epoch: 4 [0/60000 (0%)]\tLoss: 0.024925\n",
            "Train Epoch: 4 [6400/60000 (11%)]\tLoss: 0.088997\n",
            "Train Epoch: 4 [12800/60000 (21%)]\tLoss: 0.042423\n",
            "Train Epoch: 4 [19200/60000 (32%)]\tLoss: 0.039739\n",
            "Train Epoch: 4 [25600/60000 (43%)]\tLoss: 0.053312\n",
            "Train Epoch: 4 [32000/60000 (53%)]\tLoss: 0.032214\n",
            "Train Epoch: 4 [38400/60000 (64%)]\tLoss: 0.063494\n",
            "Train Epoch: 4 [44800/60000 (75%)]\tLoss: 0.083579\n",
            "Train Epoch: 4 [51200/60000 (85%)]\tLoss: 0.027929\n",
            "Train Epoch: 4 [57600/60000 (96%)]\tLoss: 0.019567\n",
            "\n",
            "Test set: Average loss: 0.0819, Accuracy: 9745/10000 (97.4500%)\n",
            "\n",
            "Train Epoch: 5 [0/60000 (0%)]\tLoss: 0.050111\n",
            "Train Epoch: 5 [6400/60000 (11%)]\tLoss: 0.043930\n",
            "Train Epoch: 5 [12800/60000 (21%)]\tLoss: 0.076902\n",
            "Train Epoch: 5 [19200/60000 (32%)]\tLoss: 0.027424\n",
            "Train Epoch: 5 [25600/60000 (43%)]\tLoss: 0.059156\n",
            "Train Epoch: 5 [32000/60000 (53%)]\tLoss: 0.039036\n",
            "Train Epoch: 5 [38400/60000 (64%)]\tLoss: 0.053732\n",
            "Train Epoch: 5 [44800/60000 (75%)]\tLoss: 0.025517\n",
            "Train Epoch: 5 [51200/60000 (85%)]\tLoss: 0.084156\n",
            "Train Epoch: 5 [57600/60000 (96%)]\tLoss: 0.131091\n",
            "\n",
            "Test set: Average loss: 0.0748, Accuracy: 9770/10000 (97.7000%)\n",
            "\n",
            "Train Epoch: 6 [0/60000 (0%)]\tLoss: 0.024481\n",
            "Train Epoch: 6 [6400/60000 (11%)]\tLoss: 0.032720\n",
            "Train Epoch: 6 [12800/60000 (21%)]\tLoss: 0.058012\n",
            "Train Epoch: 6 [19200/60000 (32%)]\tLoss: 0.080088\n",
            "Train Epoch: 6 [25600/60000 (43%)]\tLoss: 0.078410\n",
            "Train Epoch: 6 [32000/60000 (53%)]\tLoss: 0.023490\n",
            "Train Epoch: 6 [38400/60000 (64%)]\tLoss: 0.056694\n",
            "Train Epoch: 6 [44800/60000 (75%)]\tLoss: 0.020693\n",
            "Train Epoch: 6 [51200/60000 (85%)]\tLoss: 0.040286\n",
            "Train Epoch: 6 [57600/60000 (96%)]\tLoss: 0.070182\n",
            "\n",
            "Test set: Average loss: 0.0744, Accuracy: 9772/10000 (97.7200%)\n",
            "\n",
            "Train Epoch: 7 [0/60000 (0%)]\tLoss: 0.021305\n",
            "Train Epoch: 7 [6400/60000 (11%)]\tLoss: 0.024760\n",
            "Train Epoch: 7 [12800/60000 (21%)]\tLoss: 0.029370\n",
            "Train Epoch: 7 [19200/60000 (32%)]\tLoss: 0.026752\n",
            "Train Epoch: 7 [25600/60000 (43%)]\tLoss: 0.043552\n",
            "Train Epoch: 7 [32000/60000 (53%)]\tLoss: 0.043295\n",
            "Train Epoch: 7 [38400/60000 (64%)]\tLoss: 0.024446\n",
            "Train Epoch: 7 [44800/60000 (75%)]\tLoss: 0.009746\n",
            "Train Epoch: 7 [51200/60000 (85%)]\tLoss: 0.107313\n",
            "Train Epoch: 7 [57600/60000 (96%)]\tLoss: 0.046529\n",
            "\n",
            "Test set: Average loss: 0.0716, Accuracy: 9781/10000 (97.8100%)\n",
            "\n",
            "Train Epoch: 8 [0/60000 (0%)]\tLoss: 0.069280\n",
            "Train Epoch: 8 [6400/60000 (11%)]\tLoss: 0.031172\n",
            "Train Epoch: 8 [12800/60000 (21%)]\tLoss: 0.064290\n",
            "Train Epoch: 8 [19200/60000 (32%)]\tLoss: 0.020294\n",
            "Train Epoch: 8 [25600/60000 (43%)]\tLoss: 0.076952\n",
            "Train Epoch: 8 [32000/60000 (53%)]\tLoss: 0.008802\n",
            "Train Epoch: 8 [38400/60000 (64%)]\tLoss: 0.071729\n",
            "Train Epoch: 8 [44800/60000 (75%)]\tLoss: 0.064500\n",
            "Train Epoch: 8 [51200/60000 (85%)]\tLoss: 0.054449\n",
            "Train Epoch: 8 [57600/60000 (96%)]\tLoss: 0.057680\n",
            "\n",
            "Test set: Average loss: 0.0676, Accuracy: 9781/10000 (97.8100%)\n",
            "\n",
            "Train Epoch: 9 [0/60000 (0%)]\tLoss: 0.045413\n",
            "Train Epoch: 9 [6400/60000 (11%)]\tLoss: 0.022061\n",
            "Train Epoch: 9 [12800/60000 (21%)]\tLoss: 0.020460\n",
            "Train Epoch: 9 [19200/60000 (32%)]\tLoss: 0.033690\n",
            "Train Epoch: 9 [25600/60000 (43%)]\tLoss: 0.022670\n",
            "Train Epoch: 9 [32000/60000 (53%)]\tLoss: 0.024608\n",
            "Train Epoch: 9 [38400/60000 (64%)]\tLoss: 0.019582\n",
            "Train Epoch: 9 [44800/60000 (75%)]\tLoss: 0.050091\n",
            "Train Epoch: 9 [51200/60000 (85%)]\tLoss: 0.043591\n",
            "Train Epoch: 9 [57600/60000 (96%)]\tLoss: 0.057102\n",
            "\n",
            "Test set: Average loss: 0.0664, Accuracy: 9801/10000 (98.0100%)\n",
            "\n",
            "Train Epoch: 10 [0/60000 (0%)]\tLoss: 0.084995\n",
            "Train Epoch: 10 [6400/60000 (11%)]\tLoss: 0.016901\n",
            "Train Epoch: 10 [12800/60000 (21%)]\tLoss: 0.052917\n",
            "Train Epoch: 10 [19200/60000 (32%)]\tLoss: 0.006789\n",
            "Train Epoch: 10 [25600/60000 (43%)]\tLoss: 0.013939\n",
            "Train Epoch: 10 [32000/60000 (53%)]\tLoss: 0.009651\n",
            "Train Epoch: 10 [38400/60000 (64%)]\tLoss: 0.062246\n",
            "Train Epoch: 10 [44800/60000 (75%)]\tLoss: 0.021866\n",
            "Train Epoch: 10 [51200/60000 (85%)]\tLoss: 0.026999\n",
            "Train Epoch: 10 [57600/60000 (96%)]\tLoss: 0.027539\n",
            "\n",
            "Test set: Average loss: 0.0672, Accuracy: 9786/10000 (97.8600%)\n",
            "\n",
            "Train Epoch: 1 [0/60000 (0%)]\tLoss: 2.349136\n",
            "Train Epoch: 1 [6400/60000 (11%)]\tLoss: 0.417331\n",
            "Train Epoch: 1 [12800/60000 (21%)]\tLoss: 0.403882\n",
            "Train Epoch: 1 [19200/60000 (32%)]\tLoss: 0.375751\n",
            "Train Epoch: 1 [25600/60000 (43%)]\tLoss: 0.368692\n",
            "Train Epoch: 1 [32000/60000 (53%)]\tLoss: 0.175918\n",
            "Train Epoch: 1 [38400/60000 (64%)]\tLoss: 0.114036\n",
            "Train Epoch: 1 [44800/60000 (75%)]\tLoss: 0.154184\n",
            "Train Epoch: 1 [51200/60000 (85%)]\tLoss: 0.189471\n",
            "Train Epoch: 1 [57600/60000 (96%)]\tLoss: 0.128903\n",
            "\n",
            "Test set: Average loss: 0.1414, Accuracy: 9579/10000 (95.7900%)\n",
            "\n",
            "Train Epoch: 2 [0/60000 (0%)]\tLoss: 0.074819\n",
            "Train Epoch: 2 [6400/60000 (11%)]\tLoss: 0.068854\n",
            "Train Epoch: 2 [12800/60000 (21%)]\tLoss: 0.105536\n",
            "Train Epoch: 2 [19200/60000 (32%)]\tLoss: 0.200031\n",
            "Train Epoch: 2 [25600/60000 (43%)]\tLoss: 0.178148\n",
            "Train Epoch: 2 [32000/60000 (53%)]\tLoss: 0.128395\n",
            "Train Epoch: 2 [38400/60000 (64%)]\tLoss: 0.116763\n",
            "Train Epoch: 2 [44800/60000 (75%)]\tLoss: 0.068769\n",
            "Train Epoch: 2 [51200/60000 (85%)]\tLoss: 0.133179\n",
            "Train Epoch: 2 [57600/60000 (96%)]\tLoss: 0.093464\n",
            "\n",
            "Test set: Average loss: 0.1193, Accuracy: 9655/10000 (96.5500%)\n",
            "\n",
            "Train Epoch: 3 [0/60000 (0%)]\tLoss: 0.084417\n",
            "Train Epoch: 3 [6400/60000 (11%)]\tLoss: 0.117839\n",
            "Train Epoch: 3 [12800/60000 (21%)]\tLoss: 0.021795\n",
            "Train Epoch: 3 [19200/60000 (32%)]\tLoss: 0.179207\n",
            "Train Epoch: 3 [25600/60000 (43%)]\tLoss: 0.156148\n",
            "Train Epoch: 3 [32000/60000 (53%)]\tLoss: 0.056993\n",
            "Train Epoch: 3 [38400/60000 (64%)]\tLoss: 0.124094\n",
            "Train Epoch: 3 [44800/60000 (75%)]\tLoss: 0.062400\n",
            "Train Epoch: 3 [51200/60000 (85%)]\tLoss: 0.170660\n",
            "Train Epoch: 3 [57600/60000 (96%)]\tLoss: 0.111491\n",
            "\n",
            "Test set: Average loss: 0.1184, Accuracy: 9654/10000 (96.5400%)\n",
            "\n",
            "Train Epoch: 4 [0/60000 (0%)]\tLoss: 0.058720\n",
            "Train Epoch: 4 [6400/60000 (11%)]\tLoss: 0.167197\n",
            "Train Epoch: 4 [12800/60000 (21%)]\tLoss: 0.074768\n",
            "Train Epoch: 4 [19200/60000 (32%)]\tLoss: 0.123552\n",
            "Train Epoch: 4 [25600/60000 (43%)]\tLoss: 0.071485\n",
            "Train Epoch: 4 [32000/60000 (53%)]\tLoss: 0.066323\n",
            "Train Epoch: 4 [38400/60000 (64%)]\tLoss: 0.114356\n",
            "Train Epoch: 4 [44800/60000 (75%)]\tLoss: 0.144739\n",
            "Train Epoch: 4 [51200/60000 (85%)]\tLoss: 0.068685\n",
            "Train Epoch: 4 [57600/60000 (96%)]\tLoss: 0.072622\n",
            "\n",
            "Test set: Average loss: 0.1184, Accuracy: 9655/10000 (96.5500%)\n",
            "\n",
            "Train Epoch: 5 [0/60000 (0%)]\tLoss: 0.103067\n",
            "Train Epoch: 5 [6400/60000 (11%)]\tLoss: 0.109223\n",
            "Train Epoch: 5 [12800/60000 (21%)]\tLoss: 0.192052\n",
            "Train Epoch: 5 [19200/60000 (32%)]\tLoss: 0.068193\n",
            "Train Epoch: 5 [25600/60000 (43%)]\tLoss: 0.080822\n",
            "Train Epoch: 5 [32000/60000 (53%)]\tLoss: 0.079057\n",
            "Train Epoch: 5 [38400/60000 (64%)]\tLoss: 0.086134\n",
            "Train Epoch: 5 [44800/60000 (75%)]\tLoss: 0.042912\n",
            "Train Epoch: 5 [51200/60000 (85%)]\tLoss: 0.167041\n",
            "Train Epoch: 5 [57600/60000 (96%)]\tLoss: 0.152210\n",
            "\n",
            "Test set: Average loss: 0.1184, Accuracy: 9655/10000 (96.5500%)\n",
            "\n",
            "Train Epoch: 6 [0/60000 (0%)]\tLoss: 0.058905\n",
            "Train Epoch: 6 [6400/60000 (11%)]\tLoss: 0.047016\n",
            "Train Epoch: 6 [12800/60000 (21%)]\tLoss: 0.152365\n",
            "Train Epoch: 6 [19200/60000 (32%)]\tLoss: 0.118457\n",
            "Train Epoch: 6 [25600/60000 (43%)]\tLoss: 0.160482\n",
            "Train Epoch: 6 [32000/60000 (53%)]\tLoss: 0.056728\n",
            "Train Epoch: 6 [38400/60000 (64%)]\tLoss: 0.159930\n",
            "Train Epoch: 6 [44800/60000 (75%)]\tLoss: 0.055013\n",
            "Train Epoch: 6 [51200/60000 (85%)]\tLoss: 0.111069\n",
            "Train Epoch: 6 [57600/60000 (96%)]\tLoss: 0.098981\n",
            "\n",
            "Test set: Average loss: 0.1184, Accuracy: 9655/10000 (96.5500%)\n",
            "\n",
            "Train Epoch: 7 [0/60000 (0%)]\tLoss: 0.088596\n",
            "Train Epoch: 7 [6400/60000 (11%)]\tLoss: 0.101010\n",
            "Train Epoch: 7 [12800/60000 (21%)]\tLoss: 0.156396\n",
            "Train Epoch: 7 [19200/60000 (32%)]\tLoss: 0.100377\n",
            "Train Epoch: 7 [25600/60000 (43%)]\tLoss: 0.084232\n",
            "Train Epoch: 7 [32000/60000 (53%)]\tLoss: 0.112573\n",
            "Train Epoch: 7 [38400/60000 (64%)]\tLoss: 0.089085\n",
            "Train Epoch: 7 [44800/60000 (75%)]\tLoss: 0.046800\n",
            "Train Epoch: 7 [51200/60000 (85%)]\tLoss: 0.189412\n",
            "Train Epoch: 7 [57600/60000 (96%)]\tLoss: 0.154774\n",
            "\n",
            "Test set: Average loss: 0.1184, Accuracy: 9655/10000 (96.5500%)\n",
            "\n",
            "Train Epoch: 8 [0/60000 (0%)]\tLoss: 0.140075\n",
            "Train Epoch: 8 [6400/60000 (11%)]\tLoss: 0.090562\n",
            "Train Epoch: 8 [12800/60000 (21%)]\tLoss: 0.257334\n",
            "Train Epoch: 8 [19200/60000 (32%)]\tLoss: 0.083269\n",
            "Train Epoch: 8 [25600/60000 (43%)]\tLoss: 0.217311\n",
            "Train Epoch: 8 [32000/60000 (53%)]\tLoss: 0.038397\n",
            "Train Epoch: 8 [38400/60000 (64%)]\tLoss: 0.128885\n",
            "Train Epoch: 8 [44800/60000 (75%)]\tLoss: 0.113642\n",
            "Train Epoch: 8 [51200/60000 (85%)]\tLoss: 0.140670\n",
            "Train Epoch: 8 [57600/60000 (96%)]\tLoss: 0.107499\n",
            "\n",
            "Test set: Average loss: 0.1184, Accuracy: 9655/10000 (96.5500%)\n",
            "\n",
            "Train Epoch: 9 [0/60000 (0%)]\tLoss: 0.123261\n",
            "Train Epoch: 9 [6400/60000 (11%)]\tLoss: 0.136390\n",
            "Train Epoch: 9 [12800/60000 (21%)]\tLoss: 0.047292\n",
            "Train Epoch: 9 [19200/60000 (32%)]\tLoss: 0.088708\n",
            "Train Epoch: 9 [25600/60000 (43%)]\tLoss: 0.119613\n",
            "Train Epoch: 9 [32000/60000 (53%)]\tLoss: 0.094765\n",
            "Train Epoch: 9 [38400/60000 (64%)]\tLoss: 0.177066\n",
            "Train Epoch: 9 [44800/60000 (75%)]\tLoss: 0.144644\n",
            "Train Epoch: 9 [51200/60000 (85%)]\tLoss: 0.097278\n",
            "Train Epoch: 9 [57600/60000 (96%)]\tLoss: 0.200718\n",
            "\n",
            "Test set: Average loss: 0.1184, Accuracy: 9655/10000 (96.5500%)\n",
            "\n",
            "Train Epoch: 10 [0/60000 (0%)]\tLoss: 0.119532\n",
            "Train Epoch: 10 [6400/60000 (11%)]\tLoss: 0.098227\n",
            "Train Epoch: 10 [12800/60000 (21%)]\tLoss: 0.174111\n",
            "Train Epoch: 10 [19200/60000 (32%)]\tLoss: 0.026076\n",
            "Train Epoch: 10 [25600/60000 (43%)]\tLoss: 0.070466\n",
            "Train Epoch: 10 [32000/60000 (53%)]\tLoss: 0.031741\n",
            "Train Epoch: 10 [38400/60000 (64%)]\tLoss: 0.174319\n",
            "Train Epoch: 10 [44800/60000 (75%)]\tLoss: 0.123618\n",
            "Train Epoch: 10 [51200/60000 (85%)]\tLoss: 0.124471\n",
            "Train Epoch: 10 [57600/60000 (96%)]\tLoss: 0.088743\n",
            "\n",
            "Test set: Average loss: 0.1184, Accuracy: 9655/10000 (96.5500%)\n",
            "\n"
          ],
          "name": "stdout"
        }
      ]
    },
    {
      "cell_type": "code",
      "metadata": {
        "id": "esrdkxkWuQI-",
        "colab": {
          "base_uri": "https://localhost:8080/",
          "height": 0
        },
        "outputId": "ddc9df9d-a429-4716-dc6e-e0eb49b369da"
      },
      "source": [
        "\n",
        "fig, axs = plt.subplots(1, 2, figsize=(10,4))\n",
        "axs[0].plot(error_dict['trainconstant'], label='Constant', color='b')\n",
        "axs[1].plot(error_dict['testconstant'], label='Constant', color='b', linestyle='dashed')\n",
        "axs[0].plot(error_dict['trainlinear'], label='Linear', color='r')\n",
        "axs[1].plot(error_dict['testlinear'], label='Linear', color='r', linestyle='dashed')\n",
        "axs[0].plot(error_dict['trainsqrt'], label='Sqrt', color='g')\n",
        "axs[1].plot(error_dict['testsqrt'], label='Sqrt', color='g', linestyle='dashed')\n",
        "axs[0].plot(error_dict['trainexp'], label='Exp', color='orange')\n",
        "axs[1].plot(error_dict['testexp'], label='Exp', color='orange', linestyle='dashed')\n",
        "axs[0].set_title('Train')\n",
        "axs[1].set_title('Test')\n",
        "axs[0].set_ylabel('Error (%)')\n",
        "#plt.yscale('log')\n",
        "axs[0].set_xlabel('Epoch')\n",
        "axs[1].set_xlabel('Epoch')\n",
        "axs[0].legend()\n",
        "axs[1].legend()\n",
        "plt.show()"
      ],
      "execution_count": 28,
      "outputs": [
        {
          "output_type": "display_data",
          "data": {
            "image/png": "[encoded data removed]",
            "text/plain": [
              "<Figure size 720x288 with 2 Axes>"
            ]
          },
          "metadata": {
            "tags": [],
            "needs_background": "light"
          }
        }
      ]
    },
    {
      "cell_type": "markdown",
      "metadata": {
        "id": "QTti3HOi1cWC"
      },
      "source": [
        "## Concluding Optimisation\n",
        "\n",
        "So we've seen a bunch of different optimizing methods, Batch Normalisation layers, and annealing methods which control the way the optimisation tapers off. Usually, we focus on optimisation technique and fine tuning after we've decided on the model we want to use on the data, though it is worth keeping an eye on the general optimisation techniques when we are training (such as the kind of optimiser we will be choosing). Optimisation works in tandem with the second set of topics we will be exploring, Regularisation, in part of being the key ways we truly master training a model. Model architecture and deciding the right kind of model for your data is crucial, but optimisation and regularisation is what it make the model ready for production (if that is your goal!).\n",
        "\n",
        "So while optimisation dealt with the way our model back propagates information about changing the model weights based on the predictions, *regularisation* deals with ways we can allow our model to generalise better, and avoid over-fitting our model, and allowing it to be flexible in the way it deals with new data. In the following section, we will deal with multiple ways to regularise our data. We will continue dealing with image based models, but will move to a different dataset which is more complex, of animal faces.\n",
        "\n",
        "\n",
        "\n"
      ]
    },
    {
      "cell_type": "markdown",
      "metadata": {
        "id": "oy4MWLlGFRzD"
      },
      "source": [
        "## Keras Options\n",
        "\n",
        "Here are set of links and resources for optimisation with Keras.\n",
        "\n",
        "[Keras Optimizer Documentation](https://keras.io/api/optimizers/)\n",
        "\n",
        "[Blog post on Keras optimizer options](https://machinelearningknowledge.ai/keras-optimizers-explained-with-examples-for-beginners/)\n"
      ]
    },
    {
      "cell_type": "markdown",
      "metadata": {
        "id": "F_QkFfs8bGM3"
      },
      "source": [
        "# Regularisation\n",
        "\n",
        "Useful links:\n",
        "\n",
        "- [Chapter 7, deep learning book](https://www.deeplearningbook.org/contents/regularization.html)\n",
        "- [Slides and Code for PyTorch regularisation from Sebastian Raschka](https://github.com/rasbt/stat479-deep-learning-ss19/tree/master/L10_regularization)\n",
        "- [towards data science blog post](https://towardsdatascience.com/regularization-in-deep-learning-l1-l2-and-dropout-377e75acc036)\n",
        "- [medium blog post](https://medium.com/@dhartidhami/regularization-in-deep-learning-2065b7c889e5)"
      ]
    },
    {
      "cell_type": "markdown",
      "metadata": {
        "id": "GvXxa4b2l4m4"
      },
      "source": [
        "## Setup\n",
        "Note that some of the code for today can take up to an hour to run. We have therefore \"hidden\" that code and shown the resulting outputs.\n"
      ]
    },
    {
      "cell_type": "code",
      "metadata": {
        "id": "KrBw60zoMRqr"
      },
      "source": [
        "#@title Import functions\n",
        "from __future__ import print_function\n",
        "import torch\n",
        "import pathlib\n",
        "import random\n",
        "import torch.nn as nn\n",
        "import torch.nn.functional as F\n",
        "import torch.optim as optim\n",
        "from torchvision import datasets, transforms\n",
        "from torchvision.datasets import ImageFolder\n",
        "from torch.utils.data import DataLoader, TensorDataset\n",
        "import torch.nn.utils.prune as prune\n",
        "from torch.optim.lr_scheduler import StepLR\n",
        "import time\n",
        "import numpy as np\n",
        "import matplotlib.pyplot as plt\n",
        "import matplotlib.animation as animation\n",
        "import copy\n",
        "from tqdm import tqdm\n",
        "from IPython.display import HTML, display"
      ],
      "execution_count": 29,
      "outputs": []
    },
    {
      "cell_type": "code",
      "metadata": {
        "id": "wDBtaMET-fNA"
      },
      "source": [
        "# @title Figure Settings\n",
        "import ipywidgets as widgets\n",
        "%matplotlib inline \n",
        "fig_w, fig_h = (8, 6)\n",
        "plt.rcParams.update({'figure.figsize': (fig_w, fig_h)})\n",
        "%config InlineBackend.figure_format = 'retina'\n",
        "SMALL_SIZE = 12\n",
        "\n",
        "plt.rcParams.update(plt.rcParamsDefault)\n",
        "plt.rc('animation', html='jshtml')\n",
        "plt.rc('font', size=SMALL_SIZE)          # controls default text sizes\n",
        "plt.rc('axes', titlesize=SMALL_SIZE)     # fontsize of the axes title\n",
        "plt.rc('axes', labelsize=SMALL_SIZE)    # fontsize of the x and y labels\n",
        "plt.rc('xtick', labelsize=SMALL_SIZE)    # fontsize of the tick labels\n",
        "plt.rc('ytick', labelsize=SMALL_SIZE)    # fontsize of the tick labels\n",
        "plt.rc('legend', fontsize=SMALL_SIZE)    # legend fontsize\n",
        "plt.rc('figure', titlesize=SMALL_SIZE)  # fontsize of the figure title"
      ],
      "execution_count": 30,
      "outputs": []
    },
    {
      "cell_type": "code",
      "metadata": {
        "id": "1lf_iMdDtkH0"
      },
      "source": [
        "# @title Loading Animal Faces data\n",
        "%%capture\n",
        "!rm -r AnimalFaces32x32/\n",
        "!git clone https://github.com/arashash/AnimalFaces32x32\n",
        "!rm -r afhq/\n",
        "!unzip ./AnimalFaces32x32/afhq_32x32.zip"
      ],
      "execution_count": 31,
      "outputs": []
    },
    {
      "cell_type": "code",
      "metadata": {
        "id": "mvhx88j7e6m2"
      },
      "source": [
        "# @title Loading Animal Faces Randomized data\n",
        "%%capture\n",
        "!rm -r Animal_faces_random/\n",
        "!git clone https://github.com/Ravi3191/Animal_faces_random.git\n",
        "!rm -r afhq_random_32x32/\n",
        "!unzip ./Animal_faces_random/afhq_random_32x32.zip\n",
        "!rm -r afhq_10_32x32/\n",
        "!unzip ./Animal_faces_random/afhq_10_32x32.zip"
      ],
      "execution_count": 32,
      "outputs": []
    },
    {
      "cell_type": "code",
      "metadata": {
        "id": "RMuvvw3VHm1Z"
      },
      "source": [
        "#@title Seeding for Reproducibility\n",
        "seed = 90108\n",
        "random.seed(seed)\n",
        "np.random.seed(seed)\n",
        "torch.manual_seed(seed)\n",
        "torch.cuda.manual_seed(seed)\n",
        "torch.cuda.manual_seed_all(seed)\n",
        "torch.backends.cudnn.deterministic = True\n",
        "torch.backends.cudnn.benchmark = False\n",
        "torch.backends.cudnn.enabled = False\n",
        "torch.set_deterministic(True)\n",
        "def seed_worker(worker_id):\n",
        "    worker_seed = seed % (worker_id+1)\n",
        "    np.random.seed(worker_seed)\n",
        "    random.seed(worker_seed)"
      ],
      "execution_count": null,
      "outputs": []
    },
    {
      "cell_type": "code",
      "metadata": {
        "id": "RxCVV-2yt-GX"
      },
      "source": [
        "# @title Helper functions\n",
        "def imshow(img):\n",
        "    img = img / 2 + 0.5     # unnormalize\n",
        "    npimg = img.numpy()\n",
        "    plt.imshow(np.transpose(npimg, (1, 2, 0)))\n",
        "    plt.axis(False)\n",
        "    plt.show()"
      ],
      "execution_count": null,
      "outputs": []
    },
    {
      "cell_type": "markdown",
      "metadata": {
        "id": "RSaZl2xSdALk"
      },
      "source": [
        "Now, lets define a Animal Net model, train, test and main functions which we will use quite frequently this week."
      ]
    },
    {
      "cell_type": "code",
      "metadata": {
        "id": "QSfEJun00dwZ"
      },
      "source": [
        "##Network Class - Animal Faces\n",
        "class Animal_Net(nn.Module):\n",
        "    def __init__(self):\n",
        "        torch.manual_seed(104)\n",
        "        super(Animal_Net, self).__init__()\n",
        "        self.fc1 = nn.Linear(3*32*32, 128)\n",
        "        self.fc2 = nn.Linear(128, 32)\n",
        "        self.fc3 = nn.Linear(32, 3)\n",
        "\n",
        "    def forward(self, x):\n",
        "        x = x.view(x.shape[0],-1)\n",
        "        x = F.relu(self.fc1(x))\n",
        "        x = F.relu(self.fc2(x))\n",
        "        x = self.fc3(x)\n",
        "        output = F.log_softmax(x, dim=1)\n",
        "        return output"
      ],
      "execution_count": 35,
      "outputs": []
    },
    {
      "cell_type": "markdown",
      "metadata": {
        "id": "gXPoWJta6hs8"
      },
      "source": [
        "The train function takes in the current model along with the train_loader and loss function and updates the parameters for a single pass of the entire dataset. The test function takes in the current model after every epoch and calculates the accuracy on the test dataset.\n"
      ]
    },
    {
      "cell_type": "code",
      "metadata": {
        "id": "ovAQWp_GMfUa"
      },
      "source": [
        "def train(args, model, device, train_loader, optimizer, epoch,reg_function1=None,reg_function2=None,criterion=F.nll_loss):\n",
        "    \"\"\"\n",
        "    Trains the current inpur model using the data \n",
        "    from Train_loader and Updates parameters for a single pass\n",
        "    \"\"\"\n",
        "    model.train()\n",
        "    for batch_idx, (data, target) in enumerate(train_loader):\n",
        "        data, target = data.to(device), target.to(device)\n",
        "        optimizer.zero_grad()\n",
        "        output = model(data)\n",
        "        if reg_function1 is None:\n",
        "            loss = criterion(output, target)\n",
        "        elif reg_function2 is None:\n",
        "            loss = criterion(output, target)+args['lambda']*reg_function1(model)\n",
        "        else:\n",
        "            loss = criterion(output, target)+args['lambda1']*reg_function1(model)+args['lambda2']*reg_function2(model)\n",
        "        loss.backward()\n",
        "        optimizer.step()"
      ],
      "execution_count": 36,
      "outputs": []
    },
    {
      "cell_type": "code",
      "metadata": {
        "id": "-CwjQo-zMf71"
      },
      "source": [
        "def test(model, device, test_loader, loader = 'Test',criterion=F.nll_loss):\n",
        "    \"\"\"\n",
        "    Tests the current Model\n",
        "    \"\"\"\n",
        "    model.eval()\n",
        "    test_loss = 0\n",
        "    correct = 0\n",
        "    with torch.no_grad():\n",
        "        for data, target in test_loader:\n",
        "            data, target = data.to(device), target.to(device)\n",
        "            output = model(data)\n",
        "            test_loss += criterion(output, target, reduction='sum').item()  # sum up batch loss\n",
        "            pred = output.argmax(dim=1, keepdim=True)  # get the index of the max log-probability\n",
        "            correct += pred.eq(target.view_as(pred)).sum().item()\n",
        "\n",
        "    test_loss /= len(test_loader.dataset)\n",
        "    return 100. * correct / len(test_loader.dataset)"
      ],
      "execution_count": 37,
      "outputs": []
    },
    {
      "cell_type": "code",
      "metadata": {
        "id": "m6umnH-Znil7"
      },
      "source": [
        "def main(args, model,train_loader,val_loader,test_data,reg_function1=None,reg_function2=None,criterion=F.nll_loss):\n",
        "    \"\"\"\n",
        "    Trains the model with train_loader and tests the learned model using val_loader\n",
        "    \"\"\"\n",
        "\n",
        "    use_cuda = not args['no_cuda'] and torch.cuda.is_available()\n",
        "    device = torch.device('cuda' if use_cuda else 'cpu') \n",
        "\n",
        "    model = model.to(device)\n",
        "    optimizer = optim.SGD(model.parameters(), lr=args['lr'], momentum=args['momentum'])\n",
        "\n",
        "    val_acc_list, train_acc_list,param_norm_list = [], [], []\n",
        "    for epoch in tqdm(range(args['epochs'])):\n",
        "        train(args, model, device, train_loader, optimizer, epoch,reg_function1=reg_function1,reg_function2=reg_function2)\n",
        "        train_acc = test(model,device,train_loader, 'Train')\n",
        "        val_acc = test(model,device,val_loader, 'Val')\n",
        "        param_norm = calculate_frobenius_norm(model)\n",
        "        train_acc_list.append(train_acc)\n",
        "        val_acc_list.append(val_acc)\n",
        "        param_norm_list.append(param_norm)\n",
        "\n",
        "    return val_acc_list, train_acc_list, param_norm_list, model, 0"
      ],
      "execution_count": 38,
      "outputs": []
    },
    {
      "cell_type": "markdown",
      "metadata": {
        "id": "aAGlmnIjWrJ7"
      },
      "source": [
        "One way to think about Regularization is to think in terms of the magnitude of the overall weights of the model. A model with big weights can fit more data perfectly. Wheras a model with smaller weights tend to underperform on the train set but can suprisingly do very well on the test set. Too small of a weights can also be as issue an it can the underfit the model.\n",
        "\n",
        "This week we use the sum of Frobenius Norm of all the tensors in the model as a metric to measure the \"size of the model\".\n",
        "\n",
        "### Frobenius Norm\n",
        "Before we start let us do a quick recollection of Frobenius Norm. The Frobenius norm, sometimes also called the Euclidean norm (a term unfortunately also used for the vector $L^2$ norm), is matrix norm of an m×n matrix A defined as the square root of the sum of the absolute squares of its elements.\n",
        "\\begin{equation}\n",
        "||A||_F= \\sqrt(\\sum_{i=1}^m\\sum_{j=1}^n|a_{ij}|^2)\n",
        "\\end{equation} \n",
        "\n",
        "Let's implement this so we have it handy."
      ]
    },
    {
      "cell_type": "code",
      "metadata": {
        "colab": {
          "base_uri": "https://localhost:8080/"
        },
        "id": "8VzneV22OxbZ",
        "outputId": "0463a63c-5ba4-4d5a-c46c-2375e487afb9"
      },
      "source": [
        "def calculate_frobenius_norm(model):\n",
        "    norm = 0.0\n",
        "\n",
        "    # Sum all the parameters\n",
        "    for param in model.parameters():\n",
        "        norm += torch.sum(param**2)\n",
        "\n",
        "    # Take a square root of the sum of squares of all the parameters\n",
        "    norm = norm**0.5\n",
        "    return norm\n",
        "\n",
        "net = nn.Linear(10,1)\n",
        "print(f'Frobenius Norm of Single Linear Layer: {calculate_frobenius_norm(net)}')"
      ],
      "execution_count": 39,
      "outputs": [
        {
          "output_type": "stream",
          "text": [
            "Frobenius Norm of Single Linear Layer: 0.44787365198135376\n"
          ],
          "name": "stdout"
        }
      ]
    },
    {
      "cell_type": "markdown",
      "metadata": {
        "id": "ta2T4mGhQu5q"
      },
      "source": [
        "We use the sum of Frobenius Norm of all the tensors in the model as a metric to measure the \"size of the model\"."
      ]
    },
    {
      "cell_type": "markdown",
      "metadata": {
        "id": "5risoZLh-boy"
      },
      "source": [
        "## Overfitting and Memorization"
      ]
    },
    {
      "cell_type": "markdown",
      "metadata": {
        "id": "Rb_o51L8dw6w"
      },
      "source": [
        "Neural networks with a high number of parameters are prone to overfitting on the training data. Overfitting is when we have low bias and high variance - the model is able to model the training data well but generalises poorly.\n",
        "\n",
        "In principle, we should not touch our test set until after we have chosen all our hyperparameters. Were we to use the test data in the model selection process, there is a risk that we might overfit the test data. Then we would be in serious trouble. If we overfit our training data, there is always the evaluation on test data to keep us honest. But if we overfit the test data, how would we ever know?\n",
        "\n",
        "Note that there is another kind of overfitting: you do \"honest\" fitting on one set of images or posts, or medical records, but it may not generalize to other sets of images, posts or medical records.\n",
        "\n",
        "\n"
      ]
    },
    {
      "cell_type": "markdown",
      "metadata": {
        "id": "E_Y9eHGXe5-D"
      },
      "source": [
        "### Validation Dataset\n",
        "\n",
        "A common practice to address this problem is to split our data three ways, using a validation dataset (or validation set) to tune the hyperparameters.\n",
        "\n",
        "Ideally we would only touch the test data once, to assess the very best model or to compare a small number of models to each other, real-world test data is seldom discarded after just one use.\n",
        "\n"
      ]
    },
    {
      "cell_type": "markdown",
      "metadata": {
        "id": "uutJgdsFAk7Y"
      },
      "source": [
        "### Does a neural network memorize?\n",
        "\n",
        "Given sufficiently large networks and enough training, Neural Networks can acheive almost 100% train accuracy.\n",
        "\n",
        "In this section we train three MLP's one each on:\n",
        "\n",
        "\n",
        "1.   Animal Faces Dataset\n",
        "2.   Completely Noisy Dataset (Random Shuffling of all labels)\n",
        "3.   Partially Noisy Dataset (Random Shuffling of 15% labels)"
      ]
    },
    {
      "cell_type": "markdown",
      "metadata": {
        "id": "x4QhI5n_skGC"
      },
      "source": [
        "Now, let's create the required dataloaders for all the three datasets. Take a quick look at how we split the data. We train on a fraction of the dataset as it will be easier to train and also visualize overfitting."
      ]
    },
    {
      "cell_type": "code",
      "metadata": {
        "id": "QGBBuMD3vSvT"
      },
      "source": [
        "##Dataloaders for the Dataset\n",
        "batch_size = 128\n",
        "classes = ('cat', 'dog', 'wild')\n",
        "\n",
        "train_transform = transforms.Compose([\n",
        "     transforms.ToTensor(),\n",
        "     transforms.Normalize((0.5, 0.5, 0.5), (0.5, 0.5, 0.5))    \n",
        "     ])\n",
        "data_path = pathlib.Path('.')/'afhq' # using pathlib to be compatible with all OS's\n",
        "img_dataset = ImageFolder(data_path/'train', transform=train_transform)\n",
        "\n",
        "\n",
        "####################################################\n",
        "\n",
        "##Dataloaders for the  Original Dataset\n",
        "\n",
        "\n",
        "img_train_data, img_val_data,_ = torch.utils.data.random_split(img_dataset, [100,100,14430])\n",
        "\n",
        "#Creating train_loader and Val_loader\n",
        "train_loader = torch.utils.data.DataLoader(img_train_data,batch_size=batch_size,worker_init_fn=seed_worker)\n",
        "val_loader = torch.utils.data.DataLoader(img_val_data,batch_size=1000,worker_init_fn=seed_worker)\n",
        "\n",
        "#creating test dataset\n",
        "test_transform = transforms.Compose([\n",
        "     transforms.ToTensor(),\n",
        "     transforms.Normalize((0.5, 0.5, 0.5), (0.5, 0.5, 0.5))  \n",
        "     ])\n",
        "img_test_dataset = ImageFolder(data_path/'val', transform=test_transform)\n",
        "\n",
        "\n",
        "####################################################\n",
        "\n",
        "##Dataloaders for the  Random Dataset\n",
        "\n",
        "#splitting randomized data into training and validation data \n",
        "data_path = pathlib.Path('.')/'afhq_random_32x32/afhq_random' # using pathlib to be compatible with all OS's\n",
        "img_dataset = ImageFolder(data_path/'train', transform=train_transform)\n",
        "random_img_train_data, random_img_val_data,_ = torch.utils.data.random_split(img_dataset, [100,100,14430])\n",
        "\n",
        "#Randomized train and validation dataloader\n",
        "rand_train_loader = torch.utils.data.DataLoader(random_img_train_data,batch_size=batch_size,num_workers = 0, worker_init_fn=seed_worker)\n",
        "rand_val_loader = torch.utils.data.DataLoader(random_img_val_data,batch_size=1000,num_workers = 0,worker_init_fn=seed_worker)\n",
        "\n",
        "####################################################\n",
        "\n",
        "##Dataloaders for the Partially Random Dataset\n",
        "\n",
        "#Splitting data between training and validation dataset for partially randomized data\n",
        "data_path = pathlib.Path('.')/'afhq_10_32x32/afhq_10' # using pathlib to be compatible with all OS's\n",
        "img_dataset = ImageFolder(data_path/'train', transform=train_transform)\n",
        "partially_random_train_data, partially_random_val_data,_ = torch.utils.data.random_split(img_dataset, [100,100,14430])\n",
        "\n",
        "#Training and Validation loader for partially randomized data\n",
        "partial_rand_train_loader = torch.utils.data.DataLoader(partially_random_train_data,batch_size=batch_size,num_workers = 0,worker_init_fn=seed_worker)\n",
        "partial_rand_val_loader = torch.utils.data.DataLoader(partially_random_val_data,batch_size=1000,num_workers = 0,worker_init_fn=seed_worker)"
      ],
      "execution_count": 40,
      "outputs": []
    },
    {
      "cell_type": "markdown",
      "metadata": {
        "id": "iKu5dp7KgJIN"
      },
      "source": [
        "Now let's define a model which has a very high number of parameters when compared with the training data points and train it on all these datasets."
      ]
    },
    {
      "cell_type": "code",
      "metadata": {
        "id": "HQ9HSgxr-f3r"
      },
      "source": [
        "##Network Class - Animal Faces\n",
        "class Big_Animal_Net(nn.Module):\n",
        "    def __init__(self):\n",
        "        torch.manual_seed(104)\n",
        "        super(Big_Animal_Net, self).__init__()\n",
        "        self.fc1 = nn.Linear(3*32*32, 124)\n",
        "        self.fc2 = nn.Linear(124, 64)\n",
        "        self.fc3 = nn.Linear(64, 3)\n",
        "\n",
        "    def forward(self, x):\n",
        "        x = x.view(x.shape[0],-1)\n",
        "        x = F.leaky_relu(self.fc1(x))\n",
        "        x = F.leaky_relu(self.fc2(x))\n",
        "        x = self.fc3(x)\n",
        "        output = F.log_softmax(x, dim=1)\n",
        "        return output"
      ],
      "execution_count": 41,
      "outputs": []
    },
    {
      "cell_type": "code",
      "metadata": {
        "id": "Y75WnHUBOIvF"
      },
      "source": [
        "##Here we have 100 true train data.\n",
        "args = {'test_batch_size': 1000,\n",
        "        'epochs': 200,\n",
        "        'lr': 5e-3,\n",
        "        'momentum': 0.9,\n",
        "        'no_cuda': False,\n",
        "        }\n",
        "\n",
        "acc_dict = {}\n"
      ],
      "execution_count": 42,
      "outputs": []
    },
    {
      "cell_type": "code",
      "metadata": {
        "id": "fxNvmMraOKDx"
      },
      "source": [
        "model = Big_Animal_Net()"
      ],
      "execution_count": 43,
      "outputs": []
    },
    {
      "cell_type": "code",
      "metadata": {
        "id": "QrvUOxYBfRVG",
        "colab": {
          "base_uri": "https://localhost:8080/",
          "height": 510
        },
        "outputId": "1d149d5d-67d4-4a2e-ff05-9dce18350fe3"
      },
      "source": [
        "start_time = time.time()\n",
        "val_acc_pure, train_acc_pure, _, model ,_ = main(args,model,train_loader,val_loader,img_test_dataset)\n",
        "end_time = time.time()\n",
        "\n",
        "print(\"Time to memorize the dataset:\",end_time - start_time)\n",
        "\n",
        "##Train and Test accuracy plot\n",
        "\n",
        "plt.plot(val_acc_pure,label='Val Accuracy Pure',c='red',ls = 'dashed')\n",
        "plt.plot(train_acc_pure,label='Train Accuracy Pure',c='red',ls = 'solid')\n",
        "plt.axhline(y=max(val_acc_pure),c = 'green',ls = 'dashed')\n",
        "plt.title('Memorization')\n",
        "plt.ylabel('Accuracy (%)')\n",
        "plt.xlabel('Epoch')\n",
        "plt.legend()\n",
        "plt.show()"
      ],
      "execution_count": 44,
      "outputs": [
        {
          "output_type": "stream",
          "text": [
            "100%|██████████| 200/200 [00:18<00:00, 10.81it/s]\n"
          ],
          "name": "stderr"
        },
        {
          "output_type": "stream",
          "text": [
            "Time to memorize the dataset: 18.513160705566406\n"
          ],
          "name": "stdout"
        },
        {
          "output_type": "display_data",
          "data": {
            "image/png": "[encoded data removed]",
            "text/plain": [
              "<Figure size 640x480 with 1 Axes>"
            ]
          },
          "metadata": {
            "tags": [],
            "image/png": {
              "width": 579,
              "height": 459
            }
          }
        }
      ]
    },
    {
      "cell_type": "code",
      "metadata": {
        "id": "jW9z2IggZRKU"
      },
      "source": [
        "plt.plot(val_acc_pure,label='Val Accuracy Pure',c='red',ls = 'dashed')\n",
        "plt.plot(train_acc_pure,label='Train Accuracy Pure',c='red',ls = 'solid')\n",
        "plt.axhline(y=max(val_acc_pure),c = 'green',ls = 'dashed')\n",
        "plt.title('Memorization')\n",
        "plt.ylabel('Accuracy (%)')\n",
        "plt.xlabel('Epoch')\n",
        "plt.legend()\n",
        "plt.show()"
      ],
      "execution_count": null,
      "outputs": []
    },
    {
      "cell_type": "markdown",
      "metadata": {
        "id": "ERwLcdXb8TRw"
      },
      "source": [
        "### Data Visualizer\n",
        "Before we proceed to train the model on a data with random labels, let us visualize and verify for ourselves if the data is random or not. Here, we have classes = (\"cat\",\"dog\",\"wild\"). \n"
      ]
    },
    {
      "cell_type": "code",
      "metadata": {
        "id": "seeyR3dUFafW"
      },
      "source": [
        "def Visualize_data(dataloader):\n",
        "  \"\"\"\n",
        "    Inputs: Pytorch Dataloader\n",
        "    It visualizes the images in the dataset and the classes they belong to.\n",
        "  \"\"\"\n",
        "\n",
        "  for idx,(data,label) in enumerate(dataloader):\n",
        "\n",
        "    plt.figure(idx)\n",
        "    #Choose the datapoint you would like to visualize\n",
        "    index = 22\n",
        "    \n",
        "    #choose that datapoint using index and permute the dimensions and bring the pixel values between [0,1]\n",
        "    data = data[index].permute(1,2,0)* torch.tensor([0.5,0.5,0.5]) + torch.tensor([0.5,0.5,0.5])\n",
        "    \n",
        "    #Convert the torch tensor into numpy\n",
        "    data = data.numpy()\n",
        "    \n",
        "    plt.imshow(data)\n",
        "    image_class = classes[label[index].item()]\n",
        "    print(f'The image belongs to : {image_class}')\n",
        "\n",
        "  plt.show()\n",
        "Visualize_data(rand_train_loader)\n"
      ],
      "execution_count": null,
      "outputs": []
    },
    {
      "cell_type": "markdown",
      "metadata": {
        "id": "fgdM2MhQSkbp"
      },
      "source": [
        "We can see that the model is mixed up."
      ]
    },
    {
      "cell_type": "code",
      "metadata": {
        "id": "tE9wtARrg6nx"
      },
      "source": [
        "##Here we have 100 completely shuffled train data.\n",
        "args = {'epochs': 200,\n",
        "        'lr': 5e-3,\n",
        "        'momentum': 0.9,\n",
        "        'no_cuda': False\n",
        "        }\n",
        "\n",
        "acc_dict = {}\n",
        "model = Big_Animal_Net()\n",
        "\n",
        "\n",
        "val_acc_random, train_acc_random, _,model,_ = main(args,model,rand_train_loader,val_loader,img_test_dataset)\n",
        "\n",
        "##Train and Test accuracy plot\n",
        "\n",
        "plt.plot(val_acc_random,label='Val Accuracy random',c='red',ls = 'dashed')\n",
        "plt.plot(train_acc_random,label='Train Accuracy random',c='red',ls = 'solid')\n",
        "plt.axhline(y=max(val_acc_random),c = 'green',ls = 'dashed')\n",
        "plt.title('Memorization')\n",
        "plt.ylabel('Accuracy (%)')\n",
        "plt.xlabel('Epoch')\n",
        "plt.legend()\n",
        "plt.show()"
      ],
      "execution_count": null,
      "outputs": []
    },
    {
      "cell_type": "markdown",
      "metadata": {
        "id": "h9JAPoEWg1bp"
      },
      "source": [
        "Finally lets train on a parially shuffled dataset where 15% of the labels are noisy."
      ]
    },
    {
      "cell_type": "code",
      "metadata": {
        "id": "Cf0ovppPnrxs"
      },
      "source": [
        "##Here we have 100 partially shuffled train data.\n",
        "args = {'test_batch_size': 1000,\n",
        "        'epochs': 200,\n",
        "        'lr': 5e-3,\n",
        "        'momentum': 0.9,\n",
        "        'no_cuda': False,\n",
        "        }\n",
        "\n",
        "acc_dict = {}\n",
        "model = Big_Animal_Net()\n",
        "\n",
        "\n",
        "val_acc_shuffle, train_acc_shuffle, _,_,_ = main(args,model,partial_rand_train_loader,val_loader,img_test_dataset)\n",
        "\n",
        "#train and test acc plot\n",
        "plt.plot(val_acc_shuffle,label='Val Accuracy shuffle',c='red',ls = 'dashed')\n",
        "plt.plot(train_acc_shuffle,label='Train Accuracy shuffle',c='red',ls = 'solid')\n",
        "plt.axhline(y=max(val_acc_shuffle),c = 'green',ls = 'dashed')\n",
        "plt.title('Memorization')\n",
        "plt.ylabel('Accuracy (%)')\n",
        "plt.xlabel('Epoch')\n",
        "plt.legend()\n",
        "plt.show()"
      ],
      "execution_count": null,
      "outputs": []
    },
    {
      "cell_type": "code",
      "metadata": {
        "id": "ZCM3xI3DzJ0M"
      },
      "source": [
        "plt.plot(val_acc_pure,label='Val - Pure',c='red',ls = 'dashed')\n",
        "plt.plot(train_acc_pure,label='Train - Pure',c='red',ls = 'solid')\n",
        "plt.plot(val_acc_random,label='Val - Random',c='blue',ls = 'dashed')\n",
        "plt.plot(train_acc_random,label='Train - Random',c='blue',ls = 'solid')\n",
        "plt.plot(val_acc_shuffle,label='Val 15% shuffle',c='green',ls = 'dashed')\n",
        "plt.plot(train_acc_shuffle,label='Train 15% shuffle',c='green',ls = 'solid')\n",
        "plt.title('Memorization')\n",
        "plt.ylabel('Accuracy (%)')\n",
        "plt.xlabel('Epoch')\n",
        "plt.legend()\n",
        "plt.show()"
      ],
      "execution_count": null,
      "outputs": []
    },
    {
      "cell_type": "markdown",
      "metadata": {
        "id": "dSfURqxBwq97"
      },
      "source": [
        "Given that the NN fit/memorize the training data perfectly, Do you think it generalizes well? What makes you think it does or doesn't?\n"
      ]
    },
    {
      "cell_type": "markdown",
      "metadata": {
        "id": "mKhJ_nxdaK-7"
      },
      "source": [
        "Isn't it supprising to see that the NN was able to acheive 100% train accuracy on randomly shuffled labels. This is one of the reasons why training accuracy is not a good indicator of model performance. \n",
        "\n",
        "Also it is interesting to note that sometimes the model trained on slightly shuffled data does slightly better than the one trained on pure data.  "
      ]
    },
    {
      "cell_type": "markdown",
      "metadata": {
        "id": "lMLQYrOBII5a"
      },
      "source": [
        "##Early Stopping\n"
      ]
    },
    {
      "cell_type": "markdown",
      "metadata": {
        "id": "nV3jPkkgW7fN"
      },
      "source": [
        "\n",
        "Now that we have established that the validation accuracy reaches the peak well before the model overfits we want to somehow stop the training early. You should have also observed from the above plots that the train/test loss on real data is not very smooth and hence you might guess that the choice of epoch can play a very large role on the val/test accuracy of your model. \n",
        "\n",
        "Early stopping is a way to end training when the validation accuracies do not increase for over a certain number of epochs. Though this makes sure that we do not overfit on the train data we still haven't solved the problem of local variance. To overcome this we also save the best model based on the val loss/accuracy for use on test dataset.\n",
        "\n",
        "![Overfitting](https://images.deepai.org/glossary-terms/early-stopping-machine-learning-5422207.jpg)"
      ]
    },
    {
      "cell_type": "markdown",
      "metadata": {
        "id": "AEjIGMSiiAwQ"
      },
      "source": [
        "The following function figures out the epoch best suited for stopping early."
      ]
    },
    {
      "cell_type": "code",
      "metadata": {
        "id": "J7MjxZDTKgkz"
      },
      "source": [
        "def early_stopping_main(args,model,train_loader,val_loader,test_data):\n",
        "\n",
        "    \"\"\"\n",
        "        Inputs: \n",
        "            Model: Pytorch model\n",
        "            Loaders: Pytorch Train and Validation loaders\n",
        "        The function trains the model and terminates the training based on the early stopping criterion.\n",
        "    \"\"\"\n",
        "\n",
        "    use_cuda = not args['no_cuda'] and torch.cuda.is_available()\n",
        "    device = torch.device('cuda' if use_cuda else 'cpu')\n",
        "\n",
        "    model = model.to(device)\n",
        "    optimizer = optim.SGD(model.parameters(), lr=args['lr'], momentum=args['momentum'])\n",
        "\n",
        "    patience = 20\n",
        "    wait = 0\n",
        "\n",
        "    best_acc  = 0.0\n",
        "    best_epoch = 0\n",
        "\n",
        "    val_acc_list, train_acc_list = [], []\n",
        "    for epoch in tqdm(range(args['epochs'])):\n",
        "        train(args, model, device, train_loader, optimizer, epoch)\n",
        "        train_acc = test(model,device,train_loader, 'Train')\n",
        "        val_acc = test(model,device,val_loader, 'Val')\n",
        "        if (val_acc > best_acc):\n",
        "          best_acc = val_acc\n",
        "          best_epoch = epoch\n",
        "          best_model = copy.deepcopy(model)\n",
        "          wait = 0\n",
        "        else:\n",
        "          wait += 1\n",
        "        if (wait > patience):\n",
        "          print('early stopped on epoch:',epoch)\n",
        "          break\n",
        "        train_acc_list.append(train_acc)\n",
        "        val_acc_list.append(val_acc)\n",
        "\n",
        "    return val_acc_list, train_acc_list, best_model, best_epoch\n"
      ],
      "execution_count": null,
      "outputs": []
    },
    {
      "cell_type": "code",
      "metadata": {
        "id": "5Na0NM8Dzx5f"
      },
      "source": [
        "args = {'epochs': 200,\n",
        "        'lr': 5e-4,\n",
        "        'momentum': 0.99,\n",
        "        'no_cuda': False,\n",
        "        }\n",
        "\n",
        "acc_dict = {}\n",
        "model = Animal_Net()\n",
        "\n",
        "val_acc_pure, train_acc_pure,_,_ ,best_epoch = main(args,model,train_loader,val_loader,img_test_dataset)\n",
        "\n",
        "model = Animal_Net()\n",
        "val_acc_earlystop, train_acc_earlystop,_,best_epoch = early_stopping_main(args,model,train_loader,val_loader,img_test_dataset)\n",
        "\n",
        "print(\"Maximum Validation Accuracy is reached at epoch:%2d\"%(best_epoch))"
      ],
      "execution_count": null,
      "outputs": []
    },
    {
      "cell_type": "markdown",
      "metadata": {
        "id": "C3vFW5Af78sf"
      },
      "source": [
        "Do you think Early stopping can be harmful for the training of your network?Discuss among your pod why or why not?"
      ]
    },
    {
      "cell_type": "markdown",
      "metadata": {
        "id": "Zlj0-w2r-PIx"
      },
      "source": [
        "##L1/LASSO Regularization\n",
        "\n",
        "Some of you might have already come across L1 and L2 regularization before in other courses. L1 and L2 are the most common types of regularization. These update the general cost function by adding another term known as the regularization term.\n",
        "\n",
        "***Cost function = Loss (say, binary cross entropy) + Regularization term***\n",
        "\n",
        "Due to the addition of this regularization term, the values of parameters decrease because it assumes that a neural network with a lower parameter values leads to simpler models. Therefore, it will also reduce overfitting to quite an extent.\n",
        "\n"
      ]
    },
    {
      "cell_type": "markdown",
      "metadata": {
        "id": "m-TABViwyd7P"
      },
      "source": [
        "L1 Regularization uses a Regularization Function which is the sum of the absolute value of all the weights in DLN, resulting in the following loss function ( L  is the usual Cross Entropy loss):\n",
        "\n",
        "\\begin{equation}\n",
        "L_R=L+λ∑|w^{(r)}_{ij}|\n",
        "\\end{equation}\n",
        "\n",
        "At a high level L1 Regularization is similar to L2 Regularization since it leads to smaller weights (you will see the analogy in the next subsection). It results in the following weight update equation when using Stochastic Gradient Descent (where  sgn  is the sign function, such that  sgn(w)=+1  if  w>0 ,  sgn(w)=−1  if  $w<0$ , and sgn(0)=0 ):\n",
        "\n",
        "\\begin{equation}\n",
        "w^{(r)}_{ij}←w^{(r)}_{ij}−ηλsgn(w^{(r)}_{ij})−η\\frac{\\partial L}{\\partial w_{ij}^{r}} \n",
        "\\end{equation}\n",
        "\n",
        "In the code which follows we will create an unregularised model, a L1 model, L2 model, and an elastic model and compare the results."
      ]
    },
    {
      "cell_type": "markdown",
      "metadata": {
        "id": "zEHr7hyns-9K"
      },
      "source": [
        "##Unregularized Model"
      ]
    },
    {
      "cell_type": "code",
      "metadata": {
        "id": "2aIo8e8NQfWQ"
      },
      "source": [
        "# Dataloaders for Regularization\n",
        "\n",
        "data_path = pathlib.Path('.')/'afhq' # using pathlib to be compatible with all OS's\n",
        "img_dataset = ImageFolder(data_path/'train', transform=train_transform)\n",
        "\n",
        "#Splitting dataset\n",
        "reg_train_data, reg_val_data,_ = torch.utils.data.random_split(img_dataset, [30,100,14500])\n",
        "\n",
        "#Creating train_loader and Val_loader\n",
        "reg_train_loader = torch.utils.data.DataLoader(reg_train_data,batch_size=batch_size,worker_init_fn=seed_worker)\n",
        "reg_val_loader = torch.utils.data.DataLoader(reg_val_data,batch_size=1000,worker_init_fn=seed_worker)\n"
      ],
      "execution_count": 52,
      "outputs": []
    },
    {
      "cell_type": "markdown",
      "metadata": {
        "id": "ltJEADW-ou6H"
      },
      "source": [
        "Now let's train a model without any regularization and keep it aside as our bencmark for this section."
      ]
    },
    {
      "cell_type": "code",
      "metadata": {
        "id": "MM2k5L7QPrO4"
      },
      "source": [
        "args = {'epochs': 150,\n",
        "        'lr': 5e-3,\n",
        "        'momentum': 0.99,\n",
        "        'no_cuda': False,\n",
        "        }\n",
        "\n",
        "acc_dict = {}\n",
        "model = Animal_Net()\n",
        "\n",
        "val_acc_unreg, train_acc_unreg,param_norm_unreg,_ ,_ = main(args, model, reg_train_loader, reg_val_loader, img_test_dataset)\n",
        "\n",
        "##Train and Test accuracy plot\n",
        "\n",
        "plt.plot(val_acc_unreg,label='Val Accuracy',c='red',ls = 'dashed')\n",
        "plt.plot(train_acc_unreg,label='Train Accuracy',c='red',ls = 'solid')\n",
        "plt.axhline(y=max(val_acc_unreg),c = 'green',ls = 'dashed')\n",
        "plt.title('Unregularized Model')\n",
        "plt.ylabel('Accuracy (%)')\n",
        "plt.xlabel('Epoch')\n",
        "plt.legend()\n",
        "plt.show()\n",
        "print('maximum Validation Accuracy reached:%f'%max(val_acc_unreg))"
      ],
      "execution_count": null,
      "outputs": []
    },
    {
      "cell_type": "code",
      "metadata": {
        "id": "LFrTpy6juYIF"
      },
      "source": [
        "def l1_reg(model):\n",
        "  \"\"\"\n",
        "    Inputs: Pytorch model \n",
        "    This function calculates the l1 norm of the all the tensors in the model\n",
        "  \"\"\"\n",
        "  l1 = 0\n",
        "\n",
        "  for param in model.parameters():\n",
        "    l1 += torch.sum(torch.abs(param))\n",
        "\n",
        "  return l1\n"
      ],
      "execution_count": null,
      "outputs": []
    },
    {
      "cell_type": "code",
      "metadata": {
        "id": "1AdcEcthXlQA"
      },
      "source": [
        "\n",
        "net = nn.Linear(20,20)\n",
        "print(f'L1 norm of the model: {l1_reg(net)}')"
      ],
      "execution_count": null,
      "outputs": []
    },
    {
      "cell_type": "code",
      "metadata": {
        "id": "3BUOKB0D7oC4"
      },
      "source": [
        "# here is an example of model setting. But if you don't want to use their dataset, you may want to rewrite this part.\n",
        "class Animal_Net(nn.Module):\n",
        "    def __init__(self):\n",
        "        torch.manual_seed(104)\n",
        "        super(Animal_Net, self).__init__()\n",
        "        self.fc1 = nn.Linear(3*32*32, 128)\n",
        "        self.fc2 = nn.Linear(128, 32)\n",
        "        self.fc3 = nn.Linear(32, 3)\n",
        "\n",
        "    def forward(self, x):\n",
        "        x = x.view(x.shape[0],-1)\n",
        "        x = F.relu(self.fc1(x))\n",
        "        x = F.relu(self.fc2(x))\n",
        "        x = self.fc3(x)\n",
        "        output = F.log_softmax(x, dim=1)\n",
        "        return output"
      ],
      "execution_count": null,
      "outputs": []
    },
    {
      "cell_type": "markdown",
      "metadata": {
        "id": "Vt-kt7AqHe7j"
      },
      "source": [
        "## Lambda Parameter for Regularisation\n",
        "\n",
        "You can see below we have a new argument in the argument dict - the lambda value. This is the same lambda we saw in the L1 expression above, and we will see it again with the other regularisation methods. Lamda values often range from 0-5. We start with a value of 0.1, and the ideal way to identify the lambda value is to do a grid optimisation (i.e run it for various values and see what works best). 1 is considered a large lambda value, and often we search between [0.1, 0.2 ... 0.9, 1, 2, 5].\n",
        "\n",
        "Here is a useful Stackoverflow link with information related to the topic - [calculating lambda value](https://stackoverflow.com/questions/12182063/how-to-calculate-the-regularization-parameter-in-linear-regression)."
      ]
    },
    {
      "cell_type": "code",
      "metadata": {
        "id": "815wz2icujZa"
      },
      "source": [
        "args = {'epochs': 150,\n",
        "        'lr': 5e-3,\n",
        "        'momentum': 0.99,\n",
        "        'no_cuda': False,\n",
        "        'lambda': 0.1\n",
        "        }\n",
        "\n",
        "acc_dict = {}\n",
        "model = Animal_Net()\n",
        "\n",
        "val_acc_l1reg, train_acc_l1reg,param_norm_l1reg,_,_ = main(args, model, reg_train_loader, reg_val_loader, img_test_dataset, reg_function1=l1_reg)\n",
        "\n",
        "##Train and Test accuracy plot\n",
        "\n",
        "plt.plot(val_acc_l1reg,label='Val Accuracy L1 Regularized',c='red',ls = 'dashed')\n",
        "plt.plot(train_acc_l1reg,label='Train Accuracy L1 regularized',c='red',ls = 'solid')\n",
        "plt.axhline(y=max(val_acc_l1reg),c = 'green',ls = 'dashed')\n",
        "plt.title('L1 regularized model')\n",
        "plt.ylabel('Accuracy (%)')\n",
        "plt.xlabel('Epoch')\n",
        "plt.legend()\n",
        "plt.show()\n",
        "print('maximum Validation Accuracy reached:%f'%max(val_acc_l1reg))"
      ],
      "execution_count": null,
      "outputs": []
    },
    {
      "cell_type": "markdown",
      "metadata": {
        "id": "-HuDsreduuem"
      },
      "source": [
        "##L2 / Ridge Regularization"
      ]
    },
    {
      "cell_type": "markdown",
      "metadata": {
        "id": "ik7S1rjp3cIz"
      },
      "source": [
        "L2 Regularization is a commonly used technique in ML systems is also sometimes referred to as “Weight Decay”. It works by adding a quadratic term to the Cross Entropy Loss Function  L , called the Regularization Term, which results in a new Loss Function  LR  given by:\n",
        "\n",
        "\\begin{equation}\n",
        "LR=L+λ∑(w^{(r)}_{ij})^2\n",
        "\\end{equation}\n",
        "\n",
        "In order to get further insight into L2 Regularization, we investigate its effect on the Gradient Descent based update equations for the weight and bias parameters. Taking the derivative on both sides of the above equation, we obtain\n",
        "\n",
        "\\begin{equation}\n",
        "\\frac{\\partial L_r}{\\partial w^{(r)}_{ij}}=\\frac{\\partial L}{\\partial w^{(r)}_{ij}}+λw^{(r)}_{ij}\n",
        "\\end{equation}\n",
        "Thus the weight update rule becomes:\n",
        "\n",
        "\\begin{equation}\n",
        "w^{(r)}_{ij}←w^{(r)}_{ij}−η\\frac{\\partial L}{\\partial W^{(r)}_{ij}}−ηλw^{(r)}_{ij}=(1−ηλ)w^{(r)}_{ij}−η\\frac{\\partial L}{\\partial w^{(r)}_{ij}}\n",
        "\\end{equation}\n",
        "\n",
        "where, $\\eta$ is learning rate."
      ]
    },
    {
      "cell_type": "code",
      "metadata": {
        "id": "-9-4wP0puoPL"
      },
      "source": [
        "def l2_reg(model):\n",
        "\n",
        "  \"\"\"\n",
        "    Inputs: Pytorch model \n",
        "    This function calculates the l2 norm of the all the tensors in the model\n",
        "  \"\"\"\n",
        "\n",
        "  l2 = 0.0\n",
        "\n",
        "  for param in model.parameters():\n",
        "    l2 += torch.sum(torch.abs(param)**2)\n",
        "  \n",
        "  return l2\n",
        "\n",
        "net = nn.Linear(20,20)\n",
        "print(f'L2 norm of the model: {l2_reg(net)}')"
      ],
      "execution_count": null,
      "outputs": []
    },
    {
      "cell_type": "markdown",
      "metadata": {
        "id": "X2hYvxMTxarr"
      },
      "source": [
        "here they just run a L1 norm model and L2 norm model and see whether the accuracy increases (and visualize them)"
      ]
    },
    {
      "cell_type": "code",
      "metadata": {
        "id": "EOZrOIGlv8tv"
      },
      "source": [
        "args = {'test_batch_size': 1000,\n",
        "        'epochs': 150,\n",
        "        'lr': 5e-3,\n",
        "        'momentum': 0.99,\n",
        "        'no_cuda': False,\n",
        "        'lambda': 0.1\n",
        "        }\n",
        "\n",
        "acc_dict = {}\n",
        "model = Animal_Net()\n",
        "\n",
        "val_acc_l2reg, train_acc_l2reg,param_norm_l2reg,model ,_ = main(args,model,train_loader,val_loader,img_test_dataset,reg_function1=l2_reg)\n",
        "\n",
        "##Train and Test accuracy plot\n",
        "\n",
        "plt.plot(val_acc_l2reg,label='Val Accuracy L2 regularized',c='red',ls = 'dashed')\n",
        "plt.plot(train_acc_l2reg,label='Train Accuracy L2 regularized',c='red',ls = 'solid')\n",
        "plt.axhline(y=max(val_acc_l2reg),c = 'green',ls = 'dashed')\n",
        "plt.title('L2 Regularized Model')\n",
        "plt.ylabel('Accuracy (%)')\n",
        "plt.xlabel('Epoch')\n",
        "plt.legend()\n",
        "plt.show()\n",
        "print('maximum Validation Accuracy reached:%f'%max(val_acc_l2reg))"
      ],
      "execution_count": null,
      "outputs": []
    },
    {
      "cell_type": "markdown",
      "metadata": {
        "id": "GFz0QB0hd387"
      },
      "source": [
        "##L1+L2 / Elastic net regularization\n",
        "\n",
        "Elastic Net regularization uses both L1 and L2 weights for regression. The loss function becomes:\n",
        "\n",
        "\\begin{equation}\n",
        "LR=L+ λ_{1}∑|w^{(r)}_{ij}| + λ_{2}∑(w^{(r)}_{ij})^2\n",
        "\\end{equation}\n",
        "\n",
        "The weights update equation then becomes:\n",
        "\n",
        "\\begin{equation}\n",
        "w^{(r)}_{ij}←(1−ηλ_{2})w^{(r)}_{ij}−ηλ_{1}sgn(w^{(r)}_{ij})−η\\frac{\\partial L}{\\partial w_{ij}^{r}} \n",
        "\\end{equation}\n",
        "\n",
        "where, $\\eta$ is learning rate."
      ]
    },
    {
      "cell_type": "code",
      "metadata": {
        "id": "m1b-FPIjxlQN"
      },
      "source": [
        "args = {'epochs': 150,\n",
        "        'lr': 5e-3,\n",
        "        'momentum': 0.99,\n",
        "        'no_cuda': False,\n",
        "        'lambda1':0.1,\n",
        "        'lambda2':0.1\n",
        "        }\n",
        "\n",
        "acc_dict = {}\n",
        "model = Animal_Net()\n",
        "\n",
        "val_acc_l1l2reg, train_acc_l1l2reg,param_norm_l1l2reg,model ,_ = main(args,model,train_loader,val_loader,img_test_dataset,reg_function1=l1_reg,reg_function2=l2_reg)\n",
        "\n",
        "##Train and Test accuracy plot\n",
        "\n",
        "plt.plot(val_acc_l1l2reg,label='Val L1+L2',c='red',ls = 'dashed')\n",
        "plt.plot(train_acc_l1l2reg,label='Train L1+L2',c='red',ls = 'solid')\n",
        "plt.axhline(y=max(val_acc_l1l2reg),c = 'green',ls = 'dashed')\n",
        "plt.title('L1+L2 Regularized Model')\n",
        "plt.ylabel('Accuracy (%)')\n",
        "plt.xlabel('Epoch')\n",
        "plt.legend()\n",
        "plt.show()\n",
        "print('maximum Validation Accuracy reached:%f'%max(val_acc_l1l2reg))"
      ],
      "execution_count": null,
      "outputs": []
    },
    {
      "cell_type": "code",
      "metadata": {
        "id": "TZ5KKRPiEXxQ"
      },
      "source": [
        "plt.plot(val_acc_l2reg,c='red',ls = 'dashed')\n",
        "plt.plot(train_acc_l2reg,label='L2 regularized',c='red',ls = 'solid')\n",
        "plt.axhline(y=max(val_acc_l2reg),c = 'red',ls = 'dashed')\n",
        "plt.plot(val_acc_l1reg,c='green',ls = 'dashed')\n",
        "plt.plot(train_acc_l1reg,label='L1 regularized',c='green',ls = 'solid')\n",
        "plt.axhline(y=max(val_acc_l1reg),c = 'green',ls = 'dashed')\n",
        "plt.plot(val_acc_unreg,c='blue',ls = 'dashed')\n",
        "plt.plot(train_acc_unreg,label='Unregularized',c='blue',ls = 'solid')\n",
        "plt.axhline(y=max(val_acc_unreg),c = 'blue',ls = 'dashed')\n",
        "plt.plot(val_acc_l1l2reg,c='orange',ls = 'dashed')\n",
        "plt.plot(train_acc_l1l2reg,label='L1+L2 regularized',c='orange',ls = 'solid')\n",
        "plt.axhline(y=max(val_acc_l1l2reg),c = 'orange',ls = 'dashed')\n",
        "\n",
        "plt.title('Unregularized Vs L1-Regularized vs L2-regularized Vs L1+L2 regularized')\n",
        "plt.xlabel('epoch')\n",
        "plt.ylabel('Accuracy(%)')\n",
        "plt.legend()\n",
        "plt.show()"
      ],
      "execution_count": null,
      "outputs": []
    },
    {
      "cell_type": "markdown",
      "metadata": {
        "id": "XdSHj2USHVqv"
      },
      "source": [
        "### Alternative way to implement Regularisation in PyTorch\n",
        "\n",
        "It is also possible to set up L2 regularisation (weight decay) by just using the ```weight_decay``` parameter in your optimisation method. Link to [optimisers documentation](https://pytorch.org/docs/stable/optim.html#torch.optim.Adam), and [discussion on L1 and L2 implementations on stackoverflow](https://stackoverflow.com/questions/42704283/adding-l1-l2-regularization-in-pytorch).\n",
        "\n",
        "### Regularisation with Keras\n",
        "\n",
        "[Keras documentation for layer regularizers](https://keras.io/api/layers/regularizers/)\n",
        "\n",
        "[How to use weight decay (L2 reg) with Keras](https://machinelearningmastery.com/how-to-reduce-overfitting-in-deep-learning-with-weight-regularization/)"
      ]
    },
    {
      "cell_type": "markdown",
      "metadata": {
        "id": "FifeU3xZ2h0k"
      },
      "source": [
        "## Dropout\n"
      ]
    },
    {
      "cell_type": "markdown",
      "metadata": {
        "id": "KBK9lE8P7WOd"
      },
      "source": [
        "### Dropout Implementation Caveats: "
      ]
    },
    {
      "cell_type": "markdown",
      "metadata": {
        "id": "BwVYGYd57lVm"
      },
      "source": [
        "\n",
        "*  Dropout is used only during training, during testing the complete model weights are used and hence it is important to use model.eval() before testing the model. \n",
        "\n",
        "* Dropout reduces the capacity of the model during training and hence as a general practice wider networks are used when using dropout. If you are using a dropout with a random probability of 0.5 then you might want to double the number of hidden neurons in that layer."
      ]
    },
    {
      "cell_type": "markdown",
      "metadata": {
        "id": "m1WEkOApU_oo"
      },
      "source": [
        "Now, lets see how Dropout fares on the Animal Faces Dataset. We first modify the existing model to include dropouts and then train the model."
      ]
    },
    {
      "cell_type": "code",
      "metadata": {
        "id": "46FM-qNM4q3-"
      },
      "source": [
        "##Network Class - Animal Faces\n",
        "class Animal_Net_Dropout(nn.Module):\n",
        "    def __init__(self):\n",
        "        torch.manual_seed(32)\n",
        "        super(Animal_Net_Dropout, self).__init__()\n",
        "        self.fc1 = nn.Linear(3*32*32, 248)\n",
        "        self.fc2 = nn.Linear(248, 210)\n",
        "        self.fc3 = nn.Linear(210, 3)\n",
        "        self.dropout1 = nn.Dropout(p = 0.5)\n",
        "        self.dropout2 = nn.Dropout(p = 0.3)\n",
        "\n",
        "    def forward(self, x):\n",
        "        x = x.view(x.shape[0],-1)\n",
        "        x = F.leaky_relu(self.dropout1(self.fc1(x)))\n",
        "        x =F.leaky_relu(self.dropout2(self.fc2(x)))\n",
        "        x = self.fc3(x)\n",
        "        output = F.log_softmax(x, dim=1)\n",
        "        return output"
      ],
      "execution_count": null,
      "outputs": []
    },
    {
      "cell_type": "code",
      "metadata": {
        "id": "0qYd11zF4mr_"
      },
      "source": [
        "args = {'test_batch_size': 1000,\n",
        "        'epochs': 200,\n",
        "        'lr': 5e-3,\n",
        "        'batch_size': 32,\n",
        "        'momentum': 0.9,\n",
        "        'no_cuda': False,\n",
        "        'seed': 1,\n",
        "        'log_interval': 100\n",
        "        }\n",
        "\n",
        "acc_dict = {}\n",
        "model = Animal_Net_Dropout()\n",
        "\n",
        "val_acc_dropout, train_acc_dropout, _, model ,_ = main(args,model,train_loader,val_loader,img_test_dataset)\n",
        "\n",
        "##Train and Test accuracy plot\n",
        "\n",
        "plt.plot(val_acc_pure,label='Val',c='blue',ls = 'dashed')\n",
        "plt.plot(train_acc_pure,label='Train',c='blue',ls = 'solid')\n",
        "plt.plot(val_acc_dropout,label='Val - DP',c='red',ls = 'dashed')\n",
        "plt.plot(train_acc_dropout,label='Train - DP',c='red',ls = 'solid')\n",
        "plt.title('Dropout')\n",
        "plt.ylabel('Accuracy (%)')\n",
        "plt.xlabel('Epoch')\n",
        "plt.legend()\n",
        "plt.show()"
      ],
      "execution_count": null,
      "outputs": []
    },
    {
      "cell_type": "markdown",
      "metadata": {
        "id": "QYf2EW344KeD"
      },
      "source": [
        "When do you think dropouts can perform bad and do you think their placement within a model matters?"
      ]
    },
    {
      "cell_type": "markdown",
      "metadata": {
        "id": "Mb-vmSymLVSE"
      },
      "source": [
        "### Dropout for Keras\n",
        "\n",
        "We saw in the last tutorial how we can use dropout for Keras - similar to PyTorch, it is just adding a layer in your model.\n",
        "\n",
        "[Keras Documentation](https://keras.io/api/layers/regularization_layers/dropout)\n",
        "\n",
        "[Blog post on Dropout with Keras](https://machinelearningmastery.com/dropout-regularization-deep-learning-models-keras/)"
      ]
    },
    {
      "cell_type": "markdown",
      "metadata": {
        "id": "l2uz-1Yw85Qb"
      },
      "source": [
        "## Data Augmentation\n"
      ]
    },
    {
      "cell_type": "markdown",
      "metadata": {
        "id": "_AIkE-h63IlZ"
      },
      "source": [
        "We will explore the effects of Data Augmentation on regularization. Here regularization is acheived by adding noise into training data after every epoch.\n",
        "\n",
        "Pytorch's torchvision module provides a few inbuilt data augmentation techniques which we can use on image datasets. Some of the techniques we most frequently use are:\n",
        "\n",
        "\n",
        "*   Random Crop\n",
        "*   Random Rotate\n",
        "*   Vertical Flip\n",
        "*   Horizontal Flip\n",
        "\n"
      ]
    },
    {
      "cell_type": "code",
      "metadata": {
        "id": "xX7jk4FEbbU3"
      },
      "source": [
        "##Data Augmentation using transforms\n",
        "new_transforms = transforms.Compose([\n",
        "                                     transforms.RandomHorizontalFlip(p=0.1),\n",
        "                                     transforms.RandomVerticalFlip(p=0.1),\n",
        "                                     transforms.ToTensor(),\n",
        "                                     transforms.Normalize((0.5,0.5,0.5),(0.5,0.5,0.5))\n",
        "])\n",
        "\n",
        "data_path = pathlib.Path('.')/'afhq' # using pathlib to be compatible with all OS's\n",
        "img_dataset = ImageFolder(data_path/'train', transform=new_transforms)\n",
        "#Splitting dataset\n",
        "new_train_data, _,_ = torch.utils.data.random_split(img_dataset, [250,100,14280])\n",
        "\n",
        "#Creating train_loader and Val_loader\n",
        "new_train_loader = torch.utils.data.DataLoader(new_train_data,batch_size=batch_size,worker_init_fn=seed_worker)"
      ],
      "execution_count": null,
      "outputs": []
    },
    {
      "cell_type": "code",
      "metadata": {
        "id": "sHm_wRhw1pqM"
      },
      "source": [
        "args = {'epochs': 250,\n",
        "        'lr': 1e-3,\n",
        "        'momentum': 0.99,\n",
        "        'no_cuda': False,\n",
        "        }\n",
        "\n"
      ],
      "execution_count": null,
      "outputs": []
    },
    {
      "cell_type": "code",
      "metadata": {
        "id": "6cW8KjkpvnqS"
      },
      "source": [
        "\n",
        "acc_dict = {}\n",
        "model = Animal_Net()\n",
        "\n",
        "val_acc_dataaug, train_acc_dataaug, param_norm_datadug, _ ,_ = main(args,model,new_train_loader,val_loader,img_test_dataset)\n",
        "model = Animal_Net()\n",
        "val_acc_pure, train_acc_pure, param_norm_pure,_,_ = main(args,model,train_loader,val_loader,img_test_dataset)\n",
        "\n",
        "\n",
        "##Train and Test accuracy plot\n",
        "\n",
        "plt.plot(val_acc_pure,label='Val Accuracy Pure',c='red',ls = 'dashed')\n",
        "plt.plot(train_acc_pure,label='Train Accuracy Pure',c='red',ls = 'solid')\n",
        "\n",
        "plt.plot(val_acc_dataaug,label='Val Accuracy data augment',c='blue',ls = 'dashed')\n",
        "plt.plot(train_acc_dataaug,label='Train Accuracy data augment',c='blue',ls = 'solid')\n",
        "plt.axhline(y=max(val_acc_pure),c = 'red',ls = 'dashed')\n",
        "plt.axhline(y=max(val_acc_dataaug),c = 'blue',ls = 'dashed')\n",
        "plt.title('Data Augmentation')\n",
        "plt.ylabel('Accuracy (%)')\n",
        "plt.xlabel('Epoch')\n",
        "plt.legend()\n",
        "plt.show()"
      ],
      "execution_count": null,
      "outputs": []
    },
    {
      "cell_type": "code",
      "metadata": {
        "id": "vnjS44wuL493"
      },
      "source": [
        "plt.plot(param_norm_pure,c='red',label = 'Without Augmentation')\n",
        "plt.plot(param_norm_datadug,c='blue',label='With Augmentation')\n",
        "plt.title('Norm of parameters as a function of training epoch')\n",
        "plt.xlabel('epoch')\n",
        "plt.ylabel('Norm of model parameters')\n",
        "plt.legend()\n",
        "plt.show()"
      ],
      "execution_count": null,
      "outputs": []
    },
    {
      "cell_type": "markdown",
      "metadata": {
        "id": "fTZg4iS-bMGI"
      },
      "source": [
        "### Data Augmentation for Keras\n",
        "\n",
        "MixUp augmentation for image classification - https://keras.io/examples/vision/mixup/"
      ]
    },
    {
      "cell_type": "markdown",
      "metadata": {
        "id": "OySRfKnQGbhW"
      },
      "source": [
        "## Batch Size\n",
        "Batch size, in some cases, can also help in regularizing the models. Lower batch size leads to a noisy convergence and hence helps in converging to a broader local minima. Whereas, higher batch size lead to a smoother convergence thereby converging easily to a  deeper local minima.  This can be good or bad.\n",
        "\n",
        "In the below blcok we will train the Animal Net model with different batch sizes and see how that is going to affect the regularization performance."
      ]
    },
    {
      "cell_type": "code",
      "metadata": {
        "cellView": "form",
        "id": "eBKF6O4KMUpr"
      },
      "source": [
        "#@title Dataset for Batch_size\n",
        "data_path = pathlib.Path('.')/'afhq' # using pathlib to be compatible with all OS's\n",
        "img_dataset = ImageFolder(data_path/'train', transform=train_transform)\n",
        "\n",
        "#Splitting dataset\n",
        "reg_train_data, reg_val_data,_ = torch.utils.data.random_split(img_dataset, [250,100,14280])\n"
      ],
      "execution_count": null,
      "outputs": []
    },
    {
      "cell_type": "code",
      "metadata": {
        "id": "rQbO03j8GjUX"
      },
      "source": [
        "args = {'lr': 5e-3,\n",
        "        'epochs': 60,\n",
        "        'momentum': 0.99,\n",
        "        'no_cuda': False\n",
        "        }\n",
        "\n",
        "batch_sizes = [32,64,128]\n",
        "acc_dict = {}\n",
        "\n",
        "for i in range(len(batch_sizes)):\n",
        "    model = Animal_Net()\n",
        "    #Creating train_loader and Val_loader\n",
        "    reg_train_loader = torch.utils.data.DataLoader(reg_train_data,batch_size=batch_sizes[i],worker_init_fn=seed_worker)\n",
        "    reg_val_loader = torch.utils.data.DataLoader(reg_val_data,batch_size=1000,worker_init_fn=seed_worker)\n",
        "    val_acc, train_acc,param_norm,_,_ = main(args,model,reg_train_loader,reg_val_loader,img_test_dataset)\n",
        "    acc_dict['train_'+str(i)] = train_acc\n",
        "    acc_dict['val_'+str(i)] = val_acc\n",
        "    acc_dict['param_norm'+str(i)] = param_norm"
      ],
      "execution_count": null,
      "outputs": []
    },
    {
      "cell_type": "code",
      "metadata": {
        "id": "ifx1rCTiG-tW"
      },
      "source": [
        "#Plot Train and Val curves\n",
        "plt.plot(acc_dict['train_0'], label='mb_size =' + str(batch_sizes[0]), c = 'blue')\n",
        "plt.plot(acc_dict['val_0'], linestyle='dashed', c = 'blue')\n",
        "\n",
        "plt.plot(acc_dict['train_1'], label='mb_size =' + str(batch_sizes[1]), c = 'orange')\n",
        "plt.plot(acc_dict['val_1'], linestyle='dashed', c = 'orange')\n",
        "plt.plot(acc_dict['train_2'], label='mb_size =' + str(batch_sizes[2]), c = 'green')\n",
        "plt.plot(acc_dict['val_2'], linestyle='dashed', c = 'green')\n",
        "print('maximum accuracy for mini batchsize = 32: '+str(max(acc_dict['val_0'])))\n",
        "print('maximum accuracy for mini batchsize = 64: '+str(max(acc_dict['val_1'])))\n",
        "print('maximum accuracy for mini batchsize = 128: '+str(max(acc_dict['val_2'])))\n",
        "\n",
        "plt.title('Optimal Batch Size')\n",
        "plt.ylabel('Accuracy (%)')\n",
        "plt.xlabel('Epoch (Sec)')\n",
        "plt.legend()\n",
        "plt.show()"
      ],
      "execution_count": null,
      "outputs": []
    },
    {
      "cell_type": "code",
      "metadata": {
        "id": "S6Kp_jf37nnS"
      },
      "source": [
        "# Plot Parametric Norms\n",
        "plt.plot(acc_dict['param_norm0'],c='blue',label='mb_size =' + str(batch_sizes[0]))\n",
        "plt.plot(acc_dict['param_norm1'],c='orange',label='mb_size =' + str(batch_sizes[1]))\n",
        "plt.plot(acc_dict['param_norm2'],c='green',label='mb_size =' + str(batch_sizes[2]))\n",
        "plt.xlabel('epoch')\n",
        "plt.ylabel('Parameter Norm')\n",
        "plt.legend()\n",
        "plt.show()\n",
        "plt.show()"
      ],
      "execution_count": null,
      "outputs": []
    },
    {
      "cell_type": "markdown",
      "metadata": {
        "id": "l_Sbvul0O9AP"
      },
      "source": [
        "Here what observation can you make for different batch size. Why do you think this is happening?"
      ]
    },
    {
      "cell_type": "markdown",
      "metadata": {
        "id": "B5MCqOKVOF4x"
      },
      "source": [
        "## Pruning\n",
        "\n",
        "Google is known for training very big language models and recently it trained a [trillion paramter](https://thenextweb.com/neural/2021/01/13/googles-new-trillion-parameter-ai-language-model-is-almost-6-times-bigger-than-gpt-3/) model. This is almost 1.2e6 times bigger than the models we have been training. So it is sufficient to say that these big models need intense compute power to train while also becomeing harder to deploy and get real time inference on smaller micro - proccesors. \n",
        "\n",
        "This is where regularization and pruning come in very handy. Until now you should have noticed that the Frobenious norm of the regularized models that we trained tend to be smaller than those of unregualrized models. This indicates that the regualarization is shrinking the weights (making the model sparser) while improving the test performance. \n",
        "\n",
        "While methods like L1 regulartization promote implicit sparsity, in pruning we explicitly set a few weights of the trained model to zero and then retrain the model to adjust the other weights. This reduces the memory consumption, improves inference and helps the planet :)\n",
        "\n",
        "One of the most common methods of pruning a NN is to zero out a certain percentage of parameters based on their L1 norm. We don't actually remove the parameters because that makes forward computations difficult.\n",
        "\n",
        "Luckily we have Pytorch's torch.nn.utils.prune methods to play around and test pruning.\n"
      ]
    },
    {
      "cell_type": "code",
      "metadata": {
        "id": "OuXT6_dGOffv"
      },
      "source": [
        "def prune_l1_unstructured(model,prune_percent_weight,prune_percent_bias = 0):\n",
        "\n",
        "    for name, module in model.named_modules():\n",
        "        if isinstance(module, torch.nn.Conv2d) or isinstance(module, torch.nn.Linear):\n",
        "            prune.l1_unstructured(module, name='weight', amount=prune_percent_weight)\n",
        "            prune.l1_unstructured(module, name='bias', amount=prune_percent_bias)\n",
        "\n",
        "            print(\n",
        "                \"Sparsity in {}: {:.2f}%\".format(name,\n",
        "                    100. * float(torch.sum(module.weight == 0))\n",
        "                    / float(module.weight.nelement())\n",
        "                )\n",
        "            )\n",
        "\n"
      ],
      "execution_count": null,
      "outputs": []
    },
    {
      "cell_type": "code",
      "metadata": {
        "id": "zliK5QbzOj4B"
      },
      "source": [
        "##uncomment to run the test\n",
        "test_model = Animal_Net()\n",
        "prune_percent = 0.15\n",
        "prune_l1_unstructured(test_model,0.15)\n"
      ],
      "execution_count": null,
      "outputs": []
    },
    {
      "cell_type": "code",
      "metadata": {
        "id": "LkLl7xqhOnT_"
      },
      "source": [
        "args = {'test_batch_size': 1000,\n",
        "        'epochs': 200,\n",
        "        'lr': 5e-3,\n",
        "        'momentum': 0.9,\n",
        "        'no_cuda': False\n",
        "        }\n",
        "\n",
        "acc_dict = {}\n",
        "model = Big_Animal_Net()\n",
        "prune_percent = 0.5\n",
        "\n",
        "print(\"Training a randomly initialized model\")\n",
        "val_acc, train_acc, _, trained_model ,_ = main(args,model,train_loader,val_loader,img_test_dataset)\n",
        "\n",
        "##pruning a model\n",
        "print('Pruning and verifying and model:')\n",
        "prune_l1_unstructured(trained_model,prune_percent)\n",
        "\n",
        "#training the pruned model\n",
        "print(\"Training a pruned model\")\n",
        "val_acc_prune, train_acc_prune, _, pruned_model ,_ = main(args,trained_model.to('cpu'),train_loader,val_loader,img_test_dataset)\n",
        "\n",
        "val_acc_prune = [val_acc_prune[0]]*args['epochs'] + val_acc_prune\n",
        "train_acc_prune = [train_acc_prune[0]]*args['epochs'] + train_acc_prune\n",
        "plt.plot(val_acc,label='Val',c='blue',ls = 'dashed')\n",
        "plt.plot(train_acc,label='Train',c='blue',ls = 'solid')\n",
        "plt.plot(val_acc_prune,label='Val Prune',c='red',ls = 'dashed')\n",
        "plt.plot(train_acc_prune,label='Train Prune',c='red',ls = 'solid')\n",
        "plt.title('Pruning')\n",
        "plt.ylabel('Accuracy (%)')\n",
        "plt.xlabel('Epoch')\n",
        "plt.legend()\n",
        "plt.show()"
      ],
      "execution_count": null,
      "outputs": []
    },
    {
      "cell_type": "markdown",
      "metadata": {
        "id": "HUVBxu7qOq0K"
      },
      "source": [
        "Now change the prune_percent and report the percentage at which the model underfits. Let us say you create a new model with number of parameters equal to the number of parameters left after pruning. Do you think this model will work as good as the model which get after pruning the larger network? In the above pruning technique after pruning the network, how do you think the performance of the will change if we re-initialize the weights while maintaing the prune mask?\n",
        "\n",
        "### Pruning in Keras\n",
        "\n",
        "https://www.tensorflow.org/model_optimization/guide/pruning/pruning_with_keras"
      ]
    },
    {
      "cell_type": "markdown",
      "metadata": {
        "id": "E8ILhtBu6Ivq"
      },
      "source": [
        "## Lottery Tickets\n",
        "\n",
        "\n",
        "The lottery ticket hypothesis claims that \" A dense randomly initialized NN contains a subnetwork that is initialzed such that when trained in isolation it can match the test accuracy of the original network after training for at most same number of iterations\" i.e. a pruned model when reinitialized with the same weights will can match the test accuracy of the denser model. If the initialization changes the accuracy match is no longer guaranteed.\n",
        "\n",
        "Here we train the following networks:\n",
        "\n",
        "An unregularized model with Xavier initialization of weights for 200 epochs\n",
        "A Pruned model with the weights reinitialized to the random values.\n",
        "A pruned model with weights initialized with same Xavier Initialization as unregularized model."
      ]
    },
    {
      "cell_type": "code",
      "metadata": {
        "id": "pPLz-Jj2O7cz"
      },
      "source": [
        "args = {'test_batch_size': 1000,\n",
        "        'epochs': 200,\n",
        "        'lr': 1e-3,\n",
        "        'momentum': 0.9,\n",
        "        'no_cuda': False,\n",
        "        }\n",
        "\n",
        "acc_dict = {}\n",
        "init_model = Big_Animal_Net()\n",
        "xavier_model = Big_Animal_Net()\n",
        "prune_percent = 0.4\n"
      ],
      "execution_count": null,
      "outputs": []
    },
    {
      "cell_type": "code",
      "metadata": {
        "id": "KD0AqEjoO-Gj"
      },
      "source": [
        "#Xavier Initilaization for one of the two models\n",
        "for name, module in xavier_model.named_modules():\n",
        "    if isinstance(module, torch.nn.Conv2d) or isinstance(module, torch.nn.Linear):\n",
        "        torch.nn.init.xavier_uniform_(module.weight)\n",
        "\n",
        "print('Training the full model')\n",
        "val_acc, train_acc, _, trained_model ,_ = main(args,copy.deepcopy(xavier_model),train_loader,val_loader,img_test_dataset)"
      ],
      "execution_count": null,
      "outputs": []
    },
    {
      "cell_type": "code",
      "metadata": {
        "id": "TGRy_PGzPCm6"
      },
      "source": [
        "#prune the trained model\n",
        "prune_l1_unstructured(trained_model,prune_percent)"
      ],
      "execution_count": null,
      "outputs": []
    },
    {
      "cell_type": "code",
      "metadata": {
        "id": "6npVi9Q5PHVi"
      },
      "source": [
        "#initialize masks for the initialzed model and xavier model\n",
        "for name, module in init_model.named_modules():\n",
        "    if isinstance(module, torch.nn.Conv2d) or isinstance(module, torch.nn.Linear):\n",
        "        prune.identity(module, name='weight')\n",
        "        prune.identity(module, name='bias')\n",
        "\n",
        "for name, module in xavier_model.named_modules():\n",
        "    if isinstance(module, torch.nn.Conv2d) or isinstance(module, torch.nn.Linear):\n",
        "        prune.identity(module, name='weight')\n",
        "        prune.identity(module, name='bias')\n",
        "\n",
        "init_modules = [[name,module] for name, module in init_model.named_modules()]\n",
        "xavier_modueles = [[name,module] for name, module in xavier_model.named_modules()]\n",
        "trained_modules = [[name,module] for name, module in trained_model.named_modules()]\n",
        "\n",
        "for i in range(len(init_modules)):\n",
        "    if isinstance(init_modules[i][1], torch.nn.Conv2d) or isinstance(init_modules[i][1], torch.nn.Linear):\n",
        "        init_modules[i][1].weight_mask = copy.deepcopy(trained_modules[i][1].weight_mask) \n",
        "        init_modules[i][1].bias_mask = copy.deepcopy(trained_modules[i][1].bias_mask)\n",
        "\n",
        "for i in range(len(xavier_modueles)):\n",
        "    if isinstance(xavier_modueles[i][1], torch.nn.Conv2d) or isinstance(xavier_modueles[i][1], torch.nn.Linear):\n",
        "        xavier_modueles[i][1].weight_mask = copy.deepcopy(trained_modules[i][1].weight_mask) \n",
        "        xavier_modueles[i][1].bias_mask = copy.deepcopy(trained_modules[i][1].bias_mask)"
      ],
      "execution_count": null,
      "outputs": []
    },
    {
      "cell_type": "code",
      "metadata": {
        "id": "kgOi5hoO6UE1"
      },
      "source": [
        "print('Training the pruned and Xavier model')\n",
        "val_acc_lottery_x, train_acc_lottery_x, _, pruned_model_x ,_ = main(args,xavier_model,train_loader,val_loader,img_test_dataset)\n",
        "print('Training the pruned Init model')\n",
        "val_acc_lottery, train_acc_lottery, _, pruned_model ,_ = main(args,init_model,train_loader,val_loader,img_test_dataset)\n",
        "\n",
        "plt.plot(val_acc,c='blue',ls = 'dashed')\n",
        "plt.plot(train_acc,label='Train - full model',c='blue',ls = 'solid')\n",
        "plt.plot(val_acc_lottery,c='red',ls = 'dashed')\n",
        "plt.plot(train_acc_lottery,label='Train - Random',c='red',ls = 'solid')\n",
        "plt.plot(val_acc_lottery_x,c='green',ls = 'dashed')\n",
        "plt.plot(train_acc_lottery_x,label='Train - Xavier',c='green',ls = 'solid')\n",
        "plt.title('Lottery Tickets')\n",
        "plt.ylabel('Accuracy (%)')\n",
        "plt.xlabel('Epoch')\n",
        "plt.legend()\n",
        "plt.show()"
      ],
      "execution_count": null,
      "outputs": []
    },
    {
      "cell_type": "code",
      "metadata": {
        "id": "1Cw5w-DBPLbu"
      },
      "source": [
        ""
      ],
      "execution_count": null,
      "outputs": []
    },
    {
      "cell_type": "markdown",
      "metadata": {
        "id": "HvKe0LT5RePu"
      },
      "source": [
        "### Lottery Ticket in Keras\n",
        "\n",
        "Keras Option: https://github.com/google-research/lottery-ticket-hypothesis"
      ]
    },
    {
      "cell_type": "markdown",
      "metadata": {
        "id": "vUtwddoZ9J4P"
      },
      "source": [
        "## Distillation\n",
        "\n"
      ]
    },
    {
      "cell_type": "markdown",
      "metadata": {
        "id": "0JPlxMQOpVmE"
      },
      "source": [
        "Bigger neural nets are better for model performance but require significant memory, while smaller networks tend be be less accurate but are easier to deploy and use. \n",
        "\n",
        "Distillation is a technique which allows us to train smaller networks such that they mimic the outputs of the bigger network. The bigger network is called the teacher network wheras the smaller one is the student network. \n",
        "\n",
        "Distillation begins by training a teacher network. It then trains the student network with both the original labels and \"soft\" labels--the output of the teacher model. This lets us train the student network on unlabelled datasets, using the labeled given by the teacher network. "
      ]
    },
    {
      "cell_type": "markdown",
      "metadata": {
        "id": "FX6oKO3oDS5e"
      },
      "source": [
        "Let's begin by desiging a smaller network and training the parent model and also the small model using hard labels."
      ]
    },
    {
      "cell_type": "code",
      "metadata": {
        "id": "gHA10EuJrmjV"
      },
      "source": [
        "class Small_Animal_Net(nn.Module):\n",
        "    def __init__(self):\n",
        "        torch.manual_seed(32)\n",
        "        super(Small_Animal_Net, self).__init__()\n",
        "        self.fc1 = nn.Linear(3*32*32, 32)\n",
        "        self.fc2 = nn.Linear(32, 3)\n",
        "\n",
        "    def forward(self, x):\n",
        "        x = x.view(x.shape[0],-1)\n",
        "        x = F.leaky_relu(self.fc1(x))\n",
        "        x = self.fc2(x)\n",
        "        output = F.log_softmax(x, dim=1)\n",
        "        return output"
      ],
      "execution_count": null,
      "outputs": []
    },
    {
      "cell_type": "code",
      "metadata": {
        "id": "n-zsV74w3P8m"
      },
      "source": [
        "#Train the models \n",
        "args = {'test_batch_size': 1000,\n",
        "        'epochs': 200,\n",
        "        'momentum': 0.9,\n",
        "        'no_cuda': False,\n",
        "        'lr' : 5e-3,\n",
        "        'cross_entropy':True\n",
        "        }\n",
        "\n",
        "Bmodel = Big_Animal_Net()\n",
        "Smodel = Small_Animal_Net()\n",
        "\n",
        "val_acc_big, train_acc_big, _, trained_big_model ,_ = main(args,Bmodel,train_loader,val_loader,img_test_dataset)\n",
        "val_acc_small, train_acc_small, _, _ ,_ = main(args,Smodel,train_loader,val_loader,img_test_dataset)"
      ],
      "execution_count": null,
      "outputs": []
    },
    {
      "cell_type": "markdown",
      "metadata": {
        "id": "6b8BnQzOrb7t"
      },
      "source": [
        "Loss Function:\n",
        "\n",
        "We use the same cross entropy loss as before but we use both hard and soft labels to calculate loss. We cannot directly use the CrossEntropy Loss in Pytorch to calculate loss for soft labels. Hence we will exploit the relation between Cross Entropy and KL Divergence. \n",
        "\n",
        "Cross Entropy loss and KL Divergence are both related by: H(p,q) = H(p) + KL(p,q) where H(p,q) calculates cross entropy loss between distributions p and q wheras KL represents KL divergence. Here p is the probability distribution of soft_outputs which are constant and hence we can omit from the loss function.\n",
        "\n",
        "        L = (1 - alpha)*CE(outputs,ground_truth) + alpha * (T**2) *CE(outputs,soft_targets)\n",
        "        L = (1 - alpha)*CE(outputs,ground_truth) + alpha * (T**2) *KL(outputs,soft_targets)\n",
        "\n",
        "Here alpha and temperature are hyper parameters where temperatures is used to smoothen the outputs of the parent network. \n",
        "\n",
        "[Click to learn more about the relation](https://adventuresinmachinelearning.com/cross-entropy-kl-divergence/)"
      ]
    },
    {
      "cell_type": "code",
      "metadata": {
        "id": "nKhrkVwY6Wlq"
      },
      "source": [
        "def distillation_loss(args,soft_outputs, pred_logits, target):\n",
        "\n",
        "    alpha = args['alpha']\n",
        "    T = args['temperature']\n",
        "    dist_loss = (1. - alpha) * F.cross_entropy(pred_logits, target) + \\\n",
        "                    (alpha * (T ** 2)) * F.kl_div(F.log_softmax(pred_logits/T, dim=1),\n",
        "                             F.softmax(soft_outputs/T, dim=1))\n",
        "\n",
        "    return dist_loss"
      ],
      "execution_count": null,
      "outputs": []
    },
    {
      "cell_type": "code",
      "metadata": {
        "id": "dH5qZx-HQcDT"
      },
      "source": [
        "#Modified Train Functions \n",
        "def train_softmax_distillation(args, student_model,parent_model, device, train_loader, optimizer, epoch):\n",
        "    \n",
        "    student_model.train()\n",
        "    parent_model.eval()\n",
        "    for batch_idx, (data, target) in enumerate(train_loader):\n",
        "        data, target = data.to(device), target.to(device)\n",
        "        optimizer.zero_grad()\n",
        "        soft_outputs = parent_model(data)\n",
        "        pred_logits = student_model(data)\n",
        "        loss = distillation_loss(args,soft_outputs.detach(), pred_logits, target)\n",
        "        loss.backward()\n",
        "        optimizer.step()"
      ],
      "execution_count": null,
      "outputs": []
    },
    {
      "cell_type": "code",
      "metadata": {
        "id": "mXaMJOfVP0TL"
      },
      "source": [
        "#Modified Main Function\n",
        "def distilation_main(args, teacher_model,student_model,train_loader,val_loader):\n",
        "\n",
        "    use_cuda = not args['no_cuda'] and torch.cuda.is_available()\n",
        "    device = torch.device('cuda' if use_cuda else 'cpu')\n",
        "\n",
        "    student_model = student_model.to(device)\n",
        "    teacher_model = teacher_model.to(device)\n",
        "    optimizer = optim.SGD(student_model.parameters(), lr=args['lr'], momentum=args['momentum'])\n",
        "    val_acc_list = []\n",
        "    train_acc_list = []\n",
        "    for epoch in tqdm(range(1, args['epochs'] + 1)):\n",
        "        train_softmax_distillation(args, student_model,teacher_model, device, train_loader, optimizer, epoch)\n",
        "        train_acc = test(student_model,device,train_loader,'Train')\n",
        "        val_acc = test(student_model,device,val_loader,'Val')\n",
        "        val_acc_list.append(val_acc)\n",
        "        train_acc_list.append(train_acc)\n",
        "\n",
        "    return val_acc_list, train_acc_list, student_model"
      ],
      "execution_count": null,
      "outputs": []
    },
    {
      "cell_type": "markdown",
      "metadata": {
        "id": "o13VleaKFAtE"
      },
      "source": [
        "Now that we have everything ready let's train the student network."
      ]
    },
    {
      "cell_type": "code",
      "metadata": {
        "id": "Rp-5pGaeubLc"
      },
      "source": [
        "args = {'test_batch_size': 1000,\n",
        "        'epochs': 200,\n",
        "        'momentum': 0.9,\n",
        "        'no_cuda': False,\n",
        "        'lr' : 5e-3,\n",
        "        'alpha': 1,\n",
        "        'temperature': 40\n",
        "        }\n",
        "\n",
        "student_model = Small_Animal_Net()\n",
        "\n",
        "val_acc_st, train_acc_st, _, = distilation_main(args,trained_big_model,student_model,train_loader,val_loader)"
      ],
      "execution_count": null,
      "outputs": []
    },
    {
      "cell_type": "code",
      "metadata": {
        "id": "YtRFEj_Uwq1l"
      },
      "source": [
        "# Plot the validation curves of student and the original small model \n",
        "plt.plot(val_acc_small,label='Val - Small Model',c='red',ls = 'dashed')\n",
        "plt.axhline(y = max(val_acc_small),c = 'red')\n",
        "plt.plot(val_acc_st,label='Val - Student Model',c='green',ls = 'dashed')\n",
        "plt.axhline(y = max(val_acc_st),c = 'green')\n",
        "plt.title('Distillation')\n",
        "plt.ylabel('Accuracy (%)')\n",
        "plt.xlabel('Epoch')\n",
        "plt.legend()\n",
        "plt.show()"
      ],
      "execution_count": null,
      "outputs": []
    },
    {
      "cell_type": "markdown",
      "metadata": {
        "id": "ZXhCP6P5Snd_"
      },
      "source": [
        "This method not only provides a way to train small and better networks but also gives us a chance to train small networks on more data using the soft labels from the heavily optimized parent networks."
      ]
    },
    {
      "cell_type": "markdown",
      "metadata": {
        "id": "zUu5orrg0UHc"
      },
      "source": [
        "What other techniques can you use to reduce the dimensionality or size of the big network or the input data?"
      ]
    },
    {
      "cell_type": "markdown",
      "metadata": {
        "id": "8SsdI6tVz96F"
      },
      "source": [
        "Do you think regularization helps when you have infinite data available?"
      ]
    },
    {
      "cell_type": "markdown",
      "metadata": {
        "id": "MJZMeMTm1NG6"
      },
      "source": [
        "Which regualarization technique from this week do you think had the biggest effect on the network and why do you think so? Can you apply all of them on the same network?"
      ]
    },
    {
      "cell_type": "markdown",
      "metadata": {
        "id": "ExuS6qZMR__O"
      },
      "source": [
        "### Distillation in Keras\n",
        "\n",
        "https://keras.io/examples/vision/knowledge_distillation/"
      ]
    },
    {
      "cell_type": "markdown",
      "metadata": {
        "id": "OoH-ohSBQduT"
      },
      "source": [
        "# Homework Notebooks\n",
        "\n",
        "In the last notebook, you trained your own Keras or PyTorch models on data of your choice. In this notebook, you are going to use those models (you can also train new models), and use different optimization and regularisation techniques on them. \n",
        "\n",
        "You will be graded for 4 out of 6 of the modeling methods you use.\n",
        "\n",
        "**1)** Build or reuse an older model you have built, and use 3 different optimization techniques or methods on the model. For one of these models, add a batch normalization layer. "
      ]
    },
    {
      "cell_type": "code",
      "metadata": {
        "id": "kOuwL7DRQfJZ"
      },
      "source": [
        ""
      ],
      "execution_count": null,
      "outputs": []
    },
    {
      "cell_type": "markdown",
      "metadata": {
        "id": "51wu3oTEVk9I"
      },
      "source": [
        "**1a)** Which optimizer performed the best? How did Batch Normalization method effect your model?"
      ]
    },
    {
      "cell_type": "code",
      "metadata": {
        "id": "w_9p2XLKV6Sj"
      },
      "source": [
        ""
      ],
      "execution_count": null,
      "outputs": []
    },
    {
      "cell_type": "markdown",
      "metadata": {
        "id": "qaHT-vAbV6z0"
      },
      "source": [
        "**2)** Build or reuse an older model you have built, and use 3 different Regularization techniques or methods on the model. You will get bonus points if you use Pruning, Distillation, or the Lottery Ticket Hypothesis. "
      ]
    },
    {
      "cell_type": "code",
      "metadata": {
        "id": "acCw3oL6WK8j"
      },
      "source": [
        ""
      ],
      "execution_count": null,
      "outputs": []
    },
    {
      "cell_type": "markdown",
      "metadata": {
        "id": "-iSR_VtOWLrv"
      },
      "source": [
        "**2a)** Which regularisation technique worked best? "
      ]
    },
    {
      "cell_type": "code",
      "metadata": {
        "id": "SGAWOrAxWSEd"
      },
      "source": [
        ""
      ],
      "execution_count": null,
      "outputs": []
    }
  ]
}